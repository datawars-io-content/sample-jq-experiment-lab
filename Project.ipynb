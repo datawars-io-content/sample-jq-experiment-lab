{
 "cells": [
  {
   "cell_type": "code",
   "execution_count": 2,
   "id": "1a01101e-2847-4830-857c-0b3576b033db",
   "metadata": {},
   "outputs": [],
   "source": [
    "# import jq\n",
    "import json\n",
    "\n",
    "from pprint import pprint as pp"
   ]
  },
  {
   "attachments": {},
   "cell_type": "markdown",
   "id": "99846b4f-c67b-4f8e-bac6-e7eb6178c589",
   "metadata": {},
   "source": [
    "Preview of the JSON file we're dealing with:"
   ]
  },
  {
   "cell_type": "code",
   "execution_count": 3,
   "id": "8158f688-9c31-40a4-8ed1-ab94549e16e8",
   "metadata": {},
   "outputs": [
    {
     "name": "stdout",
     "output_type": "stream",
     "text": [
      "Total objects: 721\n",
      "{'Attack': 49,\n",
      " 'Defense': 49,\n",
      " 'Generation': 1,\n",
      " 'HP': 45,\n",
      " 'Legendary': False,\n",
      " 'Name': 'Bulbasaur',\n",
      " 'Sp. Atk': 65,\n",
      " 'Sp. Def': 65,\n",
      " 'Speed': 45,\n",
      " 'Total': 318,\n",
      " 'Type 1': 'Grass',\n",
      " 'Type 2': 'Poison'}\n"
     ]
    }
   ],
   "source": [
    "with open(\"pokemon.json\") as fp:\n",
    "    docs = json.load(fp)\n",
    "    print(f\"Total objects: {len(docs)}\")\n",
    "    pp(docs[0])"
   ]
  },
  {
   "cell_type": "code",
   "execution_count": 4,
   "id": "cba4a486-6f12-4582-9721-bf9fa8b794dc",
   "metadata": {},
   "outputs": [
    {
     "data": {
      "text/plain": [
       "'[{\"Name\": \"Bulbasaur\", \"Type 1\": \"Grass\", \"Type 2\": \"Poison\", \"Total\": 318, \"HP\": 45, \"Attack\": 49, \"Defense\": 49, \"Sp. Atk\": 65, \"Sp. Def\": 65, \"Speed\": 45, \"Generation\": 1, \"Legendary\": false}, {\"Name\": \"Ivysaur\", \"Type 1\": \"Grass\", \"Type 2\": \"Poison\", \"Total\": 405, \"HP\": 60, \"Attack\": 62, \"Defense\": 63, \"Sp. Atk\": 80, \"Sp. Def\": 80, \"Speed\": 60, \"Generation\": 1, \"Legendary\": false}, {\"Name\": \"Venusaur\", \"Type 1\": \"Grass\", \"Type 2\": \"Poison\", \"Total\": 525, \"HP\": 80, \"Attack\": 82, \"Defense\": 83, \"Sp. Atk\": 100, \"Sp. Def\": 100, \"Speed\": 80, \"Generation\": 1, \"Legendary\": false}, {\"Name\": \"Charmander\", \"Type 1\": \"Fire\", \"Type 2\": null, \"Total\": 309, \"HP\": 39, \"Attack\": 52, \"Defense\": 43, \"Sp. Atk\": 60, \"Sp. Def\": 50, \"Speed\": 65, \"Generation\": 1, \"Legendary\": false}, {\"Name\": \"Charmeleon\", \"Type 1\": \"Fire\", \"Type 2\": null, \"Total\": 405, \"HP\": 58, \"Attack\": 64, \"Defense\": 58, \"Sp. Atk\": 80, \"Sp. Def\": 65, \"Speed\": 80, \"Generation\": 1, \"Legendary\": false}]'"
      ]
     },
     "execution_count": 4,
     "metadata": {},
     "output_type": "execute_result"
    }
   ],
   "source": [
    "json.dumps(docs[:5])"
   ]
  },
  {
   "attachments": {},
   "cell_type": "markdown",
   "id": "17c83545-22ea-4700-a7b1-962d57ae3f6f",
   "metadata": {},
   "source": [
    "### Basic Usage"
   ]
  },
  {
   "attachments": {},
   "cell_type": "markdown",
   "id": "1304ff1f-c674-4224-996f-3a283fbcb1ef",
   "metadata": {},
   "source": [
    "##### 1) Write the expression to select the 100th Pokemon\n",
    "\n",
    "What's the jq expression used to select the `100th` pokemon? Enter it below:"
   ]
  },
  {
   "cell_type": "code",
   "execution_count": null,
   "id": "6a5f1d8d-6865-4cfb-ab5d-f3209119fe1d",
   "metadata": {},
   "outputs": [],
   "source": []
  },
  {
   "attachments": {},
   "cell_type": "markdown",
   "id": "cc26ebc3-98af-473b-b0b4-c1565452f2c4",
   "metadata": {},
   "source": [
    "Solution:"
   ]
  },
  {
   "cell_type": "code",
   "execution_count": 18,
   "id": "113b2b63-2939-47e5-bb40-69ac413b83a8",
   "metadata": {},
   "outputs": [
    {
     "name": "stdout",
     "output_type": "stream",
     "text": [
      "\u001b[1;39m{\n",
      "  \u001b[0m\u001b[34;1m\"Name\"\u001b[0m\u001b[1;39m: \u001b[0m\u001b[0;32m\"Voltorb\"\u001b[0m\u001b[1;39m,\n",
      "  \u001b[0m\u001b[34;1m\"Type 1\"\u001b[0m\u001b[1;39m: \u001b[0m\u001b[0;32m\"Electric\"\u001b[0m\u001b[1;39m,\n",
      "  \u001b[0m\u001b[34;1m\"Type 2\"\u001b[0m\u001b[1;39m: \u001b[0m\u001b[1;30mnull\u001b[0m\u001b[1;39m,\n",
      "  \u001b[0m\u001b[34;1m\"Total\"\u001b[0m\u001b[1;39m: \u001b[0m\u001b[0;39m330\u001b[0m\u001b[1;39m,\n",
      "  \u001b[0m\u001b[34;1m\"HP\"\u001b[0m\u001b[1;39m: \u001b[0m\u001b[0;39m40\u001b[0m\u001b[1;39m,\n",
      "  \u001b[0m\u001b[34;1m\"Attack\"\u001b[0m\u001b[1;39m: \u001b[0m\u001b[0;39m30\u001b[0m\u001b[1;39m,\n",
      "  \u001b[0m\u001b[34;1m\"Defense\"\u001b[0m\u001b[1;39m: \u001b[0m\u001b[0;39m50\u001b[0m\u001b[1;39m,\n",
      "  \u001b[0m\u001b[34;1m\"Sp. Atk\"\u001b[0m\u001b[1;39m: \u001b[0m\u001b[0;39m55\u001b[0m\u001b[1;39m,\n",
      "  \u001b[0m\u001b[34;1m\"Sp. Def\"\u001b[0m\u001b[1;39m: \u001b[0m\u001b[0;39m55\u001b[0m\u001b[1;39m,\n",
      "  \u001b[0m\u001b[34;1m\"Speed\"\u001b[0m\u001b[1;39m: \u001b[0m\u001b[0;39m100\u001b[0m\u001b[1;39m,\n",
      "  \u001b[0m\u001b[34;1m\"Generation\"\u001b[0m\u001b[1;39m: \u001b[0m\u001b[0;39m1\u001b[0m\u001b[1;39m,\n",
      "  \u001b[0m\u001b[34;1m\"Legendary\"\u001b[0m\u001b[1;39m: \u001b[0m\u001b[0;39mfalse\u001b[0m\u001b[1;39m\n",
      "\u001b[1;39m}\u001b[0m\n"
     ]
    }
   ],
   "source": [
    "!jq '.[99]' pokemon.json"
   ]
  },
  {
   "attachments": {},
   "cell_type": "markdown",
   "id": "d2f14e0e-1062-44ff-84a7-e9688416fc6a",
   "metadata": {},
   "source": [
    "##### 2) Select only the `Name`, `Type 1` and `Total` form the 255th pokemon.\n",
    "\n",
    "Write the expression to select values individually, your output should look something like:\n",
    "\n",
    "```\n",
    "\"Torchic\"\n",
    "\"Fire\"\n",
    "310\n",
    "```"
   ]
  },
  {
   "cell_type": "code",
   "execution_count": null,
   "id": "331f2a34-78c5-443e-b146-ffbcb0aec3b4",
   "metadata": {},
   "outputs": [],
   "source": []
  },
  {
   "attachments": {},
   "cell_type": "markdown",
   "id": "814429a0-54a1-4e43-ba45-8d08e2c3951b",
   "metadata": {},
   "source": [
    "Solution:"
   ]
  },
  {
   "cell_type": "code",
   "execution_count": 19,
   "id": "aacbf62e-36aa-423d-8332-bd193bdb1e68",
   "metadata": {},
   "outputs": [
    {
     "name": "stdout",
     "output_type": "stream",
     "text": [
      "\u001b[0;32m\"Torchic\"\u001b[0m\n",
      "\u001b[0;32m\"Fire\"\u001b[0m\n",
      "\u001b[0;39m310\u001b[0m\n"
     ]
    }
   ],
   "source": [
    "!jq '.[254] | .Name, .\"Type 1\", .Total' pokemon.json"
   ]
  },
  {
   "attachments": {},
   "cell_type": "markdown",
   "id": "9182535f-d343-498b-a4a4-208ebdaf3313",
   "metadata": {},
   "source": [
    "##### 3) Select `Name`, `Type 1`, and `Total` as an object\n",
    "\n",
    "Now we want to select the same values as before, but this time we want `jq` to return an object. Your expression should look like:\n",
    "\n",
    "```\n",
    "{\n",
    "  \"Name\": \"Torchic\",\n",
    "  \"Type 1\": \"Fire\",\n",
    "  \"Total\": 310\n",
    "}\n",
    "```"
   ]
  },
  {
   "attachments": {},
   "cell_type": "markdown",
   "id": "0857b6dd-1cf7-418d-99c6-5780d16a8fd4",
   "metadata": {},
   "source": [
    "Solution:"
   ]
  },
  {
   "cell_type": "code",
   "execution_count": 7,
   "id": "5b5d0ce4-1d02-47e3-af62-539def9c737a",
   "metadata": {},
   "outputs": [
    {
     "name": "stdout",
     "output_type": "stream",
     "text": [
      "\u001b[1;39m{\n",
      "  \u001b[0m\u001b[34;1m\"Name\"\u001b[0m\u001b[1;39m: \u001b[0m\u001b[0;32m\"Torchic\"\u001b[0m\u001b[1;39m,\n",
      "  \u001b[0m\u001b[34;1m\"Type 1\"\u001b[0m\u001b[1;39m: \u001b[0m\u001b[0;32m\"Fire\"\u001b[0m\u001b[1;39m,\n",
      "  \u001b[0m\u001b[34;1m\"Total\"\u001b[0m\u001b[1;39m: \u001b[0m\u001b[0;39m310\u001b[0m\u001b[1;39m\n",
      "\u001b[1;39m}\u001b[0m\n"
     ]
    }
   ],
   "source": [
    "!jq '.[254] | {Name, \"Type 1\", Total}' pokemon.json"
   ]
  },
  {
   "attachments": {},
   "cell_type": "markdown",
   "id": "75ddbc35-be7d-474d-b140-ff1d320c1656",
   "metadata": {},
   "source": [
    "##### 4) Write an expression to select the last 3 pokemons\n",
    "\n",
    "Write a slicing expression to select the last 3 pokemon"
   ]
  },
  {
   "cell_type": "code",
   "execution_count": null,
   "id": "6390cd24-371a-4d1a-a05a-dff1c3735b4a",
   "metadata": {},
   "outputs": [],
   "source": []
  },
  {
   "attachments": {},
   "cell_type": "markdown",
   "id": "9dfddc22-cfb7-490d-8b19-30d61b591e0f",
   "metadata": {},
   "source": [
    "Solution:"
   ]
  },
  {
   "cell_type": "code",
   "execution_count": 8,
   "id": "4b7547fa-6d65-45ab-901e-8ffbcc1a625b",
   "metadata": {},
   "outputs": [
    {
     "name": "stdout",
     "output_type": "stream",
     "text": [
      "\u001b[1;39m[\n",
      "  \u001b[1;39m{\n",
      "    \u001b[0m\u001b[34;1m\"Name\"\u001b[0m\u001b[1;39m: \u001b[0m\u001b[0;32m\"Diancie\"\u001b[0m\u001b[1;39m,\n",
      "    \u001b[0m\u001b[34;1m\"Type 1\"\u001b[0m\u001b[1;39m: \u001b[0m\u001b[0;32m\"Rock\"\u001b[0m\u001b[1;39m,\n",
      "    \u001b[0m\u001b[34;1m\"Type 2\"\u001b[0m\u001b[1;39m: \u001b[0m\u001b[0;32m\"Fairy\"\u001b[0m\u001b[1;39m,\n",
      "    \u001b[0m\u001b[34;1m\"Total\"\u001b[0m\u001b[1;39m: \u001b[0m\u001b[0;39m600\u001b[0m\u001b[1;39m,\n",
      "    \u001b[0m\u001b[34;1m\"HP\"\u001b[0m\u001b[1;39m: \u001b[0m\u001b[0;39m50\u001b[0m\u001b[1;39m,\n",
      "    \u001b[0m\u001b[34;1m\"Attack\"\u001b[0m\u001b[1;39m: \u001b[0m\u001b[0;39m100\u001b[0m\u001b[1;39m,\n",
      "    \u001b[0m\u001b[34;1m\"Defense\"\u001b[0m\u001b[1;39m: \u001b[0m\u001b[0;39m150\u001b[0m\u001b[1;39m,\n",
      "    \u001b[0m\u001b[34;1m\"Sp. Atk\"\u001b[0m\u001b[1;39m: \u001b[0m\u001b[0;39m100\u001b[0m\u001b[1;39m,\n",
      "    \u001b[0m\u001b[34;1m\"Sp. Def\"\u001b[0m\u001b[1;39m: \u001b[0m\u001b[0;39m150\u001b[0m\u001b[1;39m,\n",
      "    \u001b[0m\u001b[34;1m\"Speed\"\u001b[0m\u001b[1;39m: \u001b[0m\u001b[0;39m50\u001b[0m\u001b[1;39m,\n",
      "    \u001b[0m\u001b[34;1m\"Generation\"\u001b[0m\u001b[1;39m: \u001b[0m\u001b[0;39m6\u001b[0m\u001b[1;39m,\n",
      "    \u001b[0m\u001b[34;1m\"Legendary\"\u001b[0m\u001b[1;39m: \u001b[0m\u001b[0;39mtrue\u001b[0m\u001b[1;39m\n",
      "  \u001b[1;39m}\u001b[0m\u001b[1;39m,\n",
      "  \u001b[1;39m{\n",
      "    \u001b[0m\u001b[34;1m\"Name\"\u001b[0m\u001b[1;39m: \u001b[0m\u001b[0;32m\"HoopaHoopa Confined\"\u001b[0m\u001b[1;39m,\n",
      "    \u001b[0m\u001b[34;1m\"Type 1\"\u001b[0m\u001b[1;39m: \u001b[0m\u001b[0;32m\"Psychic\"\u001b[0m\u001b[1;39m,\n",
      "    \u001b[0m\u001b[34;1m\"Type 2\"\u001b[0m\u001b[1;39m: \u001b[0m\u001b[0;32m\"Ghost\"\u001b[0m\u001b[1;39m,\n",
      "    \u001b[0m\u001b[34;1m\"Total\"\u001b[0m\u001b[1;39m: \u001b[0m\u001b[0;39m600\u001b[0m\u001b[1;39m,\n",
      "    \u001b[0m\u001b[34;1m\"HP\"\u001b[0m\u001b[1;39m: \u001b[0m\u001b[0;39m80\u001b[0m\u001b[1;39m,\n",
      "    \u001b[0m\u001b[34;1m\"Attack\"\u001b[0m\u001b[1;39m: \u001b[0m\u001b[0;39m110\u001b[0m\u001b[1;39m,\n",
      "    \u001b[0m\u001b[34;1m\"Defense\"\u001b[0m\u001b[1;39m: \u001b[0m\u001b[0;39m60\u001b[0m\u001b[1;39m,\n",
      "    \u001b[0m\u001b[34;1m\"Sp. Atk\"\u001b[0m\u001b[1;39m: \u001b[0m\u001b[0;39m150\u001b[0m\u001b[1;39m,\n",
      "    \u001b[0m\u001b[34;1m\"Sp. Def\"\u001b[0m\u001b[1;39m: \u001b[0m\u001b[0;39m130\u001b[0m\u001b[1;39m,\n",
      "    \u001b[0m\u001b[34;1m\"Speed\"\u001b[0m\u001b[1;39m: \u001b[0m\u001b[0;39m70\u001b[0m\u001b[1;39m,\n",
      "    \u001b[0m\u001b[34;1m\"Generation\"\u001b[0m\u001b[1;39m: \u001b[0m\u001b[0;39m6\u001b[0m\u001b[1;39m,\n",
      "    \u001b[0m\u001b[34;1m\"Legendary\"\u001b[0m\u001b[1;39m: \u001b[0m\u001b[0;39mtrue\u001b[0m\u001b[1;39m\n",
      "  \u001b[1;39m}\u001b[0m\u001b[1;39m,\n",
      "  \u001b[1;39m{\n",
      "    \u001b[0m\u001b[34;1m\"Name\"\u001b[0m\u001b[1;39m: \u001b[0m\u001b[0;32m\"Volcanion\"\u001b[0m\u001b[1;39m,\n",
      "    \u001b[0m\u001b[34;1m\"Type 1\"\u001b[0m\u001b[1;39m: \u001b[0m\u001b[0;32m\"Fire\"\u001b[0m\u001b[1;39m,\n",
      "    \u001b[0m\u001b[34;1m\"Type 2\"\u001b[0m\u001b[1;39m: \u001b[0m\u001b[0;32m\"Water\"\u001b[0m\u001b[1;39m,\n",
      "    \u001b[0m\u001b[34;1m\"Total\"\u001b[0m\u001b[1;39m: \u001b[0m\u001b[0;39m600\u001b[0m\u001b[1;39m,\n",
      "    \u001b[0m\u001b[34;1m\"HP\"\u001b[0m\u001b[1;39m: \u001b[0m\u001b[0;39m80\u001b[0m\u001b[1;39m,\n",
      "    \u001b[0m\u001b[34;1m\"Attack\"\u001b[0m\u001b[1;39m: \u001b[0m\u001b[0;39m110\u001b[0m\u001b[1;39m,\n",
      "    \u001b[0m\u001b[34;1m\"Defense\"\u001b[0m\u001b[1;39m: \u001b[0m\u001b[0;39m120\u001b[0m\u001b[1;39m,\n",
      "    \u001b[0m\u001b[34;1m\"Sp. Atk\"\u001b[0m\u001b[1;39m: \u001b[0m\u001b[0;39m130\u001b[0m\u001b[1;39m,\n",
      "    \u001b[0m\u001b[34;1m\"Sp. Def\"\u001b[0m\u001b[1;39m: \u001b[0m\u001b[0;39m90\u001b[0m\u001b[1;39m,\n",
      "    \u001b[0m\u001b[34;1m\"Speed\"\u001b[0m\u001b[1;39m: \u001b[0m\u001b[0;39m70\u001b[0m\u001b[1;39m,\n",
      "    \u001b[0m\u001b[34;1m\"Generation\"\u001b[0m\u001b[1;39m: \u001b[0m\u001b[0;39m6\u001b[0m\u001b[1;39m,\n",
      "    \u001b[0m\u001b[34;1m\"Legendary\"\u001b[0m\u001b[1;39m: \u001b[0m\u001b[0;39mtrue\u001b[0m\u001b[1;39m\n",
      "  \u001b[1;39m}\u001b[0m\u001b[1;39m\n",
      "\u001b[1;39m]\u001b[0m\n"
     ]
    }
   ],
   "source": [
    "!jq '.[-3:]' pokemon.json"
   ]
  },
  {
   "attachments": {},
   "cell_type": "markdown",
   "id": "f01e9dfb-72c3-43eb-a351-046d75ddf325",
   "metadata": {},
   "source": [
    "### Statistical methods"
   ]
  },
  {
   "attachments": {},
   "cell_type": "markdown",
   "id": "a83ba619-9841-436a-899c-acb5756df5b2",
   "metadata": {},
   "source": [
    "##### 5) Write an expression to find the total number of Pokemon"
   ]
  },
  {
   "cell_type": "code",
   "execution_count": null,
   "id": "1d1d2764-df7d-4684-b3db-f8cf1d054951",
   "metadata": {},
   "outputs": [],
   "source": []
  },
  {
   "attachments": {},
   "cell_type": "markdown",
   "id": "4953d646-6506-46cb-a446-a3501afc6cc3",
   "metadata": {},
   "source": [
    "Solution:"
   ]
  },
  {
   "cell_type": "code",
   "execution_count": 9,
   "id": "44a9d97c-4cc9-4de0-921d-dee7827c320d",
   "metadata": {},
   "outputs": [
    {
     "name": "stdout",
     "output_type": "stream",
     "text": [
      "\u001b[0;39m721\u001b[0m\n"
     ]
    }
   ],
   "source": [
    "!jq 'length' pokemon.json"
   ]
  },
  {
   "attachments": {},
   "cell_type": "markdown",
   "id": "729d19bd-ba88-4f4e-af18-a766a4b93648",
   "metadata": {},
   "source": [
    "##### 6) Write an expression to select the maximum value of `Total`"
   ]
  },
  {
   "cell_type": "code",
   "execution_count": null,
   "id": "66d988a9-4bf3-405d-8eb9-828d72f209ee",
   "metadata": {},
   "outputs": [],
   "source": []
  },
  {
   "attachments": {},
   "cell_type": "markdown",
   "id": "36c2ce70-8009-4764-b817-42bc94af1fb7",
   "metadata": {},
   "source": [
    "Solution:"
   ]
  },
  {
   "cell_type": "code",
   "execution_count": 10,
   "id": "a118262e-a056-40ef-b9a8-328ef65a05cb",
   "metadata": {},
   "outputs": [
    {
     "name": "stdout",
     "output_type": "stream",
     "text": [
      "\u001b[0;39m720\u001b[0m\n"
     ]
    }
   ],
   "source": [
    "!jq 'max_by(.Total) | .Total' pokemon.json"
   ]
  },
  {
   "attachments": {},
   "cell_type": "markdown",
   "id": "0977f81d-962d-4ca6-93c3-509b321da774",
   "metadata": {},
   "source": [
    "##### 7) Write an expression to find the average value of `Total`"
   ]
  },
  {
   "cell_type": "code",
   "execution_count": null,
   "id": "6f7541f5-ee62-4163-aab9-362a15341c9b",
   "metadata": {},
   "outputs": [],
   "source": []
  },
  {
   "attachments": {},
   "cell_type": "markdown",
   "id": "97be5ccf-3ec4-4263-b0b5-cc15b02a3fad",
   "metadata": {},
   "source": [
    "Solution:"
   ]
  },
  {
   "cell_type": "code",
   "execution_count": 11,
   "id": "85d93ef6-3fb0-4af5-b75f-c298800fcfaa",
   "metadata": {},
   "outputs": [
    {
     "name": "stdout",
     "output_type": "stream",
     "text": [
      "\u001b[0;39m417.94590846047157\u001b[0m\n"
     ]
    }
   ],
   "source": [
    "!jq '[.[] | .Total] | add / length' pokemon.json"
   ]
  },
  {
   "attachments": {},
   "cell_type": "markdown",
   "id": "59362a67-15a4-44fe-a066-712a471855d6",
   "metadata": {},
   "source": [
    "### Selection (Filtering)"
   ]
  },
  {
   "attachments": {},
   "cell_type": "markdown",
   "id": "1ae52e60-e144-48cb-b356-bf66ec53de7b",
   "metadata": {},
   "source": [
    "##### 8) Select the pokemons that have an `Attack` greater than 150"
   ]
  },
  {
   "cell_type": "code",
   "execution_count": null,
   "id": "619580a6-a093-45a5-8317-d79adbf1f8da",
   "metadata": {},
   "outputs": [],
   "source": []
  },
  {
   "attachments": {},
   "cell_type": "markdown",
   "id": "39078c29-8c1b-435f-a48e-c5d07c27f49b",
   "metadata": {},
   "source": [
    "Solution:"
   ]
  },
  {
   "cell_type": "code",
   "execution_count": 12,
   "id": "06740188-4e22-4e72-ade0-31baa6d9b002",
   "metadata": {},
   "outputs": [
    {
     "name": "stdout",
     "output_type": "stream",
     "text": [
      "\u001b[1;39m{\n",
      "  \u001b[0m\u001b[34;1m\"Name\"\u001b[0m\u001b[1;39m: \u001b[0m\u001b[0;32m\"Slaking\"\u001b[0m\u001b[1;39m,\n",
      "  \u001b[0m\u001b[34;1m\"Type 1\"\u001b[0m\u001b[1;39m: \u001b[0m\u001b[0;32m\"Normal\"\u001b[0m\u001b[1;39m,\n",
      "  \u001b[0m\u001b[34;1m\"Type 2\"\u001b[0m\u001b[1;39m: \u001b[0m\u001b[1;30mnull\u001b[0m\u001b[1;39m,\n",
      "  \u001b[0m\u001b[34;1m\"Total\"\u001b[0m\u001b[1;39m: \u001b[0m\u001b[0;39m670\u001b[0m\u001b[1;39m,\n",
      "  \u001b[0m\u001b[34;1m\"HP\"\u001b[0m\u001b[1;39m: \u001b[0m\u001b[0;39m150\u001b[0m\u001b[1;39m,\n",
      "  \u001b[0m\u001b[34;1m\"Attack\"\u001b[0m\u001b[1;39m: \u001b[0m\u001b[0;39m160\u001b[0m\u001b[1;39m,\n",
      "  \u001b[0m\u001b[34;1m\"Defense\"\u001b[0m\u001b[1;39m: \u001b[0m\u001b[0;39m100\u001b[0m\u001b[1;39m,\n",
      "  \u001b[0m\u001b[34;1m\"Sp. Atk\"\u001b[0m\u001b[1;39m: \u001b[0m\u001b[0;39m95\u001b[0m\u001b[1;39m,\n",
      "  \u001b[0m\u001b[34;1m\"Sp. Def\"\u001b[0m\u001b[1;39m: \u001b[0m\u001b[0;39m65\u001b[0m\u001b[1;39m,\n",
      "  \u001b[0m\u001b[34;1m\"Speed\"\u001b[0m\u001b[1;39m: \u001b[0m\u001b[0;39m100\u001b[0m\u001b[1;39m,\n",
      "  \u001b[0m\u001b[34;1m\"Generation\"\u001b[0m\u001b[1;39m: \u001b[0m\u001b[0;39m3\u001b[0m\u001b[1;39m,\n",
      "  \u001b[0m\u001b[34;1m\"Legendary\"\u001b[0m\u001b[1;39m: \u001b[0m\u001b[0;39mfalse\u001b[0m\u001b[1;39m\n",
      "\u001b[1;39m}\u001b[0m\n",
      "\u001b[1;39m{\n",
      "  \u001b[0m\u001b[34;1m\"Name\"\u001b[0m\u001b[1;39m: \u001b[0m\u001b[0;32m\"Rampardos\"\u001b[0m\u001b[1;39m,\n",
      "  \u001b[0m\u001b[34;1m\"Type 1\"\u001b[0m\u001b[1;39m: \u001b[0m\u001b[0;32m\"Rock\"\u001b[0m\u001b[1;39m,\n",
      "  \u001b[0m\u001b[34;1m\"Type 2\"\u001b[0m\u001b[1;39m: \u001b[0m\u001b[1;30mnull\u001b[0m\u001b[1;39m,\n",
      "  \u001b[0m\u001b[34;1m\"Total\"\u001b[0m\u001b[1;39m: \u001b[0m\u001b[0;39m495\u001b[0m\u001b[1;39m,\n",
      "  \u001b[0m\u001b[34;1m\"HP\"\u001b[0m\u001b[1;39m: \u001b[0m\u001b[0;39m97\u001b[0m\u001b[1;39m,\n",
      "  \u001b[0m\u001b[34;1m\"Attack\"\u001b[0m\u001b[1;39m: \u001b[0m\u001b[0;39m165\u001b[0m\u001b[1;39m,\n",
      "  \u001b[0m\u001b[34;1m\"Defense\"\u001b[0m\u001b[1;39m: \u001b[0m\u001b[0;39m60\u001b[0m\u001b[1;39m,\n",
      "  \u001b[0m\u001b[34;1m\"Sp. Atk\"\u001b[0m\u001b[1;39m: \u001b[0m\u001b[0;39m65\u001b[0m\u001b[1;39m,\n",
      "  \u001b[0m\u001b[34;1m\"Sp. Def\"\u001b[0m\u001b[1;39m: \u001b[0m\u001b[0;39m50\u001b[0m\u001b[1;39m,\n",
      "  \u001b[0m\u001b[34;1m\"Speed\"\u001b[0m\u001b[1;39m: \u001b[0m\u001b[0;39m58\u001b[0m\u001b[1;39m,\n",
      "  \u001b[0m\u001b[34;1m\"Generation\"\u001b[0m\u001b[1;39m: \u001b[0m\u001b[0;39m4\u001b[0m\u001b[1;39m,\n",
      "  \u001b[0m\u001b[34;1m\"Legendary\"\u001b[0m\u001b[1;39m: \u001b[0m\u001b[0;39mfalse\u001b[0m\u001b[1;39m\n",
      "\u001b[1;39m}\u001b[0m\n",
      "\u001b[1;39m{\n",
      "  \u001b[0m\u001b[34;1m\"Name\"\u001b[0m\u001b[1;39m: \u001b[0m\u001b[0;32m\"Regigigas\"\u001b[0m\u001b[1;39m,\n",
      "  \u001b[0m\u001b[34;1m\"Type 1\"\u001b[0m\u001b[1;39m: \u001b[0m\u001b[0;32m\"Normal\"\u001b[0m\u001b[1;39m,\n",
      "  \u001b[0m\u001b[34;1m\"Type 2\"\u001b[0m\u001b[1;39m: \u001b[0m\u001b[1;30mnull\u001b[0m\u001b[1;39m,\n",
      "  \u001b[0m\u001b[34;1m\"Total\"\u001b[0m\u001b[1;39m: \u001b[0m\u001b[0;39m670\u001b[0m\u001b[1;39m,\n",
      "  \u001b[0m\u001b[34;1m\"HP\"\u001b[0m\u001b[1;39m: \u001b[0m\u001b[0;39m110\u001b[0m\u001b[1;39m,\n",
      "  \u001b[0m\u001b[34;1m\"Attack\"\u001b[0m\u001b[1;39m: \u001b[0m\u001b[0;39m160\u001b[0m\u001b[1;39m,\n",
      "  \u001b[0m\u001b[34;1m\"Defense\"\u001b[0m\u001b[1;39m: \u001b[0m\u001b[0;39m110\u001b[0m\u001b[1;39m,\n",
      "  \u001b[0m\u001b[34;1m\"Sp. Atk\"\u001b[0m\u001b[1;39m: \u001b[0m\u001b[0;39m80\u001b[0m\u001b[1;39m,\n",
      "  \u001b[0m\u001b[34;1m\"Sp. Def\"\u001b[0m\u001b[1;39m: \u001b[0m\u001b[0;39m110\u001b[0m\u001b[1;39m,\n",
      "  \u001b[0m\u001b[34;1m\"Speed\"\u001b[0m\u001b[1;39m: \u001b[0m\u001b[0;39m100\u001b[0m\u001b[1;39m,\n",
      "  \u001b[0m\u001b[34;1m\"Generation\"\u001b[0m\u001b[1;39m: \u001b[0m\u001b[0;39m4\u001b[0m\u001b[1;39m,\n",
      "  \u001b[0m\u001b[34;1m\"Legendary\"\u001b[0m\u001b[1;39m: \u001b[0m\u001b[0;39mtrue\u001b[0m\u001b[1;39m\n",
      "\u001b[1;39m}\u001b[0m\n"
     ]
    }
   ],
   "source": [
    "!jq '.[] | select(.Attack > 150)' pokemon.json"
   ]
  },
  {
   "attachments": {},
   "cell_type": "markdown",
   "id": "4ed2a2b7-b56e-4aa7-a5cd-0b7a3bd9e611",
   "metadata": {},
   "source": [
    "##### 9) Select only the `Name` and `Total` properties from pokemons that have a `Total` greater than 650"
   ]
  },
  {
   "cell_type": "code",
   "execution_count": null,
   "id": "76d72cd4-2211-456b-a298-bcd1d9ae18f8",
   "metadata": {},
   "outputs": [],
   "source": []
  },
  {
   "attachments": {},
   "cell_type": "markdown",
   "id": "fe171697-f925-4bf8-872b-74fcf9ec4229",
   "metadata": {},
   "source": [
    "Solution:"
   ]
  },
  {
   "cell_type": "code",
   "execution_count": 13,
   "id": "098b1e27-8cd1-49cb-9fe1-68ac61ca6653",
   "metadata": {},
   "outputs": [
    {
     "name": "stdout",
     "output_type": "stream",
     "text": [
      "\u001b[1;39m[\n",
      "  \u001b[1;39m{\n",
      "    \u001b[0m\u001b[34;1m\"Name\"\u001b[0m\u001b[1;39m: \u001b[0m\u001b[0;32m\"Mewtwo\"\u001b[0m\u001b[1;39m,\n",
      "    \u001b[0m\u001b[34;1m\"Total\"\u001b[0m\u001b[1;39m: \u001b[0m\u001b[0;39m680\u001b[0m\u001b[1;39m\n",
      "  \u001b[1;39m}\u001b[0m\u001b[1;39m,\n",
      "  \u001b[1;39m{\n",
      "    \u001b[0m\u001b[34;1m\"Name\"\u001b[0m\u001b[1;39m: \u001b[0m\u001b[0;32m\"Lugia\"\u001b[0m\u001b[1;39m,\n",
      "    \u001b[0m\u001b[34;1m\"Total\"\u001b[0m\u001b[1;39m: \u001b[0m\u001b[0;39m680\u001b[0m\u001b[1;39m\n",
      "  \u001b[1;39m}\u001b[0m\u001b[1;39m,\n",
      "  \u001b[1;39m{\n",
      "    \u001b[0m\u001b[34;1m\"Name\"\u001b[0m\u001b[1;39m: \u001b[0m\u001b[0;32m\"Ho-oh\"\u001b[0m\u001b[1;39m,\n",
      "    \u001b[0m\u001b[34;1m\"Total\"\u001b[0m\u001b[1;39m: \u001b[0m\u001b[0;39m680\u001b[0m\u001b[1;39m\n",
      "  \u001b[1;39m}\u001b[0m\u001b[1;39m,\n",
      "  \u001b[1;39m{\n",
      "    \u001b[0m\u001b[34;1m\"Name\"\u001b[0m\u001b[1;39m: \u001b[0m\u001b[0;32m\"Slaking\"\u001b[0m\u001b[1;39m,\n",
      "    \u001b[0m\u001b[34;1m\"Total\"\u001b[0m\u001b[1;39m: \u001b[0m\u001b[0;39m670\u001b[0m\u001b[1;39m\n",
      "  \u001b[1;39m}\u001b[0m\u001b[1;39m,\n",
      "  \u001b[1;39m{\n",
      "    \u001b[0m\u001b[34;1m\"Name\"\u001b[0m\u001b[1;39m: \u001b[0m\u001b[0;32m\"Kyogre\"\u001b[0m\u001b[1;39m,\n",
      "    \u001b[0m\u001b[34;1m\"Total\"\u001b[0m\u001b[1;39m: \u001b[0m\u001b[0;39m670\u001b[0m\u001b[1;39m\n",
      "  \u001b[1;39m}\u001b[0m\u001b[1;39m,\n",
      "  \u001b[1;39m{\n",
      "    \u001b[0m\u001b[34;1m\"Name\"\u001b[0m\u001b[1;39m: \u001b[0m\u001b[0;32m\"Groudon\"\u001b[0m\u001b[1;39m,\n",
      "    \u001b[0m\u001b[34;1m\"Total\"\u001b[0m\u001b[1;39m: \u001b[0m\u001b[0;39m670\u001b[0m\u001b[1;39m\n",
      "  \u001b[1;39m}\u001b[0m\u001b[1;39m,\n",
      "  \u001b[1;39m{\n",
      "    \u001b[0m\u001b[34;1m\"Name\"\u001b[0m\u001b[1;39m: \u001b[0m\u001b[0;32m\"Rayquaza\"\u001b[0m\u001b[1;39m,\n",
      "    \u001b[0m\u001b[34;1m\"Total\"\u001b[0m\u001b[1;39m: \u001b[0m\u001b[0;39m680\u001b[0m\u001b[1;39m\n",
      "  \u001b[1;39m}\u001b[0m\u001b[1;39m,\n",
      "  \u001b[1;39m{\n",
      "    \u001b[0m\u001b[34;1m\"Name\"\u001b[0m\u001b[1;39m: \u001b[0m\u001b[0;32m\"Dialga\"\u001b[0m\u001b[1;39m,\n",
      "    \u001b[0m\u001b[34;1m\"Total\"\u001b[0m\u001b[1;39m: \u001b[0m\u001b[0;39m680\u001b[0m\u001b[1;39m\n",
      "  \u001b[1;39m}\u001b[0m\u001b[1;39m,\n",
      "  \u001b[1;39m{\n",
      "    \u001b[0m\u001b[34;1m\"Name\"\u001b[0m\u001b[1;39m: \u001b[0m\u001b[0;32m\"Palkia\"\u001b[0m\u001b[1;39m,\n",
      "    \u001b[0m\u001b[34;1m\"Total\"\u001b[0m\u001b[1;39m: \u001b[0m\u001b[0;39m680\u001b[0m\u001b[1;39m\n",
      "  \u001b[1;39m}\u001b[0m\u001b[1;39m,\n",
      "  \u001b[1;39m{\n",
      "    \u001b[0m\u001b[34;1m\"Name\"\u001b[0m\u001b[1;39m: \u001b[0m\u001b[0;32m\"Regigigas\"\u001b[0m\u001b[1;39m,\n",
      "    \u001b[0m\u001b[34;1m\"Total\"\u001b[0m\u001b[1;39m: \u001b[0m\u001b[0;39m670\u001b[0m\u001b[1;39m\n",
      "  \u001b[1;39m}\u001b[0m\u001b[1;39m,\n",
      "  \u001b[1;39m{\n",
      "    \u001b[0m\u001b[34;1m\"Name\"\u001b[0m\u001b[1;39m: \u001b[0m\u001b[0;32m\"GiratinaAltered Forme\"\u001b[0m\u001b[1;39m,\n",
      "    \u001b[0m\u001b[34;1m\"Total\"\u001b[0m\u001b[1;39m: \u001b[0m\u001b[0;39m680\u001b[0m\u001b[1;39m\n",
      "  \u001b[1;39m}\u001b[0m\u001b[1;39m,\n",
      "  \u001b[1;39m{\n",
      "    \u001b[0m\u001b[34;1m\"Name\"\u001b[0m\u001b[1;39m: \u001b[0m\u001b[0;32m\"Arceus\"\u001b[0m\u001b[1;39m,\n",
      "    \u001b[0m\u001b[34;1m\"Total\"\u001b[0m\u001b[1;39m: \u001b[0m\u001b[0;39m720\u001b[0m\u001b[1;39m\n",
      "  \u001b[1;39m}\u001b[0m\u001b[1;39m,\n",
      "  \u001b[1;39m{\n",
      "    \u001b[0m\u001b[34;1m\"Name\"\u001b[0m\u001b[1;39m: \u001b[0m\u001b[0;32m\"Reshiram\"\u001b[0m\u001b[1;39m,\n",
      "    \u001b[0m\u001b[34;1m\"Total\"\u001b[0m\u001b[1;39m: \u001b[0m\u001b[0;39m680\u001b[0m\u001b[1;39m\n",
      "  \u001b[1;39m}\u001b[0m\u001b[1;39m,\n",
      "  \u001b[1;39m{\n",
      "    \u001b[0m\u001b[34;1m\"Name\"\u001b[0m\u001b[1;39m: \u001b[0m\u001b[0;32m\"Zekrom\"\u001b[0m\u001b[1;39m,\n",
      "    \u001b[0m\u001b[34;1m\"Total\"\u001b[0m\u001b[1;39m: \u001b[0m\u001b[0;39m680\u001b[0m\u001b[1;39m\n",
      "  \u001b[1;39m}\u001b[0m\u001b[1;39m,\n",
      "  \u001b[1;39m{\n",
      "    \u001b[0m\u001b[34;1m\"Name\"\u001b[0m\u001b[1;39m: \u001b[0m\u001b[0;32m\"Kyurem\"\u001b[0m\u001b[1;39m,\n",
      "    \u001b[0m\u001b[34;1m\"Total\"\u001b[0m\u001b[1;39m: \u001b[0m\u001b[0;39m660\u001b[0m\u001b[1;39m\n",
      "  \u001b[1;39m}\u001b[0m\u001b[1;39m,\n",
      "  \u001b[1;39m{\n",
      "    \u001b[0m\u001b[34;1m\"Name\"\u001b[0m\u001b[1;39m: \u001b[0m\u001b[0;32m\"Xerneas\"\u001b[0m\u001b[1;39m,\n",
      "    \u001b[0m\u001b[34;1m\"Total\"\u001b[0m\u001b[1;39m: \u001b[0m\u001b[0;39m680\u001b[0m\u001b[1;39m\n",
      "  \u001b[1;39m}\u001b[0m\u001b[1;39m,\n",
      "  \u001b[1;39m{\n",
      "    \u001b[0m\u001b[34;1m\"Name\"\u001b[0m\u001b[1;39m: \u001b[0m\u001b[0;32m\"Yveltal\"\u001b[0m\u001b[1;39m,\n",
      "    \u001b[0m\u001b[34;1m\"Total\"\u001b[0m\u001b[1;39m: \u001b[0m\u001b[0;39m680\u001b[0m\u001b[1;39m\n",
      "  \u001b[1;39m}\u001b[0m\u001b[1;39m\n",
      "\u001b[1;39m]\u001b[0m\n"
     ]
    }
   ],
   "source": [
    "!jq '[ .[] | select(.Total > 650) | {Name, Total} ]' pokemon.json"
   ]
  },
  {
   "attachments": {},
   "cell_type": "markdown",
   "id": "d1ba8ce9-7bf9-45b8-99f5-32b12a61e6cb",
   "metadata": {},
   "source": [
    "##### 10) Select all the pokemons that have a `Type 2` value set\n",
    "\n",
    "That is, `Type 2` is not null. Limit your results to the first 5 results."
   ]
  },
  {
   "cell_type": "code",
   "execution_count": null,
   "id": "56f37504-4461-49dd-80d4-88be279ed0d1",
   "metadata": {},
   "outputs": [],
   "source": []
  },
  {
   "attachments": {},
   "cell_type": "markdown",
   "id": "2d8d5dbf-7a19-477a-a2b9-c53aa8693703",
   "metadata": {},
   "source": [
    "Solution:"
   ]
  },
  {
   "cell_type": "code",
   "execution_count": 14,
   "id": "78016574-0c29-40e9-af3f-d77c56175e71",
   "metadata": {},
   "outputs": [
    {
     "name": "stdout",
     "output_type": "stream",
     "text": [
      "\u001b[1;39m[\n",
      "  \u001b[1;39m{\n",
      "    \u001b[0m\u001b[34;1m\"Name\"\u001b[0m\u001b[1;39m: \u001b[0m\u001b[0;32m\"Bulbasaur\"\u001b[0m\u001b[1;39m,\n",
      "    \u001b[0m\u001b[34;1m\"Type 1\"\u001b[0m\u001b[1;39m: \u001b[0m\u001b[0;32m\"Grass\"\u001b[0m\u001b[1;39m,\n",
      "    \u001b[0m\u001b[34;1m\"Type 2\"\u001b[0m\u001b[1;39m: \u001b[0m\u001b[0;32m\"Poison\"\u001b[0m\u001b[1;39m,\n",
      "    \u001b[0m\u001b[34;1m\"Total\"\u001b[0m\u001b[1;39m: \u001b[0m\u001b[0;39m318\u001b[0m\u001b[1;39m,\n",
      "    \u001b[0m\u001b[34;1m\"HP\"\u001b[0m\u001b[1;39m: \u001b[0m\u001b[0;39m45\u001b[0m\u001b[1;39m,\n",
      "    \u001b[0m\u001b[34;1m\"Attack\"\u001b[0m\u001b[1;39m: \u001b[0m\u001b[0;39m49\u001b[0m\u001b[1;39m,\n",
      "    \u001b[0m\u001b[34;1m\"Defense\"\u001b[0m\u001b[1;39m: \u001b[0m\u001b[0;39m49\u001b[0m\u001b[1;39m,\n",
      "    \u001b[0m\u001b[34;1m\"Sp. Atk\"\u001b[0m\u001b[1;39m: \u001b[0m\u001b[0;39m65\u001b[0m\u001b[1;39m,\n",
      "    \u001b[0m\u001b[34;1m\"Sp. Def\"\u001b[0m\u001b[1;39m: \u001b[0m\u001b[0;39m65\u001b[0m\u001b[1;39m,\n",
      "    \u001b[0m\u001b[34;1m\"Speed\"\u001b[0m\u001b[1;39m: \u001b[0m\u001b[0;39m45\u001b[0m\u001b[1;39m,\n",
      "    \u001b[0m\u001b[34;1m\"Generation\"\u001b[0m\u001b[1;39m: \u001b[0m\u001b[0;39m1\u001b[0m\u001b[1;39m,\n",
      "    \u001b[0m\u001b[34;1m\"Legendary\"\u001b[0m\u001b[1;39m: \u001b[0m\u001b[0;39mfalse\u001b[0m\u001b[1;39m\n",
      "  \u001b[1;39m}\u001b[0m\u001b[1;39m,\n",
      "  \u001b[1;39m{\n",
      "    \u001b[0m\u001b[34;1m\"Name\"\u001b[0m\u001b[1;39m: \u001b[0m\u001b[0;32m\"Ivysaur\"\u001b[0m\u001b[1;39m,\n",
      "    \u001b[0m\u001b[34;1m\"Type 1\"\u001b[0m\u001b[1;39m: \u001b[0m\u001b[0;32m\"Grass\"\u001b[0m\u001b[1;39m,\n",
      "    \u001b[0m\u001b[34;1m\"Type 2\"\u001b[0m\u001b[1;39m: \u001b[0m\u001b[0;32m\"Poison\"\u001b[0m\u001b[1;39m,\n",
      "    \u001b[0m\u001b[34;1m\"Total\"\u001b[0m\u001b[1;39m: \u001b[0m\u001b[0;39m405\u001b[0m\u001b[1;39m,\n",
      "    \u001b[0m\u001b[34;1m\"HP\"\u001b[0m\u001b[1;39m: \u001b[0m\u001b[0;39m60\u001b[0m\u001b[1;39m,\n",
      "    \u001b[0m\u001b[34;1m\"Attack\"\u001b[0m\u001b[1;39m: \u001b[0m\u001b[0;39m62\u001b[0m\u001b[1;39m,\n",
      "    \u001b[0m\u001b[34;1m\"Defense\"\u001b[0m\u001b[1;39m: \u001b[0m\u001b[0;39m63\u001b[0m\u001b[1;39m,\n",
      "    \u001b[0m\u001b[34;1m\"Sp. Atk\"\u001b[0m\u001b[1;39m: \u001b[0m\u001b[0;39m80\u001b[0m\u001b[1;39m,\n",
      "    \u001b[0m\u001b[34;1m\"Sp. Def\"\u001b[0m\u001b[1;39m: \u001b[0m\u001b[0;39m80\u001b[0m\u001b[1;39m,\n",
      "    \u001b[0m\u001b[34;1m\"Speed\"\u001b[0m\u001b[1;39m: \u001b[0m\u001b[0;39m60\u001b[0m\u001b[1;39m,\n",
      "    \u001b[0m\u001b[34;1m\"Generation\"\u001b[0m\u001b[1;39m: \u001b[0m\u001b[0;39m1\u001b[0m\u001b[1;39m,\n",
      "    \u001b[0m\u001b[34;1m\"Legendary\"\u001b[0m\u001b[1;39m: \u001b[0m\u001b[0;39mfalse\u001b[0m\u001b[1;39m\n",
      "  \u001b[1;39m}\u001b[0m\u001b[1;39m,\n",
      "  \u001b[1;39m{\n",
      "    \u001b[0m\u001b[34;1m\"Name\"\u001b[0m\u001b[1;39m: \u001b[0m\u001b[0;32m\"Venusaur\"\u001b[0m\u001b[1;39m,\n",
      "    \u001b[0m\u001b[34;1m\"Type 1\"\u001b[0m\u001b[1;39m: \u001b[0m\u001b[0;32m\"Grass\"\u001b[0m\u001b[1;39m,\n",
      "    \u001b[0m\u001b[34;1m\"Type 2\"\u001b[0m\u001b[1;39m: \u001b[0m\u001b[0;32m\"Poison\"\u001b[0m\u001b[1;39m,\n",
      "    \u001b[0m\u001b[34;1m\"Total\"\u001b[0m\u001b[1;39m: \u001b[0m\u001b[0;39m525\u001b[0m\u001b[1;39m,\n",
      "    \u001b[0m\u001b[34;1m\"HP\"\u001b[0m\u001b[1;39m: \u001b[0m\u001b[0;39m80\u001b[0m\u001b[1;39m,\n",
      "    \u001b[0m\u001b[34;1m\"Attack\"\u001b[0m\u001b[1;39m: \u001b[0m\u001b[0;39m82\u001b[0m\u001b[1;39m,\n",
      "    \u001b[0m\u001b[34;1m\"Defense\"\u001b[0m\u001b[1;39m: \u001b[0m\u001b[0;39m83\u001b[0m\u001b[1;39m,\n",
      "    \u001b[0m\u001b[34;1m\"Sp. Atk\"\u001b[0m\u001b[1;39m: \u001b[0m\u001b[0;39m100\u001b[0m\u001b[1;39m,\n",
      "    \u001b[0m\u001b[34;1m\"Sp. Def\"\u001b[0m\u001b[1;39m: \u001b[0m\u001b[0;39m100\u001b[0m\u001b[1;39m,\n",
      "    \u001b[0m\u001b[34;1m\"Speed\"\u001b[0m\u001b[1;39m: \u001b[0m\u001b[0;39m80\u001b[0m\u001b[1;39m,\n",
      "    \u001b[0m\u001b[34;1m\"Generation\"\u001b[0m\u001b[1;39m: \u001b[0m\u001b[0;39m1\u001b[0m\u001b[1;39m,\n",
      "    \u001b[0m\u001b[34;1m\"Legendary\"\u001b[0m\u001b[1;39m: \u001b[0m\u001b[0;39mfalse\u001b[0m\u001b[1;39m\n",
      "  \u001b[1;39m}\u001b[0m\u001b[1;39m,\n",
      "  \u001b[1;39m{\n",
      "    \u001b[0m\u001b[34;1m\"Name\"\u001b[0m\u001b[1;39m: \u001b[0m\u001b[0;32m\"Charizard\"\u001b[0m\u001b[1;39m,\n",
      "    \u001b[0m\u001b[34;1m\"Type 1\"\u001b[0m\u001b[1;39m: \u001b[0m\u001b[0;32m\"Fire\"\u001b[0m\u001b[1;39m,\n",
      "    \u001b[0m\u001b[34;1m\"Type 2\"\u001b[0m\u001b[1;39m: \u001b[0m\u001b[0;32m\"Flying\"\u001b[0m\u001b[1;39m,\n",
      "    \u001b[0m\u001b[34;1m\"Total\"\u001b[0m\u001b[1;39m: \u001b[0m\u001b[0;39m534\u001b[0m\u001b[1;39m,\n",
      "    \u001b[0m\u001b[34;1m\"HP\"\u001b[0m\u001b[1;39m: \u001b[0m\u001b[0;39m78\u001b[0m\u001b[1;39m,\n",
      "    \u001b[0m\u001b[34;1m\"Attack\"\u001b[0m\u001b[1;39m: \u001b[0m\u001b[0;39m84\u001b[0m\u001b[1;39m,\n",
      "    \u001b[0m\u001b[34;1m\"Defense\"\u001b[0m\u001b[1;39m: \u001b[0m\u001b[0;39m78\u001b[0m\u001b[1;39m,\n",
      "    \u001b[0m\u001b[34;1m\"Sp. Atk\"\u001b[0m\u001b[1;39m: \u001b[0m\u001b[0;39m109\u001b[0m\u001b[1;39m,\n",
      "    \u001b[0m\u001b[34;1m\"Sp. Def\"\u001b[0m\u001b[1;39m: \u001b[0m\u001b[0;39m85\u001b[0m\u001b[1;39m,\n",
      "    \u001b[0m\u001b[34;1m\"Speed\"\u001b[0m\u001b[1;39m: \u001b[0m\u001b[0;39m100\u001b[0m\u001b[1;39m,\n",
      "    \u001b[0m\u001b[34;1m\"Generation\"\u001b[0m\u001b[1;39m: \u001b[0m\u001b[0;39m1\u001b[0m\u001b[1;39m,\n",
      "    \u001b[0m\u001b[34;1m\"Legendary\"\u001b[0m\u001b[1;39m: \u001b[0m\u001b[0;39mfalse\u001b[0m\u001b[1;39m\n",
      "  \u001b[1;39m}\u001b[0m\u001b[1;39m,\n",
      "  \u001b[1;39m{\n",
      "    \u001b[0m\u001b[34;1m\"Name\"\u001b[0m\u001b[1;39m: \u001b[0m\u001b[0;32m\"Butterfree\"\u001b[0m\u001b[1;39m,\n",
      "    \u001b[0m\u001b[34;1m\"Type 1\"\u001b[0m\u001b[1;39m: \u001b[0m\u001b[0;32m\"Bug\"\u001b[0m\u001b[1;39m,\n",
      "    \u001b[0m\u001b[34;1m\"Type 2\"\u001b[0m\u001b[1;39m: \u001b[0m\u001b[0;32m\"Flying\"\u001b[0m\u001b[1;39m,\n",
      "    \u001b[0m\u001b[34;1m\"Total\"\u001b[0m\u001b[1;39m: \u001b[0m\u001b[0;39m395\u001b[0m\u001b[1;39m,\n",
      "    \u001b[0m\u001b[34;1m\"HP\"\u001b[0m\u001b[1;39m: \u001b[0m\u001b[0;39m60\u001b[0m\u001b[1;39m,\n",
      "    \u001b[0m\u001b[34;1m\"Attack\"\u001b[0m\u001b[1;39m: \u001b[0m\u001b[0;39m45\u001b[0m\u001b[1;39m,\n",
      "    \u001b[0m\u001b[34;1m\"Defense\"\u001b[0m\u001b[1;39m: \u001b[0m\u001b[0;39m50\u001b[0m\u001b[1;39m,\n",
      "    \u001b[0m\u001b[34;1m\"Sp. Atk\"\u001b[0m\u001b[1;39m: \u001b[0m\u001b[0;39m90\u001b[0m\u001b[1;39m,\n",
      "    \u001b[0m\u001b[34;1m\"Sp. Def\"\u001b[0m\u001b[1;39m: \u001b[0m\u001b[0;39m80\u001b[0m\u001b[1;39m,\n",
      "    \u001b[0m\u001b[34;1m\"Speed\"\u001b[0m\u001b[1;39m: \u001b[0m\u001b[0;39m70\u001b[0m\u001b[1;39m,\n",
      "    \u001b[0m\u001b[34;1m\"Generation\"\u001b[0m\u001b[1;39m: \u001b[0m\u001b[0;39m1\u001b[0m\u001b[1;39m,\n",
      "    \u001b[0m\u001b[34;1m\"Legendary\"\u001b[0m\u001b[1;39m: \u001b[0m\u001b[0;39mfalse\u001b[0m\u001b[1;39m\n",
      "  \u001b[1;39m}\u001b[0m\u001b[1;39m\n",
      "\u001b[1;39m]\u001b[0m\n"
     ]
    }
   ],
   "source": [
    "!jq '[.[] | select(.[\"Type 2\"] != null)][:5]' pokemon.json"
   ]
  },
  {
   "attachments": {},
   "cell_type": "markdown",
   "id": "64d071a6",
   "metadata": {},
   "source": [
    "##### Select the names of all the Legendary Pokemon"
   ]
  },
  {
   "cell_type": "code",
   "execution_count": null,
   "id": "367bdc78",
   "metadata": {},
   "outputs": [],
   "source": []
  },
  {
   "attachments": {},
   "cell_type": "markdown",
   "id": "56945cae",
   "metadata": {},
   "source": [
    "Solution:"
   ]
  },
  {
   "cell_type": "code",
   "execution_count": 23,
   "id": "4a3f1d48",
   "metadata": {},
   "outputs": [
    {
     "name": "stdout",
     "output_type": "stream",
     "text": [
      "\u001b[1;39m[\n",
      "  \u001b[0;32m\"Articuno\"\u001b[0m\u001b[1;39m,\n",
      "  \u001b[0;32m\"Zapdos\"\u001b[0m\u001b[1;39m,\n",
      "  \u001b[0;32m\"Moltres\"\u001b[0m\u001b[1;39m,\n",
      "  \u001b[0;32m\"Mewtwo\"\u001b[0m\u001b[1;39m,\n",
      "  \u001b[0;32m\"Raikou\"\u001b[0m\u001b[1;39m,\n",
      "  \u001b[0;32m\"Entei\"\u001b[0m\u001b[1;39m,\n",
      "  \u001b[0;32m\"Suicune\"\u001b[0m\u001b[1;39m,\n",
      "  \u001b[0;32m\"Lugia\"\u001b[0m\u001b[1;39m,\n",
      "  \u001b[0;32m\"Ho-oh\"\u001b[0m\u001b[1;39m,\n",
      "  \u001b[0;32m\"Regirock\"\u001b[0m\u001b[1;39m,\n",
      "  \u001b[0;32m\"Regice\"\u001b[0m\u001b[1;39m,\n",
      "  \u001b[0;32m\"Registeel\"\u001b[0m\u001b[1;39m,\n",
      "  \u001b[0;32m\"Latias\"\u001b[0m\u001b[1;39m,\n",
      "  \u001b[0;32m\"Latios\"\u001b[0m\u001b[1;39m,\n",
      "  \u001b[0;32m\"Kyogre\"\u001b[0m\u001b[1;39m,\n",
      "  \u001b[0;32m\"Groudon\"\u001b[0m\u001b[1;39m,\n",
      "  \u001b[0;32m\"Rayquaza\"\u001b[0m\u001b[1;39m,\n",
      "  \u001b[0;32m\"Jirachi\"\u001b[0m\u001b[1;39m,\n",
      "  \u001b[0;32m\"DeoxysNormal Forme\"\u001b[0m\u001b[1;39m,\n",
      "  \u001b[0;32m\"Uxie\"\u001b[0m\u001b[1;39m,\n",
      "  \u001b[0;32m\"Mesprit\"\u001b[0m\u001b[1;39m,\n",
      "  \u001b[0;32m\"Azelf\"\u001b[0m\u001b[1;39m,\n",
      "  \u001b[0;32m\"Dialga\"\u001b[0m\u001b[1;39m,\n",
      "  \u001b[0;32m\"Palkia\"\u001b[0m\u001b[1;39m,\n",
      "  \u001b[0;32m\"Heatran\"\u001b[0m\u001b[1;39m,\n",
      "  \u001b[0;32m\"Regigigas\"\u001b[0m\u001b[1;39m,\n",
      "  \u001b[0;32m\"GiratinaAltered Forme\"\u001b[0m\u001b[1;39m,\n",
      "  \u001b[0;32m\"Darkrai\"\u001b[0m\u001b[1;39m,\n",
      "  \u001b[0;32m\"ShayminLand Forme\"\u001b[0m\u001b[1;39m,\n",
      "  \u001b[0;32m\"Arceus\"\u001b[0m\u001b[1;39m,\n",
      "  \u001b[0;32m\"Victini\"\u001b[0m\u001b[1;39m,\n",
      "  \u001b[0;32m\"Cobalion\"\u001b[0m\u001b[1;39m,\n",
      "  \u001b[0;32m\"Terrakion\"\u001b[0m\u001b[1;39m,\n",
      "  \u001b[0;32m\"Virizion\"\u001b[0m\u001b[1;39m,\n",
      "  \u001b[0;32m\"TornadusIncarnate Forme\"\u001b[0m\u001b[1;39m,\n",
      "  \u001b[0;32m\"ThundurusIncarnate Forme\"\u001b[0m\u001b[1;39m,\n",
      "  \u001b[0;32m\"Reshiram\"\u001b[0m\u001b[1;39m,\n",
      "  \u001b[0;32m\"Zekrom\"\u001b[0m\u001b[1;39m,\n",
      "  \u001b[0;32m\"LandorusIncarnate Forme\"\u001b[0m\u001b[1;39m,\n",
      "  \u001b[0;32m\"Kyurem\"\u001b[0m\u001b[1;39m,\n",
      "  \u001b[0;32m\"Xerneas\"\u001b[0m\u001b[1;39m,\n",
      "  \u001b[0;32m\"Yveltal\"\u001b[0m\u001b[1;39m,\n",
      "  \u001b[0;32m\"Zygarde50% Forme\"\u001b[0m\u001b[1;39m,\n",
      "  \u001b[0;32m\"Diancie\"\u001b[0m\u001b[1;39m,\n",
      "  \u001b[0;32m\"HoopaHoopa Confined\"\u001b[0m\u001b[1;39m,\n",
      "  \u001b[0;32m\"Volcanion\"\u001b[0m\u001b[1;39m\n",
      "\u001b[1;39m]\u001b[0m\n"
     ]
    }
   ],
   "source": [
    "!jq '[.[] | select (.Legendary == true) | .Name]' pokemon.json"
   ]
  },
  {
   "attachments": {},
   "cell_type": "markdown",
   "id": "4588b4da",
   "metadata": {},
   "source": [
    "##### Extract the names of all dual-type (having both Type 1 and Type 2) Pokemon"
   ]
  },
  {
   "cell_type": "code",
   "execution_count": null,
   "id": "b68e3855",
   "metadata": {},
   "outputs": [],
   "source": []
  },
  {
   "attachments": {},
   "cell_type": "markdown",
   "id": "4aa76237",
   "metadata": {},
   "source": [
    "Solution:"
   ]
  },
  {
   "cell_type": "code",
   "execution_count": 30,
   "id": "9098d09a",
   "metadata": {},
   "outputs": [
    {
     "name": "stdout",
     "output_type": "stream",
     "text": [
      "\u001b[1;39m[\n",
      "  \u001b[0;32m\"Bulbasaur\"\u001b[0m\u001b[1;39m,\n",
      "  \u001b[0;32m\"Ivysaur\"\u001b[0m\u001b[1;39m,\n",
      "  \u001b[0;32m\"Venusaur\"\u001b[0m\u001b[1;39m,\n",
      "  \u001b[0;32m\"Charizard\"\u001b[0m\u001b[1;39m,\n",
      "  \u001b[0;32m\"Butterfree\"\u001b[0m\u001b[1;39m,\n",
      "  \u001b[0;32m\"Weedle\"\u001b[0m\u001b[1;39m,\n",
      "  \u001b[0;32m\"Kakuna\"\u001b[0m\u001b[1;39m,\n",
      "  \u001b[0;32m\"Beedrill\"\u001b[0m\u001b[1;39m,\n",
      "  \u001b[0;32m\"Pidgey\"\u001b[0m\u001b[1;39m,\n",
      "  \u001b[0;32m\"Pidgeotto\"\u001b[0m\u001b[1;39m,\n",
      "  \u001b[0;32m\"Pidgeot\"\u001b[0m\u001b[1;39m,\n",
      "  \u001b[0;32m\"Spearow\"\u001b[0m\u001b[1;39m,\n",
      "  \u001b[0;32m\"Fearow\"\u001b[0m\u001b[1;39m,\n",
      "  \u001b[0;32m\"Nidoqueen\"\u001b[0m\u001b[1;39m,\n",
      "  \u001b[0;32m\"Nidoking\"\u001b[0m\u001b[1;39m,\n",
      "  \u001b[0;32m\"Jigglypuff\"\u001b[0m\u001b[1;39m,\n",
      "  \u001b[0;32m\"Wigglytuff\"\u001b[0m\u001b[1;39m,\n",
      "  \u001b[0;32m\"Zubat\"\u001b[0m\u001b[1;39m,\n",
      "  \u001b[0;32m\"Golbat\"\u001b[0m\u001b[1;39m,\n",
      "  \u001b[0;32m\"Oddish\"\u001b[0m\u001b[1;39m,\n",
      "  \u001b[0;32m\"Gloom\"\u001b[0m\u001b[1;39m,\n",
      "  \u001b[0;32m\"Vileplume\"\u001b[0m\u001b[1;39m,\n",
      "  \u001b[0;32m\"Paras\"\u001b[0m\u001b[1;39m,\n",
      "  \u001b[0;32m\"Parasect\"\u001b[0m\u001b[1;39m,\n",
      "  \u001b[0;32m\"Venonat\"\u001b[0m\u001b[1;39m,\n",
      "  \u001b[0;32m\"Venomoth\"\u001b[0m\u001b[1;39m,\n",
      "  \u001b[0;32m\"Poliwrath\"\u001b[0m\u001b[1;39m,\n",
      "  \u001b[0;32m\"Bellsprout\"\u001b[0m\u001b[1;39m,\n",
      "  \u001b[0;32m\"Weepinbell\"\u001b[0m\u001b[1;39m,\n",
      "  \u001b[0;32m\"Victreebel\"\u001b[0m\u001b[1;39m,\n",
      "  \u001b[0;32m\"Tentacool\"\u001b[0m\u001b[1;39m,\n",
      "  \u001b[0;32m\"Tentacruel\"\u001b[0m\u001b[1;39m,\n",
      "  \u001b[0;32m\"Geodude\"\u001b[0m\u001b[1;39m,\n",
      "  \u001b[0;32m\"Graveler\"\u001b[0m\u001b[1;39m,\n",
      "  \u001b[0;32m\"Golem\"\u001b[0m\u001b[1;39m,\n",
      "  \u001b[0;32m\"Slowpoke\"\u001b[0m\u001b[1;39m,\n",
      "  \u001b[0;32m\"Slowbro\"\u001b[0m\u001b[1;39m,\n",
      "  \u001b[0;32m\"Magnemite\"\u001b[0m\u001b[1;39m,\n",
      "  \u001b[0;32m\"Magneton\"\u001b[0m\u001b[1;39m,\n",
      "  \u001b[0;32m\"Farfetch'd\"\u001b[0m\u001b[1;39m,\n",
      "  \u001b[0;32m\"Doduo\"\u001b[0m\u001b[1;39m,\n",
      "  \u001b[0;32m\"Dodrio\"\u001b[0m\u001b[1;39m,\n",
      "  \u001b[0;32m\"Dewgong\"\u001b[0m\u001b[1;39m,\n",
      "  \u001b[0;32m\"Cloyster\"\u001b[0m\u001b[1;39m,\n",
      "  \u001b[0;32m\"Gastly\"\u001b[0m\u001b[1;39m,\n",
      "  \u001b[0;32m\"Haunter\"\u001b[0m\u001b[1;39m,\n",
      "  \u001b[0;32m\"Gengar\"\u001b[0m\u001b[1;39m,\n",
      "  \u001b[0;32m\"Onix\"\u001b[0m\u001b[1;39m,\n",
      "  \u001b[0;32m\"Exeggcute\"\u001b[0m\u001b[1;39m,\n",
      "  \u001b[0;32m\"Exeggutor\"\u001b[0m\u001b[1;39m,\n",
      "  \u001b[0;32m\"Rhyhorn\"\u001b[0m\u001b[1;39m,\n",
      "  \u001b[0;32m\"Rhydon\"\u001b[0m\u001b[1;39m,\n",
      "  \u001b[0;32m\"Starmie\"\u001b[0m\u001b[1;39m,\n",
      "  \u001b[0;32m\"Mr. Mime\"\u001b[0m\u001b[1;39m,\n",
      "  \u001b[0;32m\"Scyther\"\u001b[0m\u001b[1;39m,\n",
      "  \u001b[0;32m\"Jynx\"\u001b[0m\u001b[1;39m,\n",
      "  \u001b[0;32m\"Pinsir\"\u001b[0m\u001b[1;39m,\n",
      "  \u001b[0;32m\"Gyarados\"\u001b[0m\u001b[1;39m,\n",
      "  \u001b[0;32m\"Lapras\"\u001b[0m\u001b[1;39m,\n",
      "  \u001b[0;32m\"Omanyte\"\u001b[0m\u001b[1;39m,\n",
      "  \u001b[0;32m\"Omastar\"\u001b[0m\u001b[1;39m,\n",
      "  \u001b[0;32m\"Kabuto\"\u001b[0m\u001b[1;39m,\n",
      "  \u001b[0;32m\"Kabutops\"\u001b[0m\u001b[1;39m,\n",
      "  \u001b[0;32m\"Aerodactyl\"\u001b[0m\u001b[1;39m,\n",
      "  \u001b[0;32m\"Articuno\"\u001b[0m\u001b[1;39m,\n",
      "  \u001b[0;32m\"Zapdos\"\u001b[0m\u001b[1;39m,\n",
      "  \u001b[0;32m\"Moltres\"\u001b[0m\u001b[1;39m,\n",
      "  \u001b[0;32m\"Dragonite\"\u001b[0m\u001b[1;39m,\n",
      "  \u001b[0;32m\"Mewtwo\"\u001b[0m\u001b[1;39m,\n",
      "  \u001b[0;32m\"Hoothoot\"\u001b[0m\u001b[1;39m,\n",
      "  \u001b[0;32m\"Noctowl\"\u001b[0m\u001b[1;39m,\n",
      "  \u001b[0;32m\"Ledyba\"\u001b[0m\u001b[1;39m,\n",
      "  \u001b[0;32m\"Ledian\"\u001b[0m\u001b[1;39m,\n",
      "  \u001b[0;32m\"Spinarak\"\u001b[0m\u001b[1;39m,\n",
      "  \u001b[0;32m\"Ariados\"\u001b[0m\u001b[1;39m,\n",
      "  \u001b[0;32m\"Crobat\"\u001b[0m\u001b[1;39m,\n",
      "  \u001b[0;32m\"Chinchou\"\u001b[0m\u001b[1;39m,\n",
      "  \u001b[0;32m\"Lanturn\"\u001b[0m\u001b[1;39m,\n",
      "  \u001b[0;32m\"Igglybuff\"\u001b[0m\u001b[1;39m,\n",
      "  \u001b[0;32m\"Togetic\"\u001b[0m\u001b[1;39m,\n",
      "  \u001b[0;32m\"Natu\"\u001b[0m\u001b[1;39m,\n",
      "  \u001b[0;32m\"Xatu\"\u001b[0m\u001b[1;39m,\n",
      "  \u001b[0;32m\"Ampharos\"\u001b[0m\u001b[1;39m,\n",
      "  \u001b[0;32m\"Marill\"\u001b[0m\u001b[1;39m,\n",
      "  \u001b[0;32m\"Azumarill\"\u001b[0m\u001b[1;39m,\n",
      "  \u001b[0;32m\"Hoppip\"\u001b[0m\u001b[1;39m,\n",
      "  \u001b[0;32m\"Skiploom\"\u001b[0m\u001b[1;39m,\n",
      "  \u001b[0;32m\"Jumpluff\"\u001b[0m\u001b[1;39m,\n",
      "  \u001b[0;32m\"Yanma\"\u001b[0m\u001b[1;39m,\n",
      "  \u001b[0;32m\"Wooper\"\u001b[0m\u001b[1;39m,\n",
      "  \u001b[0;32m\"Quagsire\"\u001b[0m\u001b[1;39m,\n",
      "  \u001b[0;32m\"Murkrow\"\u001b[0m\u001b[1;39m,\n",
      "  \u001b[0;32m\"Slowking\"\u001b[0m\u001b[1;39m,\n",
      "  \u001b[0;32m\"Girafarig\"\u001b[0m\u001b[1;39m,\n",
      "  \u001b[0;32m\"Forretress\"\u001b[0m\u001b[1;39m,\n",
      "  \u001b[0;32m\"Gligar\"\u001b[0m\u001b[1;39m,\n",
      "  \u001b[0;32m\"Steelix\"\u001b[0m\u001b[1;39m,\n",
      "  \u001b[0;32m\"Qwilfish\"\u001b[0m\u001b[1;39m,\n",
      "  \u001b[0;32m\"Scizor\"\u001b[0m\u001b[1;39m,\n",
      "  \u001b[0;32m\"Shuckle\"\u001b[0m\u001b[1;39m,\n",
      "  \u001b[0;32m\"Heracross\"\u001b[0m\u001b[1;39m,\n",
      "  \u001b[0;32m\"Sneasel\"\u001b[0m\u001b[1;39m,\n",
      "  \u001b[0;32m\"Magcargo\"\u001b[0m\u001b[1;39m,\n",
      "  \u001b[0;32m\"Swinub\"\u001b[0m\u001b[1;39m,\n",
      "  \u001b[0;32m\"Piloswine\"\u001b[0m\u001b[1;39m,\n",
      "  \u001b[0;32m\"Corsola\"\u001b[0m\u001b[1;39m,\n",
      "  \u001b[0;32m\"Delibird\"\u001b[0m\u001b[1;39m,\n",
      "  \u001b[0;32m\"Mantine\"\u001b[0m\u001b[1;39m,\n",
      "  \u001b[0;32m\"Skarmory\"\u001b[0m\u001b[1;39m,\n",
      "  \u001b[0;32m\"Houndour\"\u001b[0m\u001b[1;39m,\n",
      "  \u001b[0;32m\"Houndoom\"\u001b[0m\u001b[1;39m,\n",
      "  \u001b[0;32m\"Kingdra\"\u001b[0m\u001b[1;39m,\n",
      "  \u001b[0;32m\"Smoochum\"\u001b[0m\u001b[1;39m,\n",
      "  \u001b[0;32m\"Larvitar\"\u001b[0m\u001b[1;39m,\n",
      "  \u001b[0;32m\"Pupitar\"\u001b[0m\u001b[1;39m,\n",
      "  \u001b[0;32m\"Tyranitar\"\u001b[0m\u001b[1;39m,\n",
      "  \u001b[0;32m\"Lugia\"\u001b[0m\u001b[1;39m,\n",
      "  \u001b[0;32m\"Ho-oh\"\u001b[0m\u001b[1;39m,\n",
      "  \u001b[0;32m\"Celebi\"\u001b[0m\u001b[1;39m,\n",
      "  \u001b[0;32m\"Sceptile\"\u001b[0m\u001b[1;39m,\n",
      "  \u001b[0;32m\"Combusken\"\u001b[0m\u001b[1;39m,\n",
      "  \u001b[0;32m\"Blaziken\"\u001b[0m\u001b[1;39m,\n",
      "  \u001b[0;32m\"Marshtomp\"\u001b[0m\u001b[1;39m,\n",
      "  \u001b[0;32m\"Swampert\"\u001b[0m\u001b[1;39m,\n",
      "  \u001b[0;32m\"Beautifly\"\u001b[0m\u001b[1;39m,\n",
      "  \u001b[0;32m\"Dustox\"\u001b[0m\u001b[1;39m,\n",
      "  \u001b[0;32m\"Lotad\"\u001b[0m\u001b[1;39m,\n",
      "  \u001b[0;32m\"Lombre\"\u001b[0m\u001b[1;39m,\n",
      "  \u001b[0;32m\"Ludicolo\"\u001b[0m\u001b[1;39m,\n",
      "  \u001b[0;32m\"Nuzleaf\"\u001b[0m\u001b[1;39m,\n",
      "  \u001b[0;32m\"Shiftry\"\u001b[0m\u001b[1;39m,\n",
      "  \u001b[0;32m\"Taillow\"\u001b[0m\u001b[1;39m,\n",
      "  \u001b[0;32m\"Swellow\"\u001b[0m\u001b[1;39m,\n",
      "  \u001b[0;32m\"Wingull\"\u001b[0m\u001b[1;39m,\n",
      "  \u001b[0;32m\"Pelipper\"\u001b[0m\u001b[1;39m,\n",
      "  \u001b[0;32m\"Ralts\"\u001b[0m\u001b[1;39m,\n",
      "  \u001b[0;32m\"Kirlia\"\u001b[0m\u001b[1;39m,\n",
      "  \u001b[0;32m\"Gardevoir\"\u001b[0m\u001b[1;39m,\n",
      "  \u001b[0;32m\"Surskit\"\u001b[0m\u001b[1;39m,\n",
      "  \u001b[0;32m\"Masquerain\"\u001b[0m\u001b[1;39m,\n",
      "  \u001b[0;32m\"Breloom\"\u001b[0m\u001b[1;39m,\n",
      "  \u001b[0;32m\"Nincada\"\u001b[0m\u001b[1;39m,\n",
      "  \u001b[0;32m\"Ninjask\"\u001b[0m\u001b[1;39m,\n",
      "  \u001b[0;32m\"Shedinja\"\u001b[0m\u001b[1;39m,\n",
      "  \u001b[0;32m\"Azurill\"\u001b[0m\u001b[1;39m,\n",
      "  \u001b[0;32m\"Sableye\"\u001b[0m\u001b[1;39m,\n",
      "  \u001b[0;32m\"Mawile\"\u001b[0m\u001b[1;39m,\n",
      "  \u001b[0;32m\"Aron\"\u001b[0m\u001b[1;39m,\n",
      "  \u001b[0;32m\"Lairon\"\u001b[0m\u001b[1;39m,\n",
      "  \u001b[0;32m\"Aggron\"\u001b[0m\u001b[1;39m,\n",
      "  \u001b[0;32m\"Meditite\"\u001b[0m\u001b[1;39m,\n",
      "  \u001b[0;32m\"Medicham\"\u001b[0m\u001b[1;39m,\n",
      "  \u001b[0;32m\"Roselia\"\u001b[0m\u001b[1;39m,\n",
      "  \u001b[0;32m\"Carvanha\"\u001b[0m\u001b[1;39m,\n",
      "  \u001b[0;32m\"Sharpedo\"\u001b[0m\u001b[1;39m,\n",
      "  \u001b[0;32m\"Numel\"\u001b[0m\u001b[1;39m,\n",
      "  \u001b[0;32m\"Camerupt\"\u001b[0m\u001b[1;39m,\n",
      "  \u001b[0;32m\"Vibrava\"\u001b[0m\u001b[1;39m,\n",
      "  \u001b[0;32m\"Flygon\"\u001b[0m\u001b[1;39m,\n",
      "  \u001b[0;32m\"Cacturne\"\u001b[0m\u001b[1;39m,\n",
      "  \u001b[0;32m\"Swablu\"\u001b[0m\u001b[1;39m,\n",
      "  \u001b[0;32m\"Altaria\"\u001b[0m\u001b[1;39m,\n",
      "  \u001b[0;32m\"Lunatone\"\u001b[0m\u001b[1;39m,\n",
      "  \u001b[0;32m\"Solrock\"\u001b[0m\u001b[1;39m,\n",
      "  \u001b[0;32m\"Barboach\"\u001b[0m\u001b[1;39m,\n",
      "  \u001b[0;32m\"Whiscash\"\u001b[0m\u001b[1;39m,\n",
      "  \u001b[0;32m\"Crawdaunt\"\u001b[0m\u001b[1;39m,\n",
      "  \u001b[0;32m\"Baltoy\"\u001b[0m\u001b[1;39m,\n",
      "  \u001b[0;32m\"Claydol\"\u001b[0m\u001b[1;39m,\n",
      "  \u001b[0;32m\"Lileep\"\u001b[0m\u001b[1;39m,\n",
      "  \u001b[0;32m\"Cradily\"\u001b[0m\u001b[1;39m,\n",
      "  \u001b[0;32m\"Anorith\"\u001b[0m\u001b[1;39m,\n",
      "  \u001b[0;32m\"Armaldo\"\u001b[0m\u001b[1;39m,\n",
      "  \u001b[0;32m\"Tropius\"\u001b[0m\u001b[1;39m,\n",
      "  \u001b[0;32m\"Spheal\"\u001b[0m\u001b[1;39m,\n",
      "  \u001b[0;32m\"Sealeo\"\u001b[0m\u001b[1;39m,\n",
      "  \u001b[0;32m\"Walrein\"\u001b[0m\u001b[1;39m,\n",
      "  \u001b[0;32m\"Relicanth\"\u001b[0m\u001b[1;39m,\n",
      "  \u001b[0;32m\"Salamence\"\u001b[0m\u001b[1;39m,\n",
      "  \u001b[0;32m\"Beldum\"\u001b[0m\u001b[1;39m,\n",
      "  \u001b[0;32m\"Metang\"\u001b[0m\u001b[1;39m,\n",
      "  \u001b[0;32m\"Metagross\"\u001b[0m\u001b[1;39m,\n",
      "  \u001b[0;32m\"Latias\"\u001b[0m\u001b[1;39m,\n",
      "  \u001b[0;32m\"Latios\"\u001b[0m\u001b[1;39m,\n",
      "  \u001b[0;32m\"Groudon\"\u001b[0m\u001b[1;39m,\n",
      "  \u001b[0;32m\"Rayquaza\"\u001b[0m\u001b[1;39m,\n",
      "  \u001b[0;32m\"Jirachi\"\u001b[0m\u001b[1;39m,\n",
      "  \u001b[0;32m\"Torterra\"\u001b[0m\u001b[1;39m,\n",
      "  \u001b[0;32m\"Monferno\"\u001b[0m\u001b[1;39m,\n",
      "  \u001b[0;32m\"Infernape\"\u001b[0m\u001b[1;39m,\n",
      "  \u001b[0;32m\"Empoleon\"\u001b[0m\u001b[1;39m,\n",
      "  \u001b[0;32m\"Starly\"\u001b[0m\u001b[1;39m,\n",
      "  \u001b[0;32m\"Staravia\"\u001b[0m\u001b[1;39m,\n",
      "  \u001b[0;32m\"Staraptor\"\u001b[0m\u001b[1;39m,\n",
      "  \u001b[0;32m\"Bibarel\"\u001b[0m\u001b[1;39m,\n",
      "  \u001b[0;32m\"Budew\"\u001b[0m\u001b[1;39m,\n",
      "  \u001b[0;32m\"Roserade\"\u001b[0m\u001b[1;39m,\n",
      "  \u001b[0;32m\"Shieldon\"\u001b[0m\u001b[1;39m,\n",
      "  \u001b[0;32m\"Bastiodon\"\u001b[0m\u001b[1;39m,\n",
      "  \u001b[0;32m\"WormadamPlant Cloak\"\u001b[0m\u001b[1;39m,\n",
      "  \u001b[0;32m\"Mothim\"\u001b[0m\u001b[1;39m,\n",
      "  \u001b[0;32m\"Combee\"\u001b[0m\u001b[1;39m,\n",
      "  \u001b[0;32m\"Vespiquen\"\u001b[0m\u001b[1;39m,\n",
      "  \u001b[0;32m\"Gastrodon\"\u001b[0m\u001b[1;39m,\n",
      "  \u001b[0;32m\"Drifloon\"\u001b[0m\u001b[1;39m,\n",
      "  \u001b[0;32m\"Drifblim\"\u001b[0m\u001b[1;39m,\n",
      "  \u001b[0;32m\"Lopunny\"\u001b[0m\u001b[1;39m,\n",
      "  \u001b[0;32m\"Honchkrow\"\u001b[0m\u001b[1;39m,\n",
      "  \u001b[0;32m\"Stunky\"\u001b[0m\u001b[1;39m,\n",
      "  \u001b[0;32m\"Skuntank\"\u001b[0m\u001b[1;39m,\n",
      "  \u001b[0;32m\"Bronzor\"\u001b[0m\u001b[1;39m,\n",
      "  \u001b[0;32m\"Bronzong\"\u001b[0m\u001b[1;39m,\n",
      "  \u001b[0;32m\"Mime Jr.\"\u001b[0m\u001b[1;39m,\n",
      "  \u001b[0;32m\"Chatot\"\u001b[0m\u001b[1;39m,\n",
      "  \u001b[0;32m\"Spiritomb\"\u001b[0m\u001b[1;39m,\n",
      "  \u001b[0;32m\"Gible\"\u001b[0m\u001b[1;39m,\n",
      "  \u001b[0;32m\"Gabite\"\u001b[0m\u001b[1;39m,\n",
      "  \u001b[0;32m\"Garchomp\"\u001b[0m\u001b[1;39m,\n",
      "  \u001b[0;32m\"Lucario\"\u001b[0m\u001b[1;39m,\n",
      "  \u001b[0;32m\"Skorupi\"\u001b[0m\u001b[1;39m,\n",
      "  \u001b[0;32m\"Drapion\"\u001b[0m\u001b[1;39m,\n",
      "  \u001b[0;32m\"Croagunk\"\u001b[0m\u001b[1;39m,\n",
      "  \u001b[0;32m\"Toxicroak\"\u001b[0m\u001b[1;39m,\n",
      "  \u001b[0;32m\"Mantyke\"\u001b[0m\u001b[1;39m,\n",
      "  \u001b[0;32m\"Snover\"\u001b[0m\u001b[1;39m,\n",
      "  \u001b[0;32m\"Abomasnow\"\u001b[0m\u001b[1;39m,\n",
      "  \u001b[0;32m\"Weavile\"\u001b[0m\u001b[1;39m,\n",
      "  \u001b[0;32m\"Magnezone\"\u001b[0m\u001b[1;39m,\n",
      "  \u001b[0;32m\"Rhyperior\"\u001b[0m\u001b[1;39m,\n",
      "  \u001b[0;32m\"Togekiss\"\u001b[0m\u001b[1;39m,\n",
      "  \u001b[0;32m\"Yanmega\"\u001b[0m\u001b[1;39m,\n",
      "  \u001b[0;32m\"Gliscor\"\u001b[0m\u001b[1;39m,\n",
      "  \u001b[0;32m\"Mamoswine\"\u001b[0m\u001b[1;39m,\n",
      "  \u001b[0;32m\"Gallade\"\u001b[0m\u001b[1;39m,\n",
      "  \u001b[0;32m\"Probopass\"\u001b[0m\u001b[1;39m,\n",
      "  \u001b[0;32m\"Froslass\"\u001b[0m\u001b[1;39m,\n",
      "  \u001b[0;32m\"Rotom\"\u001b[0m\u001b[1;39m,\n",
      "  \u001b[0;32m\"Dialga\"\u001b[0m\u001b[1;39m,\n",
      "  \u001b[0;32m\"Palkia\"\u001b[0m\u001b[1;39m,\n",
      "  \u001b[0;32m\"Heatran\"\u001b[0m\u001b[1;39m,\n",
      "  \u001b[0;32m\"GiratinaAltered Forme\"\u001b[0m\u001b[1;39m,\n",
      "  \u001b[0;32m\"ShayminLand Forme\"\u001b[0m\u001b[1;39m,\n",
      "  \u001b[0;32m\"Victini\"\u001b[0m\u001b[1;39m,\n",
      "  \u001b[0;32m\"Pignite\"\u001b[0m\u001b[1;39m,\n",
      "  \u001b[0;32m\"Emboar\"\u001b[0m\u001b[1;39m,\n",
      "  \u001b[0;32m\"Pidove\"\u001b[0m\u001b[1;39m,\n",
      "  \u001b[0;32m\"Tranquill\"\u001b[0m\u001b[1;39m,\n",
      "  \u001b[0;32m\"Unfezant\"\u001b[0m\u001b[1;39m,\n",
      "  \u001b[0;32m\"Woobat\"\u001b[0m\u001b[1;39m,\n",
      "  \u001b[0;32m\"Swoobat\"\u001b[0m\u001b[1;39m,\n",
      "  \u001b[0;32m\"Excadrill\"\u001b[0m\u001b[1;39m,\n",
      "  \u001b[0;32m\"Audino\"\u001b[0m\u001b[1;39m,\n",
      "  \u001b[0;32m\"Palpitoad\"\u001b[0m\u001b[1;39m,\n",
      "  \u001b[0;32m\"Seismitoad\"\u001b[0m\u001b[1;39m,\n",
      "  \u001b[0;32m\"Sewaddle\"\u001b[0m\u001b[1;39m,\n",
      "  \u001b[0;32m\"Swadloon\"\u001b[0m\u001b[1;39m,\n",
      "  \u001b[0;32m\"Leavanny\"\u001b[0m\u001b[1;39m,\n",
      "  \u001b[0;32m\"Venipede\"\u001b[0m\u001b[1;39m,\n",
      "  \u001b[0;32m\"Whirlipede\"\u001b[0m\u001b[1;39m,\n",
      "  \u001b[0;32m\"Scolipede\"\u001b[0m\u001b[1;39m,\n",
      "  \u001b[0;32m\"Cottonee\"\u001b[0m\u001b[1;39m,\n",
      "  \u001b[0;32m\"Whimsicott\"\u001b[0m\u001b[1;39m,\n",
      "  \u001b[0;32m\"Sandile\"\u001b[0m\u001b[1;39m,\n",
      "  \u001b[0;32m\"Krokorok\"\u001b[0m\u001b[1;39m,\n",
      "  \u001b[0;32m\"Krookodile\"\u001b[0m\u001b[1;39m,\n",
      "  \u001b[0;32m\"DarmanitanStandard Mode\"\u001b[0m\u001b[1;39m,\n",
      "  \u001b[0;32m\"Dwebble\"\u001b[0m\u001b[1;39m,\n",
      "  \u001b[0;32m\"Crustle\"\u001b[0m\u001b[1;39m,\n",
      "  \u001b[0;32m\"Scraggy\"\u001b[0m\u001b[1;39m,\n",
      "  \u001b[0;32m\"Scrafty\"\u001b[0m\u001b[1;39m,\n",
      "  \u001b[0;32m\"Sigilyph\"\u001b[0m\u001b[1;39m,\n",
      "  \u001b[0;32m\"Tirtouga\"\u001b[0m\u001b[1;39m,\n",
      "  \u001b[0;32m\"Carracosta\"\u001b[0m\u001b[1;39m,\n",
      "  \u001b[0;32m\"Archen\"\u001b[0m\u001b[1;39m,\n",
      "  \u001b[0;32m\"Archeops\"\u001b[0m\u001b[1;39m,\n",
      "  \u001b[0;32m\"Ducklett\"\u001b[0m\u001b[1;39m,\n",
      "  \u001b[0;32m\"Swanna\"\u001b[0m\u001b[1;39m,\n",
      "  \u001b[0;32m\"Deerling\"\u001b[0m\u001b[1;39m,\n",
      "  \u001b[0;32m\"Sawsbuck\"\u001b[0m\u001b[1;39m,\n",
      "  \u001b[0;32m\"Emolga\"\u001b[0m\u001b[1;39m,\n",
      "  \u001b[0;32m\"Escavalier\"\u001b[0m\u001b[1;39m,\n",
      "  \u001b[0;32m\"Foongus\"\u001b[0m\u001b[1;39m,\n",
      "  \u001b[0;32m\"Amoonguss\"\u001b[0m\u001b[1;39m,\n",
      "  \u001b[0;32m\"Frillish\"\u001b[0m\u001b[1;39m,\n",
      "  \u001b[0;32m\"Jellicent\"\u001b[0m\u001b[1;39m,\n",
      "  \u001b[0;32m\"Joltik\"\u001b[0m\u001b[1;39m,\n",
      "  \u001b[0;32m\"Galvantula\"\u001b[0m\u001b[1;39m,\n",
      "  \u001b[0;32m\"Ferroseed\"\u001b[0m\u001b[1;39m,\n",
      "  \u001b[0;32m\"Ferrothorn\"\u001b[0m\u001b[1;39m,\n",
      "  \u001b[0;32m\"Litwick\"\u001b[0m\u001b[1;39m,\n",
      "  \u001b[0;32m\"Lampent\"\u001b[0m\u001b[1;39m,\n",
      "  \u001b[0;32m\"Chandelure\"\u001b[0m\u001b[1;39m,\n",
      "  \u001b[0;32m\"Stunfisk\"\u001b[0m\u001b[1;39m,\n",
      "  \u001b[0;32m\"Golett\"\u001b[0m\u001b[1;39m,\n",
      "  \u001b[0;32m\"Golurk\"\u001b[0m\u001b[1;39m,\n",
      "  \u001b[0;32m\"Pawniard\"\u001b[0m\u001b[1;39m,\n",
      "  \u001b[0;32m\"Bisharp\"\u001b[0m\u001b[1;39m,\n",
      "  \u001b[0;32m\"Rufflet\"\u001b[0m\u001b[1;39m,\n",
      "  \u001b[0;32m\"Braviary\"\u001b[0m\u001b[1;39m,\n",
      "  \u001b[0;32m\"Vullaby\"\u001b[0m\u001b[1;39m,\n",
      "  \u001b[0;32m\"Mandibuzz\"\u001b[0m\u001b[1;39m,\n",
      "  \u001b[0;32m\"Durant\"\u001b[0m\u001b[1;39m,\n",
      "  \u001b[0;32m\"Deino\"\u001b[0m\u001b[1;39m,\n",
      "  \u001b[0;32m\"Zweilous\"\u001b[0m\u001b[1;39m,\n",
      "  \u001b[0;32m\"Hydreigon\"\u001b[0m\u001b[1;39m,\n",
      "  \u001b[0;32m\"Larvesta\"\u001b[0m\u001b[1;39m,\n",
      "  \u001b[0;32m\"Volcarona\"\u001b[0m\u001b[1;39m,\n",
      "  \u001b[0;32m\"Cobalion\"\u001b[0m\u001b[1;39m,\n",
      "  \u001b[0;32m\"Terrakion\"\u001b[0m\u001b[1;39m,\n",
      "  \u001b[0;32m\"Virizion\"\u001b[0m\u001b[1;39m,\n",
      "  \u001b[0;32m\"ThundurusIncarnate Forme\"\u001b[0m\u001b[1;39m,\n",
      "  \u001b[0;32m\"Reshiram\"\u001b[0m\u001b[1;39m,\n",
      "  \u001b[0;32m\"Zekrom\"\u001b[0m\u001b[1;39m,\n",
      "  \u001b[0;32m\"LandorusIncarnate Forme\"\u001b[0m\u001b[1;39m,\n",
      "  \u001b[0;32m\"Kyurem\"\u001b[0m\u001b[1;39m,\n",
      "  \u001b[0;32m\"KeldeoOrdinary Forme\"\u001b[0m\u001b[1;39m,\n",
      "  \u001b[0;32m\"MeloettaAria Forme\"\u001b[0m\u001b[1;39m,\n",
      "  \u001b[0;32m\"Genesect\"\u001b[0m\u001b[1;39m,\n",
      "  \u001b[0;32m\"Chesnaught\"\u001b[0m\u001b[1;39m,\n",
      "  \u001b[0;32m\"Delphox\"\u001b[0m\u001b[1;39m,\n",
      "  \u001b[0;32m\"Greninja\"\u001b[0m\u001b[1;39m,\n",
      "  \u001b[0;32m\"Diggersby\"\u001b[0m\u001b[1;39m,\n",
      "  \u001b[0;32m\"Fletchling\"\u001b[0m\u001b[1;39m,\n",
      "  \u001b[0;32m\"Fletchinder\"\u001b[0m\u001b[1;39m,\n",
      "  \u001b[0;32m\"Talonflame\"\u001b[0m\u001b[1;39m,\n",
      "  \u001b[0;32m\"Vivillon\"\u001b[0m\u001b[1;39m,\n",
      "  \u001b[0;32m\"Litleo\"\u001b[0m\u001b[1;39m,\n",
      "  \u001b[0;32m\"Pyroar\"\u001b[0m\u001b[1;39m,\n",
      "  \u001b[0;32m\"Pangoro\"\u001b[0m\u001b[1;39m,\n",
      "  \u001b[0;32m\"Honedge\"\u001b[0m\u001b[1;39m,\n",
      "  \u001b[0;32m\"Doublade\"\u001b[0m\u001b[1;39m,\n",
      "  \u001b[0;32m\"AegislashBlade Forme\"\u001b[0m\u001b[1;39m,\n",
      "  \u001b[0;32m\"Inkay\"\u001b[0m\u001b[1;39m,\n",
      "  \u001b[0;32m\"Malamar\"\u001b[0m\u001b[1;39m,\n",
      "  \u001b[0;32m\"Binacle\"\u001b[0m\u001b[1;39m,\n",
      "  \u001b[0;32m\"Barbaracle\"\u001b[0m\u001b[1;39m,\n",
      "  \u001b[0;32m\"Skrelp\"\u001b[0m\u001b[1;39m,\n",
      "  \u001b[0;32m\"Dragalge\"\u001b[0m\u001b[1;39m,\n",
      "  \u001b[0;32m\"Helioptile\"\u001b[0m\u001b[1;39m,\n",
      "  \u001b[0;32m\"Heliolisk\"\u001b[0m\u001b[1;39m,\n",
      "  \u001b[0;32m\"Tyrunt\"\u001b[0m\u001b[1;39m,\n",
      "  \u001b[0;32m\"Tyrantrum\"\u001b[0m\u001b[1;39m,\n",
      "  \u001b[0;32m\"Amaura\"\u001b[0m\u001b[1;39m,\n",
      "  \u001b[0;32m\"Aurorus\"\u001b[0m\u001b[1;39m,\n",
      "  \u001b[0;32m\"Hawlucha\"\u001b[0m\u001b[1;39m,\n",
      "  \u001b[0;32m\"Dedenne\"\u001b[0m\u001b[1;39m,\n",
      "  \u001b[0;32m\"Carbink\"\u001b[0m\u001b[1;39m,\n",
      "  \u001b[0;32m\"Klefki\"\u001b[0m\u001b[1;39m,\n",
      "  \u001b[0;32m\"Phantump\"\u001b[0m\u001b[1;39m,\n",
      "  \u001b[0;32m\"Trevenant\"\u001b[0m\u001b[1;39m,\n",
      "  \u001b[0;32m\"PumpkabooAverage Size\"\u001b[0m\u001b[1;39m,\n",
      "  \u001b[0;32m\"GourgeistAverage Size\"\u001b[0m\u001b[1;39m,\n",
      "  \u001b[0;32m\"Noibat\"\u001b[0m\u001b[1;39m,\n",
      "  \u001b[0;32m\"Noivern\"\u001b[0m\u001b[1;39m,\n",
      "  \u001b[0;32m\"Yveltal\"\u001b[0m\u001b[1;39m,\n",
      "  \u001b[0;32m\"Zygarde50% Forme\"\u001b[0m\u001b[1;39m,\n",
      "  \u001b[0;32m\"Diancie\"\u001b[0m\u001b[1;39m,\n",
      "  \u001b[0;32m\"HoopaHoopa Confined\"\u001b[0m\u001b[1;39m,\n",
      "  \u001b[0;32m\"Volcanion\"\u001b[0m\u001b[1;39m\n",
      "\u001b[1;39m]\u001b[0m\n"
     ]
    }
   ],
   "source": [
    "!jq '[ .[] | select(.\"Type 2\" != null) | .Name ]' pokemon.json"
   ]
  },
  {
   "attachments": {},
   "cell_type": "markdown",
   "id": "ebc3b203",
   "metadata": {},
   "source": [
    "##### Calculate the average Defense of non-Legendary Pokemon\n",
    "Combining above concepts + Statistical methods"
   ]
  },
  {
   "cell_type": "code",
   "execution_count": null,
   "id": "46025718",
   "metadata": {},
   "outputs": [],
   "source": []
  },
  {
   "attachments": {},
   "cell_type": "markdown",
   "id": "4bc4cb9f",
   "metadata": {},
   "source": [
    "Solution:"
   ]
  },
  {
   "cell_type": "code",
   "execution_count": 35,
   "id": "b63021b3",
   "metadata": {},
   "outputs": [
    {
     "name": "stdout",
     "output_type": "stream",
     "text": [
      "\u001b[0;39m68.56296296296296\u001b[0m\n"
     ]
    }
   ],
   "source": [
    "!jq '[ .[] | select(.Legendary == false) | .Defense ] | add / length' pokemon.json"
   ]
  },
  {
   "attachments": {},
   "cell_type": "markdown",
   "id": "9c2b6a57-ec0a-447d-b9e6-0bb857885d96",
   "metadata": {},
   "source": [
    "### Sorting"
   ]
  },
  {
   "attachments": {},
   "cell_type": "markdown",
   "id": "c60266ad-3d0f-4825-a19d-3a2bfc692ed9",
   "metadata": {},
   "source": [
    "##### 11) Find the Pokemons with an `HP` greater than 70, sorted by HP in Ascending mode"
   ]
  },
  {
   "cell_type": "code",
   "execution_count": null,
   "id": "b7a4cb29-0410-4fe2-8bcc-8545bbee80a0",
   "metadata": {},
   "outputs": [],
   "source": []
  },
  {
   "attachments": {},
   "cell_type": "markdown",
   "id": "0f1609f2-9b9a-4538-8c94-7441f9a13132",
   "metadata": {},
   "source": [
    "Solution:"
   ]
  },
  {
   "cell_type": "code",
   "execution_count": 15,
   "id": "b9af2246-9e82-4219-b501-61fbb2208a38",
   "metadata": {},
   "outputs": [
    {
     "name": "stdout",
     "output_type": "stream",
     "text": [
      "\u001b[1;39m[\n",
      "  \u001b[1;39m{\n",
      "    \u001b[0m\u001b[34;1m\"Name\"\u001b[0m\u001b[1;39m: \u001b[0m\u001b[0;32m\"Purugly\"\u001b[0m\u001b[1;39m,\n",
      "    \u001b[0m\u001b[34;1m\"Type 1\"\u001b[0m\u001b[1;39m: \u001b[0m\u001b[0;32m\"Normal\"\u001b[0m\u001b[1;39m,\n",
      "    \u001b[0m\u001b[34;1m\"Type 2\"\u001b[0m\u001b[1;39m: \u001b[0m\u001b[1;30mnull\u001b[0m\u001b[1;39m,\n",
      "    \u001b[0m\u001b[34;1m\"Total\"\u001b[0m\u001b[1;39m: \u001b[0m\u001b[0;39m452\u001b[0m\u001b[1;39m,\n",
      "    \u001b[0m\u001b[34;1m\"HP\"\u001b[0m\u001b[1;39m: \u001b[0m\u001b[0;39m71\u001b[0m\u001b[1;39m,\n",
      "    \u001b[0m\u001b[34;1m\"Attack\"\u001b[0m\u001b[1;39m: \u001b[0m\u001b[0;39m82\u001b[0m\u001b[1;39m,\n",
      "    \u001b[0m\u001b[34;1m\"Defense\"\u001b[0m\u001b[1;39m: \u001b[0m\u001b[0;39m64\u001b[0m\u001b[1;39m,\n",
      "    \u001b[0m\u001b[34;1m\"Sp. Atk\"\u001b[0m\u001b[1;39m: \u001b[0m\u001b[0;39m64\u001b[0m\u001b[1;39m,\n",
      "    \u001b[0m\u001b[34;1m\"Sp. Def\"\u001b[0m\u001b[1;39m: \u001b[0m\u001b[0;39m59\u001b[0m\u001b[1;39m,\n",
      "    \u001b[0m\u001b[34;1m\"Speed\"\u001b[0m\u001b[1;39m: \u001b[0m\u001b[0;39m112\u001b[0m\u001b[1;39m,\n",
      "    \u001b[0m\u001b[34;1m\"Generation\"\u001b[0m\u001b[1;39m: \u001b[0m\u001b[0;39m4\u001b[0m\u001b[1;39m,\n",
      "    \u001b[0m\u001b[34;1m\"Legendary\"\u001b[0m\u001b[1;39m: \u001b[0m\u001b[0;39mfalse\u001b[0m\u001b[1;39m\n",
      "  \u001b[1;39m}\u001b[0m\u001b[1;39m,\n",
      "  \u001b[1;39m{\n",
      "    \u001b[0m\u001b[34;1m\"Name\"\u001b[0m\u001b[1;39m: \u001b[0m\u001b[0;32m\"Vanilluxe\"\u001b[0m\u001b[1;39m,\n",
      "    \u001b[0m\u001b[34;1m\"Type 1\"\u001b[0m\u001b[1;39m: \u001b[0m\u001b[0;32m\"Ice\"\u001b[0m\u001b[1;39m,\n",
      "    \u001b[0m\u001b[34;1m\"Type 2\"\u001b[0m\u001b[1;39m: \u001b[0m\u001b[1;30mnull\u001b[0m\u001b[1;39m,\n",
      "    \u001b[0m\u001b[34;1m\"Total\"\u001b[0m\u001b[1;39m: \u001b[0m\u001b[0;39m535\u001b[0m\u001b[1;39m,\n",
      "    \u001b[0m\u001b[34;1m\"HP\"\u001b[0m\u001b[1;39m: \u001b[0m\u001b[0;39m71\u001b[0m\u001b[1;39m,\n",
      "    \u001b[0m\u001b[34;1m\"Attack\"\u001b[0m\u001b[1;39m: \u001b[0m\u001b[0;39m95\u001b[0m\u001b[1;39m,\n",
      "    \u001b[0m\u001b[34;1m\"Defense\"\u001b[0m\u001b[1;39m: \u001b[0m\u001b[0;39m85\u001b[0m\u001b[1;39m,\n",
      "    \u001b[0m\u001b[34;1m\"Sp. Atk\"\u001b[0m\u001b[1;39m: \u001b[0m\u001b[0;39m110\u001b[0m\u001b[1;39m,\n",
      "    \u001b[0m\u001b[34;1m\"Sp. Def\"\u001b[0m\u001b[1;39m: \u001b[0m\u001b[0;39m95\u001b[0m\u001b[1;39m,\n",
      "    \u001b[0m\u001b[34;1m\"Speed\"\u001b[0m\u001b[1;39m: \u001b[0m\u001b[0;39m79\u001b[0m\u001b[1;39m,\n",
      "    \u001b[0m\u001b[34;1m\"Generation\"\u001b[0m\u001b[1;39m: \u001b[0m\u001b[0;39m5\u001b[0m\u001b[1;39m,\n",
      "    \u001b[0m\u001b[34;1m\"Legendary\"\u001b[0m\u001b[1;39m: \u001b[0m\u001b[0;39mfalse\u001b[0m\u001b[1;39m\n",
      "  \u001b[1;39m}\u001b[0m\u001b[1;39m,\n",
      "  \u001b[1;39m{\n",
      "    \u001b[0m\u001b[34;1m\"Name\"\u001b[0m\u001b[1;39m: \u001b[0m\u001b[0;32m\"Genesect\"\u001b[0m\u001b[1;39m,\n",
      "    \u001b[0m\u001b[34;1m\"Type 1\"\u001b[0m\u001b[1;39m: \u001b[0m\u001b[0;32m\"Bug\"\u001b[0m\u001b[1;39m,\n",
      "    \u001b[0m\u001b[34;1m\"Type 2\"\u001b[0m\u001b[1;39m: \u001b[0m\u001b[0;32m\"Steel\"\u001b[0m\u001b[1;39m,\n",
      "    \u001b[0m\u001b[34;1m\"Total\"\u001b[0m\u001b[1;39m: \u001b[0m\u001b[0;39m600\u001b[0m\u001b[1;39m,\n",
      "    \u001b[0m\u001b[34;1m\"HP\"\u001b[0m\u001b[1;39m: \u001b[0m\u001b[0;39m71\u001b[0m\u001b[1;39m,\n",
      "    \u001b[0m\u001b[34;1m\"Attack\"\u001b[0m\u001b[1;39m: \u001b[0m\u001b[0;39m120\u001b[0m\u001b[1;39m,\n",
      "    \u001b[0m\u001b[34;1m\"Defense\"\u001b[0m\u001b[1;39m: \u001b[0m\u001b[0;39m95\u001b[0m\u001b[1;39m,\n",
      "    \u001b[0m\u001b[34;1m\"Sp. Atk\"\u001b[0m\u001b[1;39m: \u001b[0m\u001b[0;39m120\u001b[0m\u001b[1;39m,\n",
      "    \u001b[0m\u001b[34;1m\"Sp. Def\"\u001b[0m\u001b[1;39m: \u001b[0m\u001b[0;39m95\u001b[0m\u001b[1;39m,\n",
      "    \u001b[0m\u001b[34;1m\"Speed\"\u001b[0m\u001b[1;39m: \u001b[0m\u001b[0;39m99\u001b[0m\u001b[1;39m,\n",
      "    \u001b[0m\u001b[34;1m\"Generation\"\u001b[0m\u001b[1;39m: \u001b[0m\u001b[0;39m5\u001b[0m\u001b[1;39m,\n",
      "    \u001b[0m\u001b[34;1m\"Legendary\"\u001b[0m\u001b[1;39m: \u001b[0m\u001b[0;39mfalse\u001b[0m\u001b[1;39m\n",
      "  \u001b[1;39m}\u001b[0m\u001b[1;39m\n",
      "\u001b[1;39m]\u001b[0m\n"
     ]
    }
   ],
   "source": [
    "!jq '[ .[] | select(.HP > 70) ] | sort_by(.HP) | .[:3]' pokemon.json"
   ]
  },
  {
   "attachments": {},
   "cell_type": "markdown",
   "id": "f5d3bf5c-e4de-4721-91d2-a2cdcfb271d4",
   "metadata": {},
   "source": [
    "##### 12) Find the pokemons with a `Defense` value greater than 100, sorted by `Defense` in descending mode"
   ]
  },
  {
   "cell_type": "code",
   "execution_count": null,
   "id": "fac0c119-af27-4826-a36d-a1e65685c579",
   "metadata": {},
   "outputs": [],
   "source": []
  },
  {
   "attachments": {},
   "cell_type": "markdown",
   "id": "1e9ecbbb-d64a-4f8d-af69-956f5a183683",
   "metadata": {},
   "source": [
    "Solution:"
   ]
  },
  {
   "cell_type": "code",
   "execution_count": 16,
   "id": "25825106-dbaa-46e8-8b5b-ed437690666b",
   "metadata": {},
   "outputs": [
    {
     "name": "stdout",
     "output_type": "stream",
     "text": [
      "\u001b[1;39m[\n",
      "  \u001b[1;39m{\n",
      "    \u001b[0m\u001b[34;1m\"Name\"\u001b[0m\u001b[1;39m: \u001b[0m\u001b[0;32m\"Shuckle\"\u001b[0m\u001b[1;39m,\n",
      "    \u001b[0m\u001b[34;1m\"Type 1\"\u001b[0m\u001b[1;39m: \u001b[0m\u001b[0;32m\"Bug\"\u001b[0m\u001b[1;39m,\n",
      "    \u001b[0m\u001b[34;1m\"Type 2\"\u001b[0m\u001b[1;39m: \u001b[0m\u001b[0;32m\"Rock\"\u001b[0m\u001b[1;39m,\n",
      "    \u001b[0m\u001b[34;1m\"Total\"\u001b[0m\u001b[1;39m: \u001b[0m\u001b[0;39m505\u001b[0m\u001b[1;39m,\n",
      "    \u001b[0m\u001b[34;1m\"HP\"\u001b[0m\u001b[1;39m: \u001b[0m\u001b[0;39m20\u001b[0m\u001b[1;39m,\n",
      "    \u001b[0m\u001b[34;1m\"Attack\"\u001b[0m\u001b[1;39m: \u001b[0m\u001b[0;39m10\u001b[0m\u001b[1;39m,\n",
      "    \u001b[0m\u001b[34;1m\"Defense\"\u001b[0m\u001b[1;39m: \u001b[0m\u001b[0;39m230\u001b[0m\u001b[1;39m,\n",
      "    \u001b[0m\u001b[34;1m\"Sp. Atk\"\u001b[0m\u001b[1;39m: \u001b[0m\u001b[0;39m10\u001b[0m\u001b[1;39m,\n",
      "    \u001b[0m\u001b[34;1m\"Sp. Def\"\u001b[0m\u001b[1;39m: \u001b[0m\u001b[0;39m230\u001b[0m\u001b[1;39m,\n",
      "    \u001b[0m\u001b[34;1m\"Speed\"\u001b[0m\u001b[1;39m: \u001b[0m\u001b[0;39m5\u001b[0m\u001b[1;39m,\n",
      "    \u001b[0m\u001b[34;1m\"Generation\"\u001b[0m\u001b[1;39m: \u001b[0m\u001b[0;39m2\u001b[0m\u001b[1;39m,\n",
      "    \u001b[0m\u001b[34;1m\"Legendary\"\u001b[0m\u001b[1;39m: \u001b[0m\u001b[0;39mfalse\u001b[0m\u001b[1;39m\n",
      "  \u001b[1;39m}\u001b[0m\u001b[1;39m,\n",
      "  \u001b[1;39m{\n",
      "    \u001b[0m\u001b[34;1m\"Name\"\u001b[0m\u001b[1;39m: \u001b[0m\u001b[0;32m\"Regirock\"\u001b[0m\u001b[1;39m,\n",
      "    \u001b[0m\u001b[34;1m\"Type 1\"\u001b[0m\u001b[1;39m: \u001b[0m\u001b[0;32m\"Rock\"\u001b[0m\u001b[1;39m,\n",
      "    \u001b[0m\u001b[34;1m\"Type 2\"\u001b[0m\u001b[1;39m: \u001b[0m\u001b[1;30mnull\u001b[0m\u001b[1;39m,\n",
      "    \u001b[0m\u001b[34;1m\"Total\"\u001b[0m\u001b[1;39m: \u001b[0m\u001b[0;39m580\u001b[0m\u001b[1;39m,\n",
      "    \u001b[0m\u001b[34;1m\"HP\"\u001b[0m\u001b[1;39m: \u001b[0m\u001b[0;39m80\u001b[0m\u001b[1;39m,\n",
      "    \u001b[0m\u001b[34;1m\"Attack\"\u001b[0m\u001b[1;39m: \u001b[0m\u001b[0;39m100\u001b[0m\u001b[1;39m,\n",
      "    \u001b[0m\u001b[34;1m\"Defense\"\u001b[0m\u001b[1;39m: \u001b[0m\u001b[0;39m200\u001b[0m\u001b[1;39m,\n",
      "    \u001b[0m\u001b[34;1m\"Sp. Atk\"\u001b[0m\u001b[1;39m: \u001b[0m\u001b[0;39m50\u001b[0m\u001b[1;39m,\n",
      "    \u001b[0m\u001b[34;1m\"Sp. Def\"\u001b[0m\u001b[1;39m: \u001b[0m\u001b[0;39m100\u001b[0m\u001b[1;39m,\n",
      "    \u001b[0m\u001b[34;1m\"Speed\"\u001b[0m\u001b[1;39m: \u001b[0m\u001b[0;39m50\u001b[0m\u001b[1;39m,\n",
      "    \u001b[0m\u001b[34;1m\"Generation\"\u001b[0m\u001b[1;39m: \u001b[0m\u001b[0;39m3\u001b[0m\u001b[1;39m,\n",
      "    \u001b[0m\u001b[34;1m\"Legendary\"\u001b[0m\u001b[1;39m: \u001b[0m\u001b[0;39mtrue\u001b[0m\u001b[1;39m\n",
      "  \u001b[1;39m}\u001b[0m\u001b[1;39m,\n",
      "  \u001b[1;39m{\n",
      "    \u001b[0m\u001b[34;1m\"Name\"\u001b[0m\u001b[1;39m: \u001b[0m\u001b[0;32m\"Steelix\"\u001b[0m\u001b[1;39m,\n",
      "    \u001b[0m\u001b[34;1m\"Type 1\"\u001b[0m\u001b[1;39m: \u001b[0m\u001b[0;32m\"Steel\"\u001b[0m\u001b[1;39m,\n",
      "    \u001b[0m\u001b[34;1m\"Type 2\"\u001b[0m\u001b[1;39m: \u001b[0m\u001b[0;32m\"Ground\"\u001b[0m\u001b[1;39m,\n",
      "    \u001b[0m\u001b[34;1m\"Total\"\u001b[0m\u001b[1;39m: \u001b[0m\u001b[0;39m510\u001b[0m\u001b[1;39m,\n",
      "    \u001b[0m\u001b[34;1m\"HP\"\u001b[0m\u001b[1;39m: \u001b[0m\u001b[0;39m75\u001b[0m\u001b[1;39m,\n",
      "    \u001b[0m\u001b[34;1m\"Attack\"\u001b[0m\u001b[1;39m: \u001b[0m\u001b[0;39m85\u001b[0m\u001b[1;39m,\n",
      "    \u001b[0m\u001b[34;1m\"Defense\"\u001b[0m\u001b[1;39m: \u001b[0m\u001b[0;39m200\u001b[0m\u001b[1;39m,\n",
      "    \u001b[0m\u001b[34;1m\"Sp. Atk\"\u001b[0m\u001b[1;39m: \u001b[0m\u001b[0;39m55\u001b[0m\u001b[1;39m,\n",
      "    \u001b[0m\u001b[34;1m\"Sp. Def\"\u001b[0m\u001b[1;39m: \u001b[0m\u001b[0;39m65\u001b[0m\u001b[1;39m,\n",
      "    \u001b[0m\u001b[34;1m\"Speed\"\u001b[0m\u001b[1;39m: \u001b[0m\u001b[0;39m30\u001b[0m\u001b[1;39m,\n",
      "    \u001b[0m\u001b[34;1m\"Generation\"\u001b[0m\u001b[1;39m: \u001b[0m\u001b[0;39m2\u001b[0m\u001b[1;39m,\n",
      "    \u001b[0m\u001b[34;1m\"Legendary\"\u001b[0m\u001b[1;39m: \u001b[0m\u001b[0;39mfalse\u001b[0m\u001b[1;39m\n",
      "  \u001b[1;39m}\u001b[0m\u001b[1;39m,\n",
      "  \u001b[1;39m{\n",
      "    \u001b[0m\u001b[34;1m\"Name\"\u001b[0m\u001b[1;39m: \u001b[0m\u001b[0;32m\"Avalugg\"\u001b[0m\u001b[1;39m,\n",
      "    \u001b[0m\u001b[34;1m\"Type 1\"\u001b[0m\u001b[1;39m: \u001b[0m\u001b[0;32m\"Ice\"\u001b[0m\u001b[1;39m,\n",
      "    \u001b[0m\u001b[34;1m\"Type 2\"\u001b[0m\u001b[1;39m: \u001b[0m\u001b[1;30mnull\u001b[0m\u001b[1;39m,\n",
      "    \u001b[0m\u001b[34;1m\"Total\"\u001b[0m\u001b[1;39m: \u001b[0m\u001b[0;39m514\u001b[0m\u001b[1;39m,\n",
      "    \u001b[0m\u001b[34;1m\"HP\"\u001b[0m\u001b[1;39m: \u001b[0m\u001b[0;39m95\u001b[0m\u001b[1;39m,\n",
      "    \u001b[0m\u001b[34;1m\"Attack\"\u001b[0m\u001b[1;39m: \u001b[0m\u001b[0;39m117\u001b[0m\u001b[1;39m,\n",
      "    \u001b[0m\u001b[34;1m\"Defense\"\u001b[0m\u001b[1;39m: \u001b[0m\u001b[0;39m184\u001b[0m\u001b[1;39m,\n",
      "    \u001b[0m\u001b[34;1m\"Sp. Atk\"\u001b[0m\u001b[1;39m: \u001b[0m\u001b[0;39m44\u001b[0m\u001b[1;39m,\n",
      "    \u001b[0m\u001b[34;1m\"Sp. Def\"\u001b[0m\u001b[1;39m: \u001b[0m\u001b[0;39m46\u001b[0m\u001b[1;39m,\n",
      "    \u001b[0m\u001b[34;1m\"Speed\"\u001b[0m\u001b[1;39m: \u001b[0m\u001b[0;39m28\u001b[0m\u001b[1;39m,\n",
      "    \u001b[0m\u001b[34;1m\"Generation\"\u001b[0m\u001b[1;39m: \u001b[0m\u001b[0;39m6\u001b[0m\u001b[1;39m,\n",
      "    \u001b[0m\u001b[34;1m\"Legendary\"\u001b[0m\u001b[1;39m: \u001b[0m\u001b[0;39mfalse\u001b[0m\u001b[1;39m\n",
      "  \u001b[1;39m}\u001b[0m\u001b[1;39m,\n",
      "  \u001b[1;39m{\n",
      "    \u001b[0m\u001b[34;1m\"Name\"\u001b[0m\u001b[1;39m: \u001b[0m\u001b[0;32m\"Aggron\"\u001b[0m\u001b[1;39m,\n",
      "    \u001b[0m\u001b[34;1m\"Type 1\"\u001b[0m\u001b[1;39m: \u001b[0m\u001b[0;32m\"Steel\"\u001b[0m\u001b[1;39m,\n",
      "    \u001b[0m\u001b[34;1m\"Type 2\"\u001b[0m\u001b[1;39m: \u001b[0m\u001b[0;32m\"Rock\"\u001b[0m\u001b[1;39m,\n",
      "    \u001b[0m\u001b[34;1m\"Total\"\u001b[0m\u001b[1;39m: \u001b[0m\u001b[0;39m530\u001b[0m\u001b[1;39m,\n",
      "    \u001b[0m\u001b[34;1m\"HP\"\u001b[0m\u001b[1;39m: \u001b[0m\u001b[0;39m70\u001b[0m\u001b[1;39m,\n",
      "    \u001b[0m\u001b[34;1m\"Attack\"\u001b[0m\u001b[1;39m: \u001b[0m\u001b[0;39m110\u001b[0m\u001b[1;39m,\n",
      "    \u001b[0m\u001b[34;1m\"Defense\"\u001b[0m\u001b[1;39m: \u001b[0m\u001b[0;39m180\u001b[0m\u001b[1;39m,\n",
      "    \u001b[0m\u001b[34;1m\"Sp. Atk\"\u001b[0m\u001b[1;39m: \u001b[0m\u001b[0;39m60\u001b[0m\u001b[1;39m,\n",
      "    \u001b[0m\u001b[34;1m\"Sp. Def\"\u001b[0m\u001b[1;39m: \u001b[0m\u001b[0;39m60\u001b[0m\u001b[1;39m,\n",
      "    \u001b[0m\u001b[34;1m\"Speed\"\u001b[0m\u001b[1;39m: \u001b[0m\u001b[0;39m50\u001b[0m\u001b[1;39m,\n",
      "    \u001b[0m\u001b[34;1m\"Generation\"\u001b[0m\u001b[1;39m: \u001b[0m\u001b[0;39m3\u001b[0m\u001b[1;39m,\n",
      "    \u001b[0m\u001b[34;1m\"Legendary\"\u001b[0m\u001b[1;39m: \u001b[0m\u001b[0;39mfalse\u001b[0m\u001b[1;39m\n",
      "  \u001b[1;39m}\u001b[0m\u001b[1;39m\n",
      "\u001b[1;39m]\u001b[0m\n"
     ]
    }
   ],
   "source": [
    "!jq '[ .[] | select(.Defense > 100) ] | sort_by(.Defense) | reverse | .[0:5]' pokemon.json"
   ]
  },
  {
   "attachments": {},
   "cell_type": "markdown",
   "id": "14a05755",
   "metadata": {},
   "source": [
    "### Grouping and Mapping"
   ]
  },
  {
   "attachments": {},
   "cell_type": "markdown",
   "id": "2048724b",
   "metadata": {},
   "source": [
    "##### Get the number of Pokemon by Generation"
   ]
  },
  {
   "cell_type": "code",
   "execution_count": null,
   "id": "33a93900",
   "metadata": {},
   "outputs": [],
   "source": []
  },
  {
   "attachments": {},
   "cell_type": "markdown",
   "id": "35d53aef",
   "metadata": {},
   "source": [
    "Solution:"
   ]
  },
  {
   "cell_type": "code",
   "execution_count": 41,
   "id": "a27d3489",
   "metadata": {},
   "outputs": [
    {
     "name": "stdout",
     "output_type": "stream",
     "text": [
      "\u001b[1;39m{\n",
      "  \u001b[0m\u001b[34;1m\"1\"\u001b[0m\u001b[1;39m: \u001b[0m\u001b[0;39m151\u001b[0m\u001b[1;39m,\n",
      "  \u001b[0m\u001b[34;1m\"2\"\u001b[0m\u001b[1;39m: \u001b[0m\u001b[0;39m100\u001b[0m\u001b[1;39m,\n",
      "  \u001b[0m\u001b[34;1m\"3\"\u001b[0m\u001b[1;39m: \u001b[0m\u001b[0;39m135\u001b[0m\u001b[1;39m,\n",
      "  \u001b[0m\u001b[34;1m\"4\"\u001b[0m\u001b[1;39m: \u001b[0m\u001b[0;39m107\u001b[0m\u001b[1;39m,\n",
      "  \u001b[0m\u001b[34;1m\"5\"\u001b[0m\u001b[1;39m: \u001b[0m\u001b[0;39m156\u001b[0m\u001b[1;39m,\n",
      "  \u001b[0m\u001b[34;1m\"6\"\u001b[0m\u001b[1;39m: \u001b[0m\u001b[0;39m72\u001b[0m\u001b[1;39m\n",
      "\u001b[1;39m}\u001b[0m\n"
     ]
    }
   ],
   "source": [
    "!jq 'group_by(.Generation) | reduce .[] as $item ({}; . + {(\"\\($item[0].Generation)\"): ($item | length)})' pokemon.json"
   ]
  },
  {
   "attachments": {},
   "cell_type": "markdown",
   "id": "6407d4b5-f579-40d0-b579-965941c82921",
   "metadata": {},
   "source": [
    "### Advance uses"
   ]
  },
  {
   "attachments": {},
   "cell_type": "markdown",
   "id": "262d68a3-8efd-44d7-b0f5-3eee30aae4f3",
   "metadata": {},
   "source": [
    "##### 13) Use `reduce` to calculate how many pokemons are legendary?"
   ]
  },
  {
   "cell_type": "code",
   "execution_count": null,
   "id": "ec0c9e61-a696-4c40-b3f4-aa4b420e0300",
   "metadata": {},
   "outputs": [],
   "source": []
  },
  {
   "attachments": {},
   "cell_type": "markdown",
   "id": "490c59c7-952a-4a04-a5ca-4e6d4ad98d8f",
   "metadata": {},
   "source": [
    "Solution:"
   ]
  },
  {
   "cell_type": "code",
   "execution_count": 17,
   "id": "c2173cae-7036-4d14-a228-402630645a09",
   "metadata": {},
   "outputs": [
    {
     "name": "stdout",
     "output_type": "stream",
     "text": [
      "\u001b[0;39m46\u001b[0m\n"
     ]
    }
   ],
   "source": [
    "!jq 'reduce .[] as $item (0; . + if $item.Legendary then 1 else 0 end)' pokemon.json"
   ]
  }
 ],
 "metadata": {
  "kernelspec": {
   "display_name": "Python 3 (ipykernel)",
   "language": "python",
   "name": "python3"
  },
  "language_info": {
   "codemirror_mode": {
    "name": "ipython",
    "version": 3
   },
   "file_extension": ".py",
   "mimetype": "text/x-python",
   "name": "python",
   "nbconvert_exporter": "python",
   "pygments_lexer": "ipython3",
   "version": "3.11.4"
  }
 },
 "nbformat": 4,
 "nbformat_minor": 5
}

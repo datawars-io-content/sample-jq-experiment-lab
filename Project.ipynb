{
 "cells": [
  {
   "cell_type": "code",
   "execution_count": 5,
   "id": "1a01101e-2847-4830-857c-0b3576b033db",
   "metadata": {},
   "outputs": [],
   "source": [
    "import jq\n",
    "import json\n",
    "\n",
    "from pprint import pprint as pp"
   ]
  },
  {
   "cell_type": "markdown",
   "id": "99846b4f-c67b-4f8e-bac6-e7eb6178c589",
   "metadata": {},
   "source": [
    "Preview of the JSON file we're dealing with:"
   ]
  },
  {
   "cell_type": "code",
   "execution_count": 23,
   "id": "8158f688-9c31-40a4-8ed1-ab94549e16e8",
   "metadata": {},
   "outputs": [
    {
     "name": "stdout",
     "output_type": "stream",
     "text": [
      "Total objects: 721\n",
      "{'Attack': 49,\n",
      " 'Defense': 49,\n",
      " 'Generation': 1,\n",
      " 'HP': 45,\n",
      " 'Legendary': False,\n",
      " 'Name': 'Bulbasaur',\n",
      " 'Sp. Atk': 65,\n",
      " 'Sp. Def': 65,\n",
      " 'Speed': 45,\n",
      " 'Total': 318,\n",
      " 'Type 1': 'Grass',\n",
      " 'Type 2': 'Poison'}\n"
     ]
    }
   ],
   "source": [
    "with open(\"pokemon.json\") as fp:\n",
    "    docs = json.load(fp)\n",
    "    print(f\"Total objects: {len(docs)}\")\n",
    "    pp(docs[0])"
   ]
  },
  {
   "cell_type": "code",
   "execution_count": 30,
   "id": "cba4a486-6f12-4582-9721-bf9fa8b794dc",
   "metadata": {},
   "outputs": [
    {
     "data": {
      "text/plain": [
       "'[{\"Name\": \"Bulbasaur\", \"Type 1\": \"Grass\", \"Type 2\": \"Poison\", \"Total\": 318, \"HP\": 45, \"Attack\": 49, \"Defense\": 49, \"Sp. Atk\": 65, \"Sp. Def\": 65, \"Speed\": 45, \"Generation\": 1, \"Legendary\": false}, {\"Name\": \"Ivysaur\", \"Type 1\": \"Grass\", \"Type 2\": \"Poison\", \"Total\": 405, \"HP\": 60, \"Attack\": 62, \"Defense\": 63, \"Sp. Atk\": 80, \"Sp. Def\": 80, \"Speed\": 60, \"Generation\": 1, \"Legendary\": false}, {\"Name\": \"Venusaur\", \"Type 1\": \"Grass\", \"Type 2\": \"Poison\", \"Total\": 525, \"HP\": 80, \"Attack\": 82, \"Defense\": 83, \"Sp. Atk\": 100, \"Sp. Def\": 100, \"Speed\": 80, \"Generation\": 1, \"Legendary\": false}, {\"Name\": \"Charmander\", \"Type 1\": \"Fire\", \"Type 2\": null, \"Total\": 309, \"HP\": 39, \"Attack\": 52, \"Defense\": 43, \"Sp. Atk\": 60, \"Sp. Def\": 50, \"Speed\": 65, \"Generation\": 1, \"Legendary\": false}, {\"Name\": \"Charmeleon\", \"Type 1\": \"Fire\", \"Type 2\": null, \"Total\": 405, \"HP\": 58, \"Attack\": 64, \"Defense\": 58, \"Sp. Atk\": 80, \"Sp. Def\": 65, \"Speed\": 80, \"Generation\": 1, \"Legendary\": false}]'"
      ]
     },
     "execution_count": 30,
     "metadata": {},
     "output_type": "execute_result"
    }
   ],
   "source": [
    "json.dumps(docs[:5])"
   ]
  },
  {
   "cell_type": "markdown",
   "id": "17c83545-22ea-4700-a7b1-962d57ae3f6f",
   "metadata": {},
   "source": [
    "### Basic selection"
   ]
  },
  {
   "cell_type": "markdown",
   "id": "1304ff1f-c674-4224-996f-3a283fbcb1ef",
   "metadata": {},
   "source": [
    "##### 1) Write the expression to select the 100th Pokemon\n",
    "\n",
    "What's the jq expression used to select the `100th` pokemon? Enter it below:"
   ]
  },
  {
   "cell_type": "code",
   "execution_count": null,
   "id": "6a5f1d8d-6865-4cfb-ab5d-f3209119fe1d",
   "metadata": {},
   "outputs": [],
   "source": []
  },
  {
   "cell_type": "markdown",
   "id": "cc26ebc3-98af-473b-b0b4-c1565452f2c4",
   "metadata": {},
   "source": [
    "Solution:"
   ]
  },
  {
   "cell_type": "code",
   "execution_count": 33,
   "id": "113b2b63-2939-47e5-bb40-69ac413b83a8",
   "metadata": {},
   "outputs": [
    {
     "name": "stdout",
     "output_type": "stream",
     "text": [
      "\u001b[1;37m{\n",
      "  \u001b[0m\u001b[1;34m\"Name\"\u001b[0m\u001b[1;37m: \u001b[0m\u001b[0;32m\"Kingler\"\u001b[0m\u001b[1;37m,\n",
      "  \u001b[0m\u001b[1;34m\"Type 1\"\u001b[0m\u001b[1;37m: \u001b[0m\u001b[0;32m\"Water\"\u001b[0m\u001b[1;37m,\n",
      "  \u001b[0m\u001b[1;34m\"Type 2\"\u001b[0m\u001b[1;37m: \u001b[0m\u001b[0;90mnull\u001b[0m\u001b[1;37m,\n",
      "  \u001b[0m\u001b[1;34m\"Total\"\u001b[0m\u001b[1;37m: \u001b[0m\u001b[0;37m475\u001b[0m\u001b[1;37m,\n",
      "  \u001b[0m\u001b[1;34m\"HP\"\u001b[0m\u001b[1;37m: \u001b[0m\u001b[0;37m55\u001b[0m\u001b[1;37m,\n",
      "  \u001b[0m\u001b[1;34m\"Attack\"\u001b[0m\u001b[1;37m: \u001b[0m\u001b[0;37m130\u001b[0m\u001b[1;37m,\n",
      "  \u001b[0m\u001b[1;34m\"Defense\"\u001b[0m\u001b[1;37m: \u001b[0m\u001b[0;37m115\u001b[0m\u001b[1;37m,\n",
      "  \u001b[0m\u001b[1;34m\"Sp. Atk\"\u001b[0m\u001b[1;37m: \u001b[0m\u001b[0;37m50\u001b[0m\u001b[1;37m,\n",
      "  \u001b[0m\u001b[1;34m\"Sp. Def\"\u001b[0m\u001b[1;37m: \u001b[0m\u001b[0;37m50\u001b[0m\u001b[1;37m,\n",
      "  \u001b[0m\u001b[1;34m\"Speed\"\u001b[0m\u001b[1;37m: \u001b[0m\u001b[0;37m75\u001b[0m\u001b[1;37m,\n",
      "  \u001b[0m\u001b[1;34m\"Generation\"\u001b[0m\u001b[1;37m: \u001b[0m\u001b[0;37m1\u001b[0m\u001b[1;37m,\n",
      "  \u001b[0m\u001b[1;34m\"Legendary\"\u001b[0m\u001b[1;37m: \u001b[0m\u001b[0;37mfalse\u001b[0m\u001b[1;37m\n",
      "\u001b[1;37m}\u001b[0m\n"
     ]
    }
   ],
   "source": [
    "!jq '.[98]' pokemon.json"
   ]
  },
  {
   "cell_type": "markdown",
   "id": "d2f14e0e-1062-44ff-84a7-e9688416fc6a",
   "metadata": {},
   "source": [
    "##### 2) Select only the `Name`, `Type 1` and `Total` form the 255th pokemon.\n",
    "\n",
    "Write the expression to select values individually, your output should look something like:\n",
    "\n",
    "```\n",
    "\"Torchic\"\n",
    "\"Fire\"\n",
    "310\n",
    "```"
   ]
  },
  {
   "cell_type": "code",
   "execution_count": null,
   "id": "331f2a34-78c5-443e-b146-ffbcb0aec3b4",
   "metadata": {},
   "outputs": [],
   "source": []
  },
  {
   "cell_type": "markdown",
   "id": "814429a0-54a1-4e43-ba45-8d08e2c3951b",
   "metadata": {},
   "source": [
    "Solution:"
   ]
  },
  {
   "cell_type": "code",
   "execution_count": 41,
   "id": "aacbf62e-36aa-423d-8332-bd193bdb1e68",
   "metadata": {},
   "outputs": [
    {
     "name": "stdout",
     "output_type": "stream",
     "text": [
      "\u001b[0;32m\"Torchic\"\u001b[0m\n",
      "\u001b[0;32m\"Fire\"\u001b[0m\n",
      "\u001b[0;37m310\u001b[0m\n"
     ]
    }
   ],
   "source": [
    "!jq '.[254] | .Name, .\"Type 1\", .Total' pokemon.json"
   ]
  },
  {
   "cell_type": "markdown",
   "id": "9182535f-d343-498b-a4a4-208ebdaf3313",
   "metadata": {},
   "source": [
    "##### 3) Select `Name`, `Type 1`, and `Total` as an object\n",
    "\n",
    "Now we want to select the same values as before, but this time we want `jq` to return an object. Your expression should look like:\n",
    "\n",
    "```\n",
    "{\n",
    "  \"Name\": \"Torchic\",\n",
    "  \"Type 1\": \"Fire\",\n",
    "  \"Total\": 310\n",
    "}\n",
    "```"
   ]
  },
  {
   "cell_type": "markdown",
   "id": "0857b6dd-1cf7-418d-99c6-5780d16a8fd4",
   "metadata": {},
   "source": [
    "Solution:"
   ]
  },
  {
   "cell_type": "code",
   "execution_count": 43,
   "id": "5b5d0ce4-1d02-47e3-af62-539def9c737a",
   "metadata": {},
   "outputs": [
    {
     "name": "stdout",
     "output_type": "stream",
     "text": [
      "\u001b[1;37m{\n",
      "  \u001b[0m\u001b[1;34m\"Name\"\u001b[0m\u001b[1;37m: \u001b[0m\u001b[0;32m\"Torchic\"\u001b[0m\u001b[1;37m,\n",
      "  \u001b[0m\u001b[1;34m\"Type 1\"\u001b[0m\u001b[1;37m: \u001b[0m\u001b[0;32m\"Fire\"\u001b[0m\u001b[1;37m,\n",
      "  \u001b[0m\u001b[1;34m\"Total\"\u001b[0m\u001b[1;37m: \u001b[0m\u001b[0;37m310\u001b[0m\u001b[1;37m\n",
      "\u001b[1;37m}\u001b[0m\n"
     ]
    }
   ],
   "source": [
    "!jq '.[254] | {Name, \"Type 1\", Total}' pokemon.json"
   ]
  },
  {
   "cell_type": "markdown",
   "id": "75ddbc35-be7d-474d-b140-ff1d320c1656",
   "metadata": {},
   "source": [
    "##### 4) Write an expression to select the last 3 pokemons\n",
    "\n",
    "Write a slicing expression to select the last 3 pokemon"
   ]
  },
  {
   "cell_type": "code",
   "execution_count": null,
   "id": "6390cd24-371a-4d1a-a05a-dff1c3735b4a",
   "metadata": {},
   "outputs": [],
   "source": []
  },
  {
   "cell_type": "markdown",
   "id": "9dfddc22-cfb7-490d-8b19-30d61b591e0f",
   "metadata": {},
   "source": [
    "Solution:"
   ]
  },
  {
   "cell_type": "code",
   "execution_count": 45,
   "id": "4b7547fa-6d65-45ab-901e-8ffbcc1a625b",
   "metadata": {},
   "outputs": [
    {
     "name": "stdout",
     "output_type": "stream",
     "text": [
      "\u001b[1;37m[\n",
      "  \u001b[1;37m{\n",
      "    \u001b[0m\u001b[1;34m\"Name\"\u001b[0m\u001b[1;37m: \u001b[0m\u001b[0;32m\"Diancie\"\u001b[0m\u001b[1;37m,\n",
      "    \u001b[0m\u001b[1;34m\"Type 1\"\u001b[0m\u001b[1;37m: \u001b[0m\u001b[0;32m\"Rock\"\u001b[0m\u001b[1;37m,\n",
      "    \u001b[0m\u001b[1;34m\"Type 2\"\u001b[0m\u001b[1;37m: \u001b[0m\u001b[0;32m\"Fairy\"\u001b[0m\u001b[1;37m,\n",
      "    \u001b[0m\u001b[1;34m\"Total\"\u001b[0m\u001b[1;37m: \u001b[0m\u001b[0;37m600\u001b[0m\u001b[1;37m,\n",
      "    \u001b[0m\u001b[1;34m\"HP\"\u001b[0m\u001b[1;37m: \u001b[0m\u001b[0;37m50\u001b[0m\u001b[1;37m,\n",
      "    \u001b[0m\u001b[1;34m\"Attack\"\u001b[0m\u001b[1;37m: \u001b[0m\u001b[0;37m100\u001b[0m\u001b[1;37m,\n",
      "    \u001b[0m\u001b[1;34m\"Defense\"\u001b[0m\u001b[1;37m: \u001b[0m\u001b[0;37m150\u001b[0m\u001b[1;37m,\n",
      "    \u001b[0m\u001b[1;34m\"Sp. Atk\"\u001b[0m\u001b[1;37m: \u001b[0m\u001b[0;37m100\u001b[0m\u001b[1;37m,\n",
      "    \u001b[0m\u001b[1;34m\"Sp. Def\"\u001b[0m\u001b[1;37m: \u001b[0m\u001b[0;37m150\u001b[0m\u001b[1;37m,\n",
      "    \u001b[0m\u001b[1;34m\"Speed\"\u001b[0m\u001b[1;37m: \u001b[0m\u001b[0;37m50\u001b[0m\u001b[1;37m,\n",
      "    \u001b[0m\u001b[1;34m\"Generation\"\u001b[0m\u001b[1;37m: \u001b[0m\u001b[0;37m6\u001b[0m\u001b[1;37m,\n",
      "    \u001b[0m\u001b[1;34m\"Legendary\"\u001b[0m\u001b[1;37m: \u001b[0m\u001b[0;37mtrue\u001b[0m\u001b[1;37m\n",
      "  \u001b[1;37m}\u001b[0m\u001b[1;37m,\n",
      "  \u001b[1;37m{\n",
      "    \u001b[0m\u001b[1;34m\"Name\"\u001b[0m\u001b[1;37m: \u001b[0m\u001b[0;32m\"HoopaHoopa Confined\"\u001b[0m\u001b[1;37m,\n",
      "    \u001b[0m\u001b[1;34m\"Type 1\"\u001b[0m\u001b[1;37m: \u001b[0m\u001b[0;32m\"Psychic\"\u001b[0m\u001b[1;37m,\n",
      "    \u001b[0m\u001b[1;34m\"Type 2\"\u001b[0m\u001b[1;37m: \u001b[0m\u001b[0;32m\"Ghost\"\u001b[0m\u001b[1;37m,\n",
      "    \u001b[0m\u001b[1;34m\"Total\"\u001b[0m\u001b[1;37m: \u001b[0m\u001b[0;37m600\u001b[0m\u001b[1;37m,\n",
      "    \u001b[0m\u001b[1;34m\"HP\"\u001b[0m\u001b[1;37m: \u001b[0m\u001b[0;37m80\u001b[0m\u001b[1;37m,\n",
      "    \u001b[0m\u001b[1;34m\"Attack\"\u001b[0m\u001b[1;37m: \u001b[0m\u001b[0;37m110\u001b[0m\u001b[1;37m,\n",
      "    \u001b[0m\u001b[1;34m\"Defense\"\u001b[0m\u001b[1;37m: \u001b[0m\u001b[0;37m60\u001b[0m\u001b[1;37m,\n",
      "    \u001b[0m\u001b[1;34m\"Sp. Atk\"\u001b[0m\u001b[1;37m: \u001b[0m\u001b[0;37m150\u001b[0m\u001b[1;37m,\n",
      "    \u001b[0m\u001b[1;34m\"Sp. Def\"\u001b[0m\u001b[1;37m: \u001b[0m\u001b[0;37m130\u001b[0m\u001b[1;37m,\n",
      "    \u001b[0m\u001b[1;34m\"Speed\"\u001b[0m\u001b[1;37m: \u001b[0m\u001b[0;37m70\u001b[0m\u001b[1;37m,\n",
      "    \u001b[0m\u001b[1;34m\"Generation\"\u001b[0m\u001b[1;37m: \u001b[0m\u001b[0;37m6\u001b[0m\u001b[1;37m,\n",
      "    \u001b[0m\u001b[1;34m\"Legendary\"\u001b[0m\u001b[1;37m: \u001b[0m\u001b[0;37mtrue\u001b[0m\u001b[1;37m\n",
      "  \u001b[1;37m}\u001b[0m\u001b[1;37m,\n",
      "  \u001b[1;37m{\n",
      "    \u001b[0m\u001b[1;34m\"Name\"\u001b[0m\u001b[1;37m: \u001b[0m\u001b[0;32m\"Volcanion\"\u001b[0m\u001b[1;37m,\n",
      "    \u001b[0m\u001b[1;34m\"Type 1\"\u001b[0m\u001b[1;37m: \u001b[0m\u001b[0;32m\"Fire\"\u001b[0m\u001b[1;37m,\n",
      "    \u001b[0m\u001b[1;34m\"Type 2\"\u001b[0m\u001b[1;37m: \u001b[0m\u001b[0;32m\"Water\"\u001b[0m\u001b[1;37m,\n",
      "    \u001b[0m\u001b[1;34m\"Total\"\u001b[0m\u001b[1;37m: \u001b[0m\u001b[0;37m600\u001b[0m\u001b[1;37m,\n",
      "    \u001b[0m\u001b[1;34m\"HP\"\u001b[0m\u001b[1;37m: \u001b[0m\u001b[0;37m80\u001b[0m\u001b[1;37m,\n",
      "    \u001b[0m\u001b[1;34m\"Attack\"\u001b[0m\u001b[1;37m: \u001b[0m\u001b[0;37m110\u001b[0m\u001b[1;37m,\n",
      "    \u001b[0m\u001b[1;34m\"Defense\"\u001b[0m\u001b[1;37m: \u001b[0m\u001b[0;37m120\u001b[0m\u001b[1;37m,\n",
      "    \u001b[0m\u001b[1;34m\"Sp. Atk\"\u001b[0m\u001b[1;37m: \u001b[0m\u001b[0;37m130\u001b[0m\u001b[1;37m,\n",
      "    \u001b[0m\u001b[1;34m\"Sp. Def\"\u001b[0m\u001b[1;37m: \u001b[0m\u001b[0;37m90\u001b[0m\u001b[1;37m,\n",
      "    \u001b[0m\u001b[1;34m\"Speed\"\u001b[0m\u001b[1;37m: \u001b[0m\u001b[0;37m70\u001b[0m\u001b[1;37m,\n",
      "    \u001b[0m\u001b[1;34m\"Generation\"\u001b[0m\u001b[1;37m: \u001b[0m\u001b[0;37m6\u001b[0m\u001b[1;37m,\n",
      "    \u001b[0m\u001b[1;34m\"Legendary\"\u001b[0m\u001b[1;37m: \u001b[0m\u001b[0;37mtrue\u001b[0m\u001b[1;37m\n",
      "  \u001b[1;37m}\u001b[0m\u001b[1;37m\n",
      "\u001b[1;37m]\u001b[0m\n"
     ]
    }
   ],
   "source": [
    "!jq '.[-3:]' pokemon.json"
   ]
  },
  {
   "cell_type": "markdown",
   "id": "f01e9dfb-72c3-43eb-a351-046d75ddf325",
   "metadata": {},
   "source": [
    "### Statistical methods"
   ]
  },
  {
   "cell_type": "markdown",
   "id": "a83ba619-9841-436a-899c-acb5756df5b2",
   "metadata": {},
   "source": [
    "##### 5) Write an expression to find the total number of Pokemon"
   ]
  },
  {
   "cell_type": "code",
   "execution_count": null,
   "id": "1d1d2764-df7d-4684-b3db-f8cf1d054951",
   "metadata": {},
   "outputs": [],
   "source": []
  },
  {
   "cell_type": "markdown",
   "id": "4953d646-6506-46cb-a446-a3501afc6cc3",
   "metadata": {},
   "source": [
    "Solution:"
   ]
  },
  {
   "cell_type": "code",
   "execution_count": 48,
   "id": "44a9d97c-4cc9-4de0-921d-dee7827c320d",
   "metadata": {},
   "outputs": [
    {
     "name": "stdout",
     "output_type": "stream",
     "text": [
      "\u001b[0;37m721\u001b[0m\n"
     ]
    }
   ],
   "source": [
    "!jq 'length' pokemon.json"
   ]
  },
  {
   "cell_type": "markdown",
   "id": "729d19bd-ba88-4f4e-af18-a766a4b93648",
   "metadata": {},
   "source": [
    "##### 6) Write an expression to select the maximum value of `Total`"
   ]
  },
  {
   "cell_type": "code",
   "execution_count": null,
   "id": "66d988a9-4bf3-405d-8eb9-828d72f209ee",
   "metadata": {},
   "outputs": [],
   "source": []
  },
  {
   "cell_type": "markdown",
   "id": "36c2ce70-8009-4764-b817-42bc94af1fb7",
   "metadata": {},
   "source": [
    "Solution:"
   ]
  },
  {
   "cell_type": "code",
   "execution_count": 47,
   "id": "a118262e-a056-40ef-b9a8-328ef65a05cb",
   "metadata": {},
   "outputs": [
    {
     "name": "stdout",
     "output_type": "stream",
     "text": [
      "\u001b[0;37m720\u001b[0m\n"
     ]
    }
   ],
   "source": [
    "!jq 'max_by(.Total) | .Total' pokemon.json"
   ]
  },
  {
   "cell_type": "markdown",
   "id": "0977f81d-962d-4ca6-93c3-509b321da774",
   "metadata": {},
   "source": [
    "##### 7) Write an expression to find the average value of `Total`"
   ]
  },
  {
   "cell_type": "code",
   "execution_count": null,
   "id": "6f7541f5-ee62-4163-aab9-362a15341c9b",
   "metadata": {},
   "outputs": [],
   "source": []
  },
  {
   "cell_type": "markdown",
   "id": "97be5ccf-3ec4-4263-b0b5-cc15b02a3fad",
   "metadata": {},
   "source": [
    "Solution:"
   ]
  },
  {
   "cell_type": "code",
   "execution_count": 54,
   "id": "85d93ef6-3fb0-4af5-b75f-c298800fcfaa",
   "metadata": {},
   "outputs": [
    {
     "name": "stdout",
     "output_type": "stream",
     "text": [
      "\u001b[0;37m417.94590846047157\u001b[0m\n"
     ]
    }
   ],
   "source": [
    "!jq '[.[] | .Total] | add / length' pokemon.json"
   ]
  },
  {
   "cell_type": "markdown",
   "id": "59362a67-15a4-44fe-a066-712a471855d6",
   "metadata": {},
   "source": [
    "### Selection"
   ]
  },
  {
   "cell_type": "markdown",
   "id": "1ae52e60-e144-48cb-b356-bf66ec53de7b",
   "metadata": {},
   "source": [
    "##### 8) Select the pokemons that have an `Attack` greater than 150"
   ]
  },
  {
   "cell_type": "code",
   "execution_count": null,
   "id": "619580a6-a093-45a5-8317-d79adbf1f8da",
   "metadata": {},
   "outputs": [],
   "source": []
  },
  {
   "cell_type": "markdown",
   "id": "39078c29-8c1b-435f-a48e-c5d07c27f49b",
   "metadata": {},
   "source": [
    "Solution:"
   ]
  },
  {
   "cell_type": "code",
   "execution_count": 66,
   "id": "06740188-4e22-4e72-ade0-31baa6d9b002",
   "metadata": {},
   "outputs": [
    {
     "name": "stdout",
     "output_type": "stream",
     "text": [
      "\u001b[1;37m{\n",
      "  \u001b[0m\u001b[1;34m\"Name\"\u001b[0m\u001b[1;37m: \u001b[0m\u001b[0;32m\"Slaking\"\u001b[0m\u001b[1;37m,\n",
      "  \u001b[0m\u001b[1;34m\"Type 1\"\u001b[0m\u001b[1;37m: \u001b[0m\u001b[0;32m\"Normal\"\u001b[0m\u001b[1;37m,\n",
      "  \u001b[0m\u001b[1;34m\"Type 2\"\u001b[0m\u001b[1;37m: \u001b[0m\u001b[0;90mnull\u001b[0m\u001b[1;37m,\n",
      "  \u001b[0m\u001b[1;34m\"Total\"\u001b[0m\u001b[1;37m: \u001b[0m\u001b[0;37m670\u001b[0m\u001b[1;37m,\n",
      "  \u001b[0m\u001b[1;34m\"HP\"\u001b[0m\u001b[1;37m: \u001b[0m\u001b[0;37m150\u001b[0m\u001b[1;37m,\n",
      "  \u001b[0m\u001b[1;34m\"Attack\"\u001b[0m\u001b[1;37m: \u001b[0m\u001b[0;37m160\u001b[0m\u001b[1;37m,\n",
      "  \u001b[0m\u001b[1;34m\"Defense\"\u001b[0m\u001b[1;37m: \u001b[0m\u001b[0;37m100\u001b[0m\u001b[1;37m,\n",
      "  \u001b[0m\u001b[1;34m\"Sp. Atk\"\u001b[0m\u001b[1;37m: \u001b[0m\u001b[0;37m95\u001b[0m\u001b[1;37m,\n",
      "  \u001b[0m\u001b[1;34m\"Sp. Def\"\u001b[0m\u001b[1;37m: \u001b[0m\u001b[0;37m65\u001b[0m\u001b[1;37m,\n",
      "  \u001b[0m\u001b[1;34m\"Speed\"\u001b[0m\u001b[1;37m: \u001b[0m\u001b[0;37m100\u001b[0m\u001b[1;37m,\n",
      "  \u001b[0m\u001b[1;34m\"Generation\"\u001b[0m\u001b[1;37m: \u001b[0m\u001b[0;37m3\u001b[0m\u001b[1;37m,\n",
      "  \u001b[0m\u001b[1;34m\"Legendary\"\u001b[0m\u001b[1;37m: \u001b[0m\u001b[0;37mfalse\u001b[0m\u001b[1;37m\n",
      "\u001b[1;37m}\u001b[0m\n",
      "\u001b[1;37m{\n",
      "  \u001b[0m\u001b[1;34m\"Name\"\u001b[0m\u001b[1;37m: \u001b[0m\u001b[0;32m\"Rampardos\"\u001b[0m\u001b[1;37m,\n",
      "  \u001b[0m\u001b[1;34m\"Type 1\"\u001b[0m\u001b[1;37m: \u001b[0m\u001b[0;32m\"Rock\"\u001b[0m\u001b[1;37m,\n",
      "  \u001b[0m\u001b[1;34m\"Type 2\"\u001b[0m\u001b[1;37m: \u001b[0m\u001b[0;90mnull\u001b[0m\u001b[1;37m,\n",
      "  \u001b[0m\u001b[1;34m\"Total\"\u001b[0m\u001b[1;37m: \u001b[0m\u001b[0;37m495\u001b[0m\u001b[1;37m,\n",
      "  \u001b[0m\u001b[1;34m\"HP\"\u001b[0m\u001b[1;37m: \u001b[0m\u001b[0;37m97\u001b[0m\u001b[1;37m,\n",
      "  \u001b[0m\u001b[1;34m\"Attack\"\u001b[0m\u001b[1;37m: \u001b[0m\u001b[0;37m165\u001b[0m\u001b[1;37m,\n",
      "  \u001b[0m\u001b[1;34m\"Defense\"\u001b[0m\u001b[1;37m: \u001b[0m\u001b[0;37m60\u001b[0m\u001b[1;37m,\n",
      "  \u001b[0m\u001b[1;34m\"Sp. Atk\"\u001b[0m\u001b[1;37m: \u001b[0m\u001b[0;37m65\u001b[0m\u001b[1;37m,\n",
      "  \u001b[0m\u001b[1;34m\"Sp. Def\"\u001b[0m\u001b[1;37m: \u001b[0m\u001b[0;37m50\u001b[0m\u001b[1;37m,\n",
      "  \u001b[0m\u001b[1;34m\"Speed\"\u001b[0m\u001b[1;37m: \u001b[0m\u001b[0;37m58\u001b[0m\u001b[1;37m,\n",
      "  \u001b[0m\u001b[1;34m\"Generation\"\u001b[0m\u001b[1;37m: \u001b[0m\u001b[0;37m4\u001b[0m\u001b[1;37m,\n",
      "  \u001b[0m\u001b[1;34m\"Legendary\"\u001b[0m\u001b[1;37m: \u001b[0m\u001b[0;37mfalse\u001b[0m\u001b[1;37m\n",
      "\u001b[1;37m}\u001b[0m\n",
      "\u001b[1;37m{\n",
      "  \u001b[0m\u001b[1;34m\"Name\"\u001b[0m\u001b[1;37m: \u001b[0m\u001b[0;32m\"Regigigas\"\u001b[0m\u001b[1;37m,\n",
      "  \u001b[0m\u001b[1;34m\"Type 1\"\u001b[0m\u001b[1;37m: \u001b[0m\u001b[0;32m\"Normal\"\u001b[0m\u001b[1;37m,\n",
      "  \u001b[0m\u001b[1;34m\"Type 2\"\u001b[0m\u001b[1;37m: \u001b[0m\u001b[0;90mnull\u001b[0m\u001b[1;37m,\n",
      "  \u001b[0m\u001b[1;34m\"Total\"\u001b[0m\u001b[1;37m: \u001b[0m\u001b[0;37m670\u001b[0m\u001b[1;37m,\n",
      "  \u001b[0m\u001b[1;34m\"HP\"\u001b[0m\u001b[1;37m: \u001b[0m\u001b[0;37m110\u001b[0m\u001b[1;37m,\n",
      "  \u001b[0m\u001b[1;34m\"Attack\"\u001b[0m\u001b[1;37m: \u001b[0m\u001b[0;37m160\u001b[0m\u001b[1;37m,\n",
      "  \u001b[0m\u001b[1;34m\"Defense\"\u001b[0m\u001b[1;37m: \u001b[0m\u001b[0;37m110\u001b[0m\u001b[1;37m,\n",
      "  \u001b[0m\u001b[1;34m\"Sp. Atk\"\u001b[0m\u001b[1;37m: \u001b[0m\u001b[0;37m80\u001b[0m\u001b[1;37m,\n",
      "  \u001b[0m\u001b[1;34m\"Sp. Def\"\u001b[0m\u001b[1;37m: \u001b[0m\u001b[0;37m110\u001b[0m\u001b[1;37m,\n",
      "  \u001b[0m\u001b[1;34m\"Speed\"\u001b[0m\u001b[1;37m: \u001b[0m\u001b[0;37m100\u001b[0m\u001b[1;37m,\n",
      "  \u001b[0m\u001b[1;34m\"Generation\"\u001b[0m\u001b[1;37m: \u001b[0m\u001b[0;37m4\u001b[0m\u001b[1;37m,\n",
      "  \u001b[0m\u001b[1;34m\"Legendary\"\u001b[0m\u001b[1;37m: \u001b[0m\u001b[0;37mtrue\u001b[0m\u001b[1;37m\n",
      "\u001b[1;37m}\u001b[0m\n"
     ]
    }
   ],
   "source": [
    "!jq '.[] | select(.Attack > 150)' pokemon.json"
   ]
  },
  {
   "cell_type": "markdown",
   "id": "4ed2a2b7-b56e-4aa7-a5cd-0b7a3bd9e611",
   "metadata": {},
   "source": [
    "##### 9) Select only the `Name` and `Total` properties from pokemons that have a `Total` greater than 650"
   ]
  },
  {
   "cell_type": "code",
   "execution_count": null,
   "id": "76d72cd4-2211-456b-a298-bcd1d9ae18f8",
   "metadata": {},
   "outputs": [],
   "source": []
  },
  {
   "cell_type": "markdown",
   "id": "fe171697-f925-4bf8-872b-74fcf9ec4229",
   "metadata": {},
   "source": [
    "Solution:"
   ]
  },
  {
   "cell_type": "code",
   "execution_count": 67,
   "id": "098b1e27-8cd1-49cb-9fe1-68ac61ca6653",
   "metadata": {},
   "outputs": [
    {
     "name": "stdout",
     "output_type": "stream",
     "text": [
      "\u001b[1;37m[\n",
      "  \u001b[1;37m{\n",
      "    \u001b[0m\u001b[1;34m\"Name\"\u001b[0m\u001b[1;37m: \u001b[0m\u001b[0;32m\"Mewtwo\"\u001b[0m\u001b[1;37m,\n",
      "    \u001b[0m\u001b[1;34m\"Total\"\u001b[0m\u001b[1;37m: \u001b[0m\u001b[0;37m680\u001b[0m\u001b[1;37m\n",
      "  \u001b[1;37m}\u001b[0m\u001b[1;37m,\n",
      "  \u001b[1;37m{\n",
      "    \u001b[0m\u001b[1;34m\"Name\"\u001b[0m\u001b[1;37m: \u001b[0m\u001b[0;32m\"Lugia\"\u001b[0m\u001b[1;37m,\n",
      "    \u001b[0m\u001b[1;34m\"Total\"\u001b[0m\u001b[1;37m: \u001b[0m\u001b[0;37m680\u001b[0m\u001b[1;37m\n",
      "  \u001b[1;37m}\u001b[0m\u001b[1;37m,\n",
      "  \u001b[1;37m{\n",
      "    \u001b[0m\u001b[1;34m\"Name\"\u001b[0m\u001b[1;37m: \u001b[0m\u001b[0;32m\"Ho-oh\"\u001b[0m\u001b[1;37m,\n",
      "    \u001b[0m\u001b[1;34m\"Total\"\u001b[0m\u001b[1;37m: \u001b[0m\u001b[0;37m680\u001b[0m\u001b[1;37m\n",
      "  \u001b[1;37m}\u001b[0m\u001b[1;37m,\n",
      "  \u001b[1;37m{\n",
      "    \u001b[0m\u001b[1;34m\"Name\"\u001b[0m\u001b[1;37m: \u001b[0m\u001b[0;32m\"Slaking\"\u001b[0m\u001b[1;37m,\n",
      "    \u001b[0m\u001b[1;34m\"Total\"\u001b[0m\u001b[1;37m: \u001b[0m\u001b[0;37m670\u001b[0m\u001b[1;37m\n",
      "  \u001b[1;37m}\u001b[0m\u001b[1;37m,\n",
      "  \u001b[1;37m{\n",
      "    \u001b[0m\u001b[1;34m\"Name\"\u001b[0m\u001b[1;37m: \u001b[0m\u001b[0;32m\"Kyogre\"\u001b[0m\u001b[1;37m,\n",
      "    \u001b[0m\u001b[1;34m\"Total\"\u001b[0m\u001b[1;37m: \u001b[0m\u001b[0;37m670\u001b[0m\u001b[1;37m\n",
      "  \u001b[1;37m}\u001b[0m\u001b[1;37m,\n",
      "  \u001b[1;37m{\n",
      "    \u001b[0m\u001b[1;34m\"Name\"\u001b[0m\u001b[1;37m: \u001b[0m\u001b[0;32m\"Groudon\"\u001b[0m\u001b[1;37m,\n",
      "    \u001b[0m\u001b[1;34m\"Total\"\u001b[0m\u001b[1;37m: \u001b[0m\u001b[0;37m670\u001b[0m\u001b[1;37m\n",
      "  \u001b[1;37m}\u001b[0m\u001b[1;37m,\n",
      "  \u001b[1;37m{\n",
      "    \u001b[0m\u001b[1;34m\"Name\"\u001b[0m\u001b[1;37m: \u001b[0m\u001b[0;32m\"Rayquaza\"\u001b[0m\u001b[1;37m,\n",
      "    \u001b[0m\u001b[1;34m\"Total\"\u001b[0m\u001b[1;37m: \u001b[0m\u001b[0;37m680\u001b[0m\u001b[1;37m\n",
      "  \u001b[1;37m}\u001b[0m\u001b[1;37m,\n",
      "  \u001b[1;37m{\n",
      "    \u001b[0m\u001b[1;34m\"Name\"\u001b[0m\u001b[1;37m: \u001b[0m\u001b[0;32m\"Dialga\"\u001b[0m\u001b[1;37m,\n",
      "    \u001b[0m\u001b[1;34m\"Total\"\u001b[0m\u001b[1;37m: \u001b[0m\u001b[0;37m680\u001b[0m\u001b[1;37m\n",
      "  \u001b[1;37m}\u001b[0m\u001b[1;37m,\n",
      "  \u001b[1;37m{\n",
      "    \u001b[0m\u001b[1;34m\"Name\"\u001b[0m\u001b[1;37m: \u001b[0m\u001b[0;32m\"Palkia\"\u001b[0m\u001b[1;37m,\n",
      "    \u001b[0m\u001b[1;34m\"Total\"\u001b[0m\u001b[1;37m: \u001b[0m\u001b[0;37m680\u001b[0m\u001b[1;37m\n",
      "  \u001b[1;37m}\u001b[0m\u001b[1;37m,\n",
      "  \u001b[1;37m{\n",
      "    \u001b[0m\u001b[1;34m\"Name\"\u001b[0m\u001b[1;37m: \u001b[0m\u001b[0;32m\"Regigigas\"\u001b[0m\u001b[1;37m,\n",
      "    \u001b[0m\u001b[1;34m\"Total\"\u001b[0m\u001b[1;37m: \u001b[0m\u001b[0;37m670\u001b[0m\u001b[1;37m\n",
      "  \u001b[1;37m}\u001b[0m\u001b[1;37m,\n",
      "  \u001b[1;37m{\n",
      "    \u001b[0m\u001b[1;34m\"Name\"\u001b[0m\u001b[1;37m: \u001b[0m\u001b[0;32m\"GiratinaAltered Forme\"\u001b[0m\u001b[1;37m,\n",
      "    \u001b[0m\u001b[1;34m\"Total\"\u001b[0m\u001b[1;37m: \u001b[0m\u001b[0;37m680\u001b[0m\u001b[1;37m\n",
      "  \u001b[1;37m}\u001b[0m\u001b[1;37m,\n",
      "  \u001b[1;37m{\n",
      "    \u001b[0m\u001b[1;34m\"Name\"\u001b[0m\u001b[1;37m: \u001b[0m\u001b[0;32m\"Arceus\"\u001b[0m\u001b[1;37m,\n",
      "    \u001b[0m\u001b[1;34m\"Total\"\u001b[0m\u001b[1;37m: \u001b[0m\u001b[0;37m720\u001b[0m\u001b[1;37m\n",
      "  \u001b[1;37m}\u001b[0m\u001b[1;37m,\n",
      "  \u001b[1;37m{\n",
      "    \u001b[0m\u001b[1;34m\"Name\"\u001b[0m\u001b[1;37m: \u001b[0m\u001b[0;32m\"Reshiram\"\u001b[0m\u001b[1;37m,\n",
      "    \u001b[0m\u001b[1;34m\"Total\"\u001b[0m\u001b[1;37m: \u001b[0m\u001b[0;37m680\u001b[0m\u001b[1;37m\n",
      "  \u001b[1;37m}\u001b[0m\u001b[1;37m,\n",
      "  \u001b[1;37m{\n",
      "    \u001b[0m\u001b[1;34m\"Name\"\u001b[0m\u001b[1;37m: \u001b[0m\u001b[0;32m\"Zekrom\"\u001b[0m\u001b[1;37m,\n",
      "    \u001b[0m\u001b[1;34m\"Total\"\u001b[0m\u001b[1;37m: \u001b[0m\u001b[0;37m680\u001b[0m\u001b[1;37m\n",
      "  \u001b[1;37m}\u001b[0m\u001b[1;37m,\n",
      "  \u001b[1;37m{\n",
      "    \u001b[0m\u001b[1;34m\"Name\"\u001b[0m\u001b[1;37m: \u001b[0m\u001b[0;32m\"Kyurem\"\u001b[0m\u001b[1;37m,\n",
      "    \u001b[0m\u001b[1;34m\"Total\"\u001b[0m\u001b[1;37m: \u001b[0m\u001b[0;37m660\u001b[0m\u001b[1;37m\n",
      "  \u001b[1;37m}\u001b[0m\u001b[1;37m,\n",
      "  \u001b[1;37m{\n",
      "    \u001b[0m\u001b[1;34m\"Name\"\u001b[0m\u001b[1;37m: \u001b[0m\u001b[0;32m\"Xerneas\"\u001b[0m\u001b[1;37m,\n",
      "    \u001b[0m\u001b[1;34m\"Total\"\u001b[0m\u001b[1;37m: \u001b[0m\u001b[0;37m680\u001b[0m\u001b[1;37m\n",
      "  \u001b[1;37m}\u001b[0m\u001b[1;37m,\n",
      "  \u001b[1;37m{\n",
      "    \u001b[0m\u001b[1;34m\"Name\"\u001b[0m\u001b[1;37m: \u001b[0m\u001b[0;32m\"Yveltal\"\u001b[0m\u001b[1;37m,\n",
      "    \u001b[0m\u001b[1;34m\"Total\"\u001b[0m\u001b[1;37m: \u001b[0m\u001b[0;37m680\u001b[0m\u001b[1;37m\n",
      "  \u001b[1;37m}\u001b[0m\u001b[1;37m\n",
      "\u001b[1;37m]\u001b[0m\n"
     ]
    }
   ],
   "source": [
    "!jq '[ .[] | select(.Total > 650) | {Name, Total} ]' pokemon.json"
   ]
  },
  {
   "cell_type": "markdown",
   "id": "d1ba8ce9-7bf9-45b8-99f5-32b12a61e6cb",
   "metadata": {},
   "source": [
    "##### 10) Select all the pokemons that have a `Type 2` value set\n",
    "\n",
    "That is, `Type 2` is not null. Limit your results to the first 5 results."
   ]
  },
  {
   "cell_type": "code",
   "execution_count": null,
   "id": "56f37504-4461-49dd-80d4-88be279ed0d1",
   "metadata": {},
   "outputs": [],
   "source": []
  },
  {
   "cell_type": "markdown",
   "id": "2d8d5dbf-7a19-477a-a2b9-c53aa8693703",
   "metadata": {},
   "source": [
    "Solution:"
   ]
  },
  {
   "cell_type": "code",
   "execution_count": 70,
   "id": "78016574-0c29-40e9-af3f-d77c56175e71",
   "metadata": {},
   "outputs": [
    {
     "name": "stdout",
     "output_type": "stream",
     "text": [
      "\u001b[1;37m[\n",
      "  \u001b[1;37m{\n",
      "    \u001b[0m\u001b[1;34m\"Name\"\u001b[0m\u001b[1;37m: \u001b[0m\u001b[0;32m\"Bulbasaur\"\u001b[0m\u001b[1;37m,\n",
      "    \u001b[0m\u001b[1;34m\"Type 1\"\u001b[0m\u001b[1;37m: \u001b[0m\u001b[0;32m\"Grass\"\u001b[0m\u001b[1;37m,\n",
      "    \u001b[0m\u001b[1;34m\"Type 2\"\u001b[0m\u001b[1;37m: \u001b[0m\u001b[0;32m\"Poison\"\u001b[0m\u001b[1;37m,\n",
      "    \u001b[0m\u001b[1;34m\"Total\"\u001b[0m\u001b[1;37m: \u001b[0m\u001b[0;37m318\u001b[0m\u001b[1;37m,\n",
      "    \u001b[0m\u001b[1;34m\"HP\"\u001b[0m\u001b[1;37m: \u001b[0m\u001b[0;37m45\u001b[0m\u001b[1;37m,\n",
      "    \u001b[0m\u001b[1;34m\"Attack\"\u001b[0m\u001b[1;37m: \u001b[0m\u001b[0;37m49\u001b[0m\u001b[1;37m,\n",
      "    \u001b[0m\u001b[1;34m\"Defense\"\u001b[0m\u001b[1;37m: \u001b[0m\u001b[0;37m49\u001b[0m\u001b[1;37m,\n",
      "    \u001b[0m\u001b[1;34m\"Sp. Atk\"\u001b[0m\u001b[1;37m: \u001b[0m\u001b[0;37m65\u001b[0m\u001b[1;37m,\n",
      "    \u001b[0m\u001b[1;34m\"Sp. Def\"\u001b[0m\u001b[1;37m: \u001b[0m\u001b[0;37m65\u001b[0m\u001b[1;37m,\n",
      "    \u001b[0m\u001b[1;34m\"Speed\"\u001b[0m\u001b[1;37m: \u001b[0m\u001b[0;37m45\u001b[0m\u001b[1;37m,\n",
      "    \u001b[0m\u001b[1;34m\"Generation\"\u001b[0m\u001b[1;37m: \u001b[0m\u001b[0;37m1\u001b[0m\u001b[1;37m,\n",
      "    \u001b[0m\u001b[1;34m\"Legendary\"\u001b[0m\u001b[1;37m: \u001b[0m\u001b[0;37mfalse\u001b[0m\u001b[1;37m\n",
      "  \u001b[1;37m}\u001b[0m\u001b[1;37m,\n",
      "  \u001b[1;37m{\n",
      "    \u001b[0m\u001b[1;34m\"Name\"\u001b[0m\u001b[1;37m: \u001b[0m\u001b[0;32m\"Ivysaur\"\u001b[0m\u001b[1;37m,\n",
      "    \u001b[0m\u001b[1;34m\"Type 1\"\u001b[0m\u001b[1;37m: \u001b[0m\u001b[0;32m\"Grass\"\u001b[0m\u001b[1;37m,\n",
      "    \u001b[0m\u001b[1;34m\"Type 2\"\u001b[0m\u001b[1;37m: \u001b[0m\u001b[0;32m\"Poison\"\u001b[0m\u001b[1;37m,\n",
      "    \u001b[0m\u001b[1;34m\"Total\"\u001b[0m\u001b[1;37m: \u001b[0m\u001b[0;37m405\u001b[0m\u001b[1;37m,\n",
      "    \u001b[0m\u001b[1;34m\"HP\"\u001b[0m\u001b[1;37m: \u001b[0m\u001b[0;37m60\u001b[0m\u001b[1;37m,\n",
      "    \u001b[0m\u001b[1;34m\"Attack\"\u001b[0m\u001b[1;37m: \u001b[0m\u001b[0;37m62\u001b[0m\u001b[1;37m,\n",
      "    \u001b[0m\u001b[1;34m\"Defense\"\u001b[0m\u001b[1;37m: \u001b[0m\u001b[0;37m63\u001b[0m\u001b[1;37m,\n",
      "    \u001b[0m\u001b[1;34m\"Sp. Atk\"\u001b[0m\u001b[1;37m: \u001b[0m\u001b[0;37m80\u001b[0m\u001b[1;37m,\n",
      "    \u001b[0m\u001b[1;34m\"Sp. Def\"\u001b[0m\u001b[1;37m: \u001b[0m\u001b[0;37m80\u001b[0m\u001b[1;37m,\n",
      "    \u001b[0m\u001b[1;34m\"Speed\"\u001b[0m\u001b[1;37m: \u001b[0m\u001b[0;37m60\u001b[0m\u001b[1;37m,\n",
      "    \u001b[0m\u001b[1;34m\"Generation\"\u001b[0m\u001b[1;37m: \u001b[0m\u001b[0;37m1\u001b[0m\u001b[1;37m,\n",
      "    \u001b[0m\u001b[1;34m\"Legendary\"\u001b[0m\u001b[1;37m: \u001b[0m\u001b[0;37mfalse\u001b[0m\u001b[1;37m\n",
      "  \u001b[1;37m}\u001b[0m\u001b[1;37m,\n",
      "  \u001b[1;37m{\n",
      "    \u001b[0m\u001b[1;34m\"Name\"\u001b[0m\u001b[1;37m: \u001b[0m\u001b[0;32m\"Venusaur\"\u001b[0m\u001b[1;37m,\n",
      "    \u001b[0m\u001b[1;34m\"Type 1\"\u001b[0m\u001b[1;37m: \u001b[0m\u001b[0;32m\"Grass\"\u001b[0m\u001b[1;37m,\n",
      "    \u001b[0m\u001b[1;34m\"Type 2\"\u001b[0m\u001b[1;37m: \u001b[0m\u001b[0;32m\"Poison\"\u001b[0m\u001b[1;37m,\n",
      "    \u001b[0m\u001b[1;34m\"Total\"\u001b[0m\u001b[1;37m: \u001b[0m\u001b[0;37m525\u001b[0m\u001b[1;37m,\n",
      "    \u001b[0m\u001b[1;34m\"HP\"\u001b[0m\u001b[1;37m: \u001b[0m\u001b[0;37m80\u001b[0m\u001b[1;37m,\n",
      "    \u001b[0m\u001b[1;34m\"Attack\"\u001b[0m\u001b[1;37m: \u001b[0m\u001b[0;37m82\u001b[0m\u001b[1;37m,\n",
      "    \u001b[0m\u001b[1;34m\"Defense\"\u001b[0m\u001b[1;37m: \u001b[0m\u001b[0;37m83\u001b[0m\u001b[1;37m,\n",
      "    \u001b[0m\u001b[1;34m\"Sp. Atk\"\u001b[0m\u001b[1;37m: \u001b[0m\u001b[0;37m100\u001b[0m\u001b[1;37m,\n",
      "    \u001b[0m\u001b[1;34m\"Sp. Def\"\u001b[0m\u001b[1;37m: \u001b[0m\u001b[0;37m100\u001b[0m\u001b[1;37m,\n",
      "    \u001b[0m\u001b[1;34m\"Speed\"\u001b[0m\u001b[1;37m: \u001b[0m\u001b[0;37m80\u001b[0m\u001b[1;37m,\n",
      "    \u001b[0m\u001b[1;34m\"Generation\"\u001b[0m\u001b[1;37m: \u001b[0m\u001b[0;37m1\u001b[0m\u001b[1;37m,\n",
      "    \u001b[0m\u001b[1;34m\"Legendary\"\u001b[0m\u001b[1;37m: \u001b[0m\u001b[0;37mfalse\u001b[0m\u001b[1;37m\n",
      "  \u001b[1;37m}\u001b[0m\u001b[1;37m,\n",
      "  \u001b[1;37m{\n",
      "    \u001b[0m\u001b[1;34m\"Name\"\u001b[0m\u001b[1;37m: \u001b[0m\u001b[0;32m\"Charizard\"\u001b[0m\u001b[1;37m,\n",
      "    \u001b[0m\u001b[1;34m\"Type 1\"\u001b[0m\u001b[1;37m: \u001b[0m\u001b[0;32m\"Fire\"\u001b[0m\u001b[1;37m,\n",
      "    \u001b[0m\u001b[1;34m\"Type 2\"\u001b[0m\u001b[1;37m: \u001b[0m\u001b[0;32m\"Flying\"\u001b[0m\u001b[1;37m,\n",
      "    \u001b[0m\u001b[1;34m\"Total\"\u001b[0m\u001b[1;37m: \u001b[0m\u001b[0;37m534\u001b[0m\u001b[1;37m,\n",
      "    \u001b[0m\u001b[1;34m\"HP\"\u001b[0m\u001b[1;37m: \u001b[0m\u001b[0;37m78\u001b[0m\u001b[1;37m,\n",
      "    \u001b[0m\u001b[1;34m\"Attack\"\u001b[0m\u001b[1;37m: \u001b[0m\u001b[0;37m84\u001b[0m\u001b[1;37m,\n",
      "    \u001b[0m\u001b[1;34m\"Defense\"\u001b[0m\u001b[1;37m: \u001b[0m\u001b[0;37m78\u001b[0m\u001b[1;37m,\n",
      "    \u001b[0m\u001b[1;34m\"Sp. Atk\"\u001b[0m\u001b[1;37m: \u001b[0m\u001b[0;37m109\u001b[0m\u001b[1;37m,\n",
      "    \u001b[0m\u001b[1;34m\"Sp. Def\"\u001b[0m\u001b[1;37m: \u001b[0m\u001b[0;37m85\u001b[0m\u001b[1;37m,\n",
      "    \u001b[0m\u001b[1;34m\"Speed\"\u001b[0m\u001b[1;37m: \u001b[0m\u001b[0;37m100\u001b[0m\u001b[1;37m,\n",
      "    \u001b[0m\u001b[1;34m\"Generation\"\u001b[0m\u001b[1;37m: \u001b[0m\u001b[0;37m1\u001b[0m\u001b[1;37m,\n",
      "    \u001b[0m\u001b[1;34m\"Legendary\"\u001b[0m\u001b[1;37m: \u001b[0m\u001b[0;37mfalse\u001b[0m\u001b[1;37m\n",
      "  \u001b[1;37m}\u001b[0m\u001b[1;37m,\n",
      "  \u001b[1;37m{\n",
      "    \u001b[0m\u001b[1;34m\"Name\"\u001b[0m\u001b[1;37m: \u001b[0m\u001b[0;32m\"Butterfree\"\u001b[0m\u001b[1;37m,\n",
      "    \u001b[0m\u001b[1;34m\"Type 1\"\u001b[0m\u001b[1;37m: \u001b[0m\u001b[0;32m\"Bug\"\u001b[0m\u001b[1;37m,\n",
      "    \u001b[0m\u001b[1;34m\"Type 2\"\u001b[0m\u001b[1;37m: \u001b[0m\u001b[0;32m\"Flying\"\u001b[0m\u001b[1;37m,\n",
      "    \u001b[0m\u001b[1;34m\"Total\"\u001b[0m\u001b[1;37m: \u001b[0m\u001b[0;37m395\u001b[0m\u001b[1;37m,\n",
      "    \u001b[0m\u001b[1;34m\"HP\"\u001b[0m\u001b[1;37m: \u001b[0m\u001b[0;37m60\u001b[0m\u001b[1;37m,\n",
      "    \u001b[0m\u001b[1;34m\"Attack\"\u001b[0m\u001b[1;37m: \u001b[0m\u001b[0;37m45\u001b[0m\u001b[1;37m,\n",
      "    \u001b[0m\u001b[1;34m\"Defense\"\u001b[0m\u001b[1;37m: \u001b[0m\u001b[0;37m50\u001b[0m\u001b[1;37m,\n",
      "    \u001b[0m\u001b[1;34m\"Sp. Atk\"\u001b[0m\u001b[1;37m: \u001b[0m\u001b[0;37m90\u001b[0m\u001b[1;37m,\n",
      "    \u001b[0m\u001b[1;34m\"Sp. Def\"\u001b[0m\u001b[1;37m: \u001b[0m\u001b[0;37m80\u001b[0m\u001b[1;37m,\n",
      "    \u001b[0m\u001b[1;34m\"Speed\"\u001b[0m\u001b[1;37m: \u001b[0m\u001b[0;37m70\u001b[0m\u001b[1;37m,\n",
      "    \u001b[0m\u001b[1;34m\"Generation\"\u001b[0m\u001b[1;37m: \u001b[0m\u001b[0;37m1\u001b[0m\u001b[1;37m,\n",
      "    \u001b[0m\u001b[1;34m\"Legendary\"\u001b[0m\u001b[1;37m: \u001b[0m\u001b[0;37mfalse\u001b[0m\u001b[1;37m\n",
      "  \u001b[1;37m}\u001b[0m\u001b[1;37m\n",
      "\u001b[1;37m]\u001b[0m\n"
     ]
    }
   ],
   "source": [
    "!jq '[.[] | select(.[\"Type 2\"] != null)][:5]' pokemon.json"
   ]
  },
  {
   "cell_type": "markdown",
   "id": "9c2b6a57-ec0a-447d-b9e6-0bb857885d96",
   "metadata": {},
   "source": [
    "### Sorting"
   ]
  },
  {
   "cell_type": "markdown",
   "id": "c60266ad-3d0f-4825-a19d-3a2bfc692ed9",
   "metadata": {},
   "source": [
    "##### 11) Find the Pokemons with an `HP` greater than 70, sorted by HP in Ascending mode"
   ]
  },
  {
   "cell_type": "code",
   "execution_count": null,
   "id": "b7a4cb29-0410-4fe2-8bcc-8545bbee80a0",
   "metadata": {},
   "outputs": [],
   "source": []
  },
  {
   "cell_type": "markdown",
   "id": "0f1609f2-9b9a-4538-8c94-7441f9a13132",
   "metadata": {},
   "source": [
    "Solution:"
   ]
  },
  {
   "cell_type": "code",
   "execution_count": 73,
   "id": "b9af2246-9e82-4219-b501-61fbb2208a38",
   "metadata": {},
   "outputs": [
    {
     "name": "stdout",
     "output_type": "stream",
     "text": [
      "\u001b[1;37m[\n",
      "  \u001b[1;37m{\n",
      "    \u001b[0m\u001b[1;34m\"Name\"\u001b[0m\u001b[1;37m: \u001b[0m\u001b[0;32m\"Purugly\"\u001b[0m\u001b[1;37m,\n",
      "    \u001b[0m\u001b[1;34m\"Type 1\"\u001b[0m\u001b[1;37m: \u001b[0m\u001b[0;32m\"Normal\"\u001b[0m\u001b[1;37m,\n",
      "    \u001b[0m\u001b[1;34m\"Type 2\"\u001b[0m\u001b[1;37m: \u001b[0m\u001b[0;90mnull\u001b[0m\u001b[1;37m,\n",
      "    \u001b[0m\u001b[1;34m\"Total\"\u001b[0m\u001b[1;37m: \u001b[0m\u001b[0;37m452\u001b[0m\u001b[1;37m,\n",
      "    \u001b[0m\u001b[1;34m\"HP\"\u001b[0m\u001b[1;37m: \u001b[0m\u001b[0;37m71\u001b[0m\u001b[1;37m,\n",
      "    \u001b[0m\u001b[1;34m\"Attack\"\u001b[0m\u001b[1;37m: \u001b[0m\u001b[0;37m82\u001b[0m\u001b[1;37m,\n",
      "    \u001b[0m\u001b[1;34m\"Defense\"\u001b[0m\u001b[1;37m: \u001b[0m\u001b[0;37m64\u001b[0m\u001b[1;37m,\n",
      "    \u001b[0m\u001b[1;34m\"Sp. Atk\"\u001b[0m\u001b[1;37m: \u001b[0m\u001b[0;37m64\u001b[0m\u001b[1;37m,\n",
      "    \u001b[0m\u001b[1;34m\"Sp. Def\"\u001b[0m\u001b[1;37m: \u001b[0m\u001b[0;37m59\u001b[0m\u001b[1;37m,\n",
      "    \u001b[0m\u001b[1;34m\"Speed\"\u001b[0m\u001b[1;37m: \u001b[0m\u001b[0;37m112\u001b[0m\u001b[1;37m,\n",
      "    \u001b[0m\u001b[1;34m\"Generation\"\u001b[0m\u001b[1;37m: \u001b[0m\u001b[0;37m4\u001b[0m\u001b[1;37m,\n",
      "    \u001b[0m\u001b[1;34m\"Legendary\"\u001b[0m\u001b[1;37m: \u001b[0m\u001b[0;37mfalse\u001b[0m\u001b[1;37m\n",
      "  \u001b[1;37m}\u001b[0m\u001b[1;37m,\n",
      "  \u001b[1;37m{\n",
      "    \u001b[0m\u001b[1;34m\"Name\"\u001b[0m\u001b[1;37m: \u001b[0m\u001b[0;32m\"Vanilluxe\"\u001b[0m\u001b[1;37m,\n",
      "    \u001b[0m\u001b[1;34m\"Type 1\"\u001b[0m\u001b[1;37m: \u001b[0m\u001b[0;32m\"Ice\"\u001b[0m\u001b[1;37m,\n",
      "    \u001b[0m\u001b[1;34m\"Type 2\"\u001b[0m\u001b[1;37m: \u001b[0m\u001b[0;90mnull\u001b[0m\u001b[1;37m,\n",
      "    \u001b[0m\u001b[1;34m\"Total\"\u001b[0m\u001b[1;37m: \u001b[0m\u001b[0;37m535\u001b[0m\u001b[1;37m,\n",
      "    \u001b[0m\u001b[1;34m\"HP\"\u001b[0m\u001b[1;37m: \u001b[0m\u001b[0;37m71\u001b[0m\u001b[1;37m,\n",
      "    \u001b[0m\u001b[1;34m\"Attack\"\u001b[0m\u001b[1;37m: \u001b[0m\u001b[0;37m95\u001b[0m\u001b[1;37m,\n",
      "    \u001b[0m\u001b[1;34m\"Defense\"\u001b[0m\u001b[1;37m: \u001b[0m\u001b[0;37m85\u001b[0m\u001b[1;37m,\n",
      "    \u001b[0m\u001b[1;34m\"Sp. Atk\"\u001b[0m\u001b[1;37m: \u001b[0m\u001b[0;37m110\u001b[0m\u001b[1;37m,\n",
      "    \u001b[0m\u001b[1;34m\"Sp. Def\"\u001b[0m\u001b[1;37m: \u001b[0m\u001b[0;37m95\u001b[0m\u001b[1;37m,\n",
      "    \u001b[0m\u001b[1;34m\"Speed\"\u001b[0m\u001b[1;37m: \u001b[0m\u001b[0;37m79\u001b[0m\u001b[1;37m,\n",
      "    \u001b[0m\u001b[1;34m\"Generation\"\u001b[0m\u001b[1;37m: \u001b[0m\u001b[0;37m5\u001b[0m\u001b[1;37m,\n",
      "    \u001b[0m\u001b[1;34m\"Legendary\"\u001b[0m\u001b[1;37m: \u001b[0m\u001b[0;37mfalse\u001b[0m\u001b[1;37m\n",
      "  \u001b[1;37m}\u001b[0m\u001b[1;37m,\n",
      "  \u001b[1;37m{\n",
      "    \u001b[0m\u001b[1;34m\"Name\"\u001b[0m\u001b[1;37m: \u001b[0m\u001b[0;32m\"Genesect\"\u001b[0m\u001b[1;37m,\n",
      "    \u001b[0m\u001b[1;34m\"Type 1\"\u001b[0m\u001b[1;37m: \u001b[0m\u001b[0;32m\"Bug\"\u001b[0m\u001b[1;37m,\n",
      "    \u001b[0m\u001b[1;34m\"Type 2\"\u001b[0m\u001b[1;37m: \u001b[0m\u001b[0;32m\"Steel\"\u001b[0m\u001b[1;37m,\n",
      "    \u001b[0m\u001b[1;34m\"Total\"\u001b[0m\u001b[1;37m: \u001b[0m\u001b[0;37m600\u001b[0m\u001b[1;37m,\n",
      "    \u001b[0m\u001b[1;34m\"HP\"\u001b[0m\u001b[1;37m: \u001b[0m\u001b[0;37m71\u001b[0m\u001b[1;37m,\n",
      "    \u001b[0m\u001b[1;34m\"Attack\"\u001b[0m\u001b[1;37m: \u001b[0m\u001b[0;37m120\u001b[0m\u001b[1;37m,\n",
      "    \u001b[0m\u001b[1;34m\"Defense\"\u001b[0m\u001b[1;37m: \u001b[0m\u001b[0;37m95\u001b[0m\u001b[1;37m,\n",
      "    \u001b[0m\u001b[1;34m\"Sp. Atk\"\u001b[0m\u001b[1;37m: \u001b[0m\u001b[0;37m120\u001b[0m\u001b[1;37m,\n",
      "    \u001b[0m\u001b[1;34m\"Sp. Def\"\u001b[0m\u001b[1;37m: \u001b[0m\u001b[0;37m95\u001b[0m\u001b[1;37m,\n",
      "    \u001b[0m\u001b[1;34m\"Speed\"\u001b[0m\u001b[1;37m: \u001b[0m\u001b[0;37m99\u001b[0m\u001b[1;37m,\n",
      "    \u001b[0m\u001b[1;34m\"Generation\"\u001b[0m\u001b[1;37m: \u001b[0m\u001b[0;37m5\u001b[0m\u001b[1;37m,\n",
      "    \u001b[0m\u001b[1;34m\"Legendary\"\u001b[0m\u001b[1;37m: \u001b[0m\u001b[0;37mfalse\u001b[0m\u001b[1;37m\n",
      "  \u001b[1;37m}\u001b[0m\u001b[1;37m\n",
      "\u001b[1;37m]\u001b[0m\n"
     ]
    }
   ],
   "source": [
    "!jq '[ .[] | select(.HP > 70) ] | sort_by(.HP) | .[:3]' pokemon.json"
   ]
  },
  {
   "cell_type": "markdown",
   "id": "f5d3bf5c-e4de-4721-91d2-a2cdcfb271d4",
   "metadata": {},
   "source": [
    "##### 12) Find the pokemons with a `Defense` value greater than 100, sorted by `Defense` in descending mode"
   ]
  },
  {
   "cell_type": "code",
   "execution_count": null,
   "id": "fac0c119-af27-4826-a36d-a1e65685c579",
   "metadata": {},
   "outputs": [],
   "source": []
  },
  {
   "cell_type": "markdown",
   "id": "1e9ecbbb-d64a-4f8d-af69-956f5a183683",
   "metadata": {},
   "source": [
    "Solution:"
   ]
  },
  {
   "cell_type": "code",
   "execution_count": 75,
   "id": "25825106-dbaa-46e8-8b5b-ed437690666b",
   "metadata": {},
   "outputs": [
    {
     "name": "stdout",
     "output_type": "stream",
     "text": [
      "\u001b[1;37m[\n",
      "  \u001b[1;37m{\n",
      "    \u001b[0m\u001b[1;34m\"Name\"\u001b[0m\u001b[1;37m: \u001b[0m\u001b[0;32m\"Shuckle\"\u001b[0m\u001b[1;37m,\n",
      "    \u001b[0m\u001b[1;34m\"Type 1\"\u001b[0m\u001b[1;37m: \u001b[0m\u001b[0;32m\"Bug\"\u001b[0m\u001b[1;37m,\n",
      "    \u001b[0m\u001b[1;34m\"Type 2\"\u001b[0m\u001b[1;37m: \u001b[0m\u001b[0;32m\"Rock\"\u001b[0m\u001b[1;37m,\n",
      "    \u001b[0m\u001b[1;34m\"Total\"\u001b[0m\u001b[1;37m: \u001b[0m\u001b[0;37m505\u001b[0m\u001b[1;37m,\n",
      "    \u001b[0m\u001b[1;34m\"HP\"\u001b[0m\u001b[1;37m: \u001b[0m\u001b[0;37m20\u001b[0m\u001b[1;37m,\n",
      "    \u001b[0m\u001b[1;34m\"Attack\"\u001b[0m\u001b[1;37m: \u001b[0m\u001b[0;37m10\u001b[0m\u001b[1;37m,\n",
      "    \u001b[0m\u001b[1;34m\"Defense\"\u001b[0m\u001b[1;37m: \u001b[0m\u001b[0;37m230\u001b[0m\u001b[1;37m,\n",
      "    \u001b[0m\u001b[1;34m\"Sp. Atk\"\u001b[0m\u001b[1;37m: \u001b[0m\u001b[0;37m10\u001b[0m\u001b[1;37m,\n",
      "    \u001b[0m\u001b[1;34m\"Sp. Def\"\u001b[0m\u001b[1;37m: \u001b[0m\u001b[0;37m230\u001b[0m\u001b[1;37m,\n",
      "    \u001b[0m\u001b[1;34m\"Speed\"\u001b[0m\u001b[1;37m: \u001b[0m\u001b[0;37m5\u001b[0m\u001b[1;37m,\n",
      "    \u001b[0m\u001b[1;34m\"Generation\"\u001b[0m\u001b[1;37m: \u001b[0m\u001b[0;37m2\u001b[0m\u001b[1;37m,\n",
      "    \u001b[0m\u001b[1;34m\"Legendary\"\u001b[0m\u001b[1;37m: \u001b[0m\u001b[0;37mfalse\u001b[0m\u001b[1;37m\n",
      "  \u001b[1;37m}\u001b[0m\u001b[1;37m,\n",
      "  \u001b[1;37m{\n",
      "    \u001b[0m\u001b[1;34m\"Name\"\u001b[0m\u001b[1;37m: \u001b[0m\u001b[0;32m\"Regirock\"\u001b[0m\u001b[1;37m,\n",
      "    \u001b[0m\u001b[1;34m\"Type 1\"\u001b[0m\u001b[1;37m: \u001b[0m\u001b[0;32m\"Rock\"\u001b[0m\u001b[1;37m,\n",
      "    \u001b[0m\u001b[1;34m\"Type 2\"\u001b[0m\u001b[1;37m: \u001b[0m\u001b[0;90mnull\u001b[0m\u001b[1;37m,\n",
      "    \u001b[0m\u001b[1;34m\"Total\"\u001b[0m\u001b[1;37m: \u001b[0m\u001b[0;37m580\u001b[0m\u001b[1;37m,\n",
      "    \u001b[0m\u001b[1;34m\"HP\"\u001b[0m\u001b[1;37m: \u001b[0m\u001b[0;37m80\u001b[0m\u001b[1;37m,\n",
      "    \u001b[0m\u001b[1;34m\"Attack\"\u001b[0m\u001b[1;37m: \u001b[0m\u001b[0;37m100\u001b[0m\u001b[1;37m,\n",
      "    \u001b[0m\u001b[1;34m\"Defense\"\u001b[0m\u001b[1;37m: \u001b[0m\u001b[0;37m200\u001b[0m\u001b[1;37m,\n",
      "    \u001b[0m\u001b[1;34m\"Sp. Atk\"\u001b[0m\u001b[1;37m: \u001b[0m\u001b[0;37m50\u001b[0m\u001b[1;37m,\n",
      "    \u001b[0m\u001b[1;34m\"Sp. Def\"\u001b[0m\u001b[1;37m: \u001b[0m\u001b[0;37m100\u001b[0m\u001b[1;37m,\n",
      "    \u001b[0m\u001b[1;34m\"Speed\"\u001b[0m\u001b[1;37m: \u001b[0m\u001b[0;37m50\u001b[0m\u001b[1;37m,\n",
      "    \u001b[0m\u001b[1;34m\"Generation\"\u001b[0m\u001b[1;37m: \u001b[0m\u001b[0;37m3\u001b[0m\u001b[1;37m,\n",
      "    \u001b[0m\u001b[1;34m\"Legendary\"\u001b[0m\u001b[1;37m: \u001b[0m\u001b[0;37mtrue\u001b[0m\u001b[1;37m\n",
      "  \u001b[1;37m}\u001b[0m\u001b[1;37m,\n",
      "  \u001b[1;37m{\n",
      "    \u001b[0m\u001b[1;34m\"Name\"\u001b[0m\u001b[1;37m: \u001b[0m\u001b[0;32m\"Steelix\"\u001b[0m\u001b[1;37m,\n",
      "    \u001b[0m\u001b[1;34m\"Type 1\"\u001b[0m\u001b[1;37m: \u001b[0m\u001b[0;32m\"Steel\"\u001b[0m\u001b[1;37m,\n",
      "    \u001b[0m\u001b[1;34m\"Type 2\"\u001b[0m\u001b[1;37m: \u001b[0m\u001b[0;32m\"Ground\"\u001b[0m\u001b[1;37m,\n",
      "    \u001b[0m\u001b[1;34m\"Total\"\u001b[0m\u001b[1;37m: \u001b[0m\u001b[0;37m510\u001b[0m\u001b[1;37m,\n",
      "    \u001b[0m\u001b[1;34m\"HP\"\u001b[0m\u001b[1;37m: \u001b[0m\u001b[0;37m75\u001b[0m\u001b[1;37m,\n",
      "    \u001b[0m\u001b[1;34m\"Attack\"\u001b[0m\u001b[1;37m: \u001b[0m\u001b[0;37m85\u001b[0m\u001b[1;37m,\n",
      "    \u001b[0m\u001b[1;34m\"Defense\"\u001b[0m\u001b[1;37m: \u001b[0m\u001b[0;37m200\u001b[0m\u001b[1;37m,\n",
      "    \u001b[0m\u001b[1;34m\"Sp. Atk\"\u001b[0m\u001b[1;37m: \u001b[0m\u001b[0;37m55\u001b[0m\u001b[1;37m,\n",
      "    \u001b[0m\u001b[1;34m\"Sp. Def\"\u001b[0m\u001b[1;37m: \u001b[0m\u001b[0;37m65\u001b[0m\u001b[1;37m,\n",
      "    \u001b[0m\u001b[1;34m\"Speed\"\u001b[0m\u001b[1;37m: \u001b[0m\u001b[0;37m30\u001b[0m\u001b[1;37m,\n",
      "    \u001b[0m\u001b[1;34m\"Generation\"\u001b[0m\u001b[1;37m: \u001b[0m\u001b[0;37m2\u001b[0m\u001b[1;37m,\n",
      "    \u001b[0m\u001b[1;34m\"Legendary\"\u001b[0m\u001b[1;37m: \u001b[0m\u001b[0;37mfalse\u001b[0m\u001b[1;37m\n",
      "  \u001b[1;37m}\u001b[0m\u001b[1;37m,\n",
      "  \u001b[1;37m{\n",
      "    \u001b[0m\u001b[1;34m\"Name\"\u001b[0m\u001b[1;37m: \u001b[0m\u001b[0;32m\"Avalugg\"\u001b[0m\u001b[1;37m,\n",
      "    \u001b[0m\u001b[1;34m\"Type 1\"\u001b[0m\u001b[1;37m: \u001b[0m\u001b[0;32m\"Ice\"\u001b[0m\u001b[1;37m,\n",
      "    \u001b[0m\u001b[1;34m\"Type 2\"\u001b[0m\u001b[1;37m: \u001b[0m\u001b[0;90mnull\u001b[0m\u001b[1;37m,\n",
      "    \u001b[0m\u001b[1;34m\"Total\"\u001b[0m\u001b[1;37m: \u001b[0m\u001b[0;37m514\u001b[0m\u001b[1;37m,\n",
      "    \u001b[0m\u001b[1;34m\"HP\"\u001b[0m\u001b[1;37m: \u001b[0m\u001b[0;37m95\u001b[0m\u001b[1;37m,\n",
      "    \u001b[0m\u001b[1;34m\"Attack\"\u001b[0m\u001b[1;37m: \u001b[0m\u001b[0;37m117\u001b[0m\u001b[1;37m,\n",
      "    \u001b[0m\u001b[1;34m\"Defense\"\u001b[0m\u001b[1;37m: \u001b[0m\u001b[0;37m184\u001b[0m\u001b[1;37m,\n",
      "    \u001b[0m\u001b[1;34m\"Sp. Atk\"\u001b[0m\u001b[1;37m: \u001b[0m\u001b[0;37m44\u001b[0m\u001b[1;37m,\n",
      "    \u001b[0m\u001b[1;34m\"Sp. Def\"\u001b[0m\u001b[1;37m: \u001b[0m\u001b[0;37m46\u001b[0m\u001b[1;37m,\n",
      "    \u001b[0m\u001b[1;34m\"Speed\"\u001b[0m\u001b[1;37m: \u001b[0m\u001b[0;37m28\u001b[0m\u001b[1;37m,\n",
      "    \u001b[0m\u001b[1;34m\"Generation\"\u001b[0m\u001b[1;37m: \u001b[0m\u001b[0;37m6\u001b[0m\u001b[1;37m,\n",
      "    \u001b[0m\u001b[1;34m\"Legendary\"\u001b[0m\u001b[1;37m: \u001b[0m\u001b[0;37mfalse\u001b[0m\u001b[1;37m\n",
      "  \u001b[1;37m}\u001b[0m\u001b[1;37m,\n",
      "  \u001b[1;37m{\n",
      "    \u001b[0m\u001b[1;34m\"Name\"\u001b[0m\u001b[1;37m: \u001b[0m\u001b[0;32m\"Aggron\"\u001b[0m\u001b[1;37m,\n",
      "    \u001b[0m\u001b[1;34m\"Type 1\"\u001b[0m\u001b[1;37m: \u001b[0m\u001b[0;32m\"Steel\"\u001b[0m\u001b[1;37m,\n",
      "    \u001b[0m\u001b[1;34m\"Type 2\"\u001b[0m\u001b[1;37m: \u001b[0m\u001b[0;32m\"Rock\"\u001b[0m\u001b[1;37m,\n",
      "    \u001b[0m\u001b[1;34m\"Total\"\u001b[0m\u001b[1;37m: \u001b[0m\u001b[0;37m530\u001b[0m\u001b[1;37m,\n",
      "    \u001b[0m\u001b[1;34m\"HP\"\u001b[0m\u001b[1;37m: \u001b[0m\u001b[0;37m70\u001b[0m\u001b[1;37m,\n",
      "    \u001b[0m\u001b[1;34m\"Attack\"\u001b[0m\u001b[1;37m: \u001b[0m\u001b[0;37m110\u001b[0m\u001b[1;37m,\n",
      "    \u001b[0m\u001b[1;34m\"Defense\"\u001b[0m\u001b[1;37m: \u001b[0m\u001b[0;37m180\u001b[0m\u001b[1;37m,\n",
      "    \u001b[0m\u001b[1;34m\"Sp. Atk\"\u001b[0m\u001b[1;37m: \u001b[0m\u001b[0;37m60\u001b[0m\u001b[1;37m,\n",
      "    \u001b[0m\u001b[1;34m\"Sp. Def\"\u001b[0m\u001b[1;37m: \u001b[0m\u001b[0;37m60\u001b[0m\u001b[1;37m,\n",
      "    \u001b[0m\u001b[1;34m\"Speed\"\u001b[0m\u001b[1;37m: \u001b[0m\u001b[0;37m50\u001b[0m\u001b[1;37m,\n",
      "    \u001b[0m\u001b[1;34m\"Generation\"\u001b[0m\u001b[1;37m: \u001b[0m\u001b[0;37m3\u001b[0m\u001b[1;37m,\n",
      "    \u001b[0m\u001b[1;34m\"Legendary\"\u001b[0m\u001b[1;37m: \u001b[0m\u001b[0;37mfalse\u001b[0m\u001b[1;37m\n",
      "  \u001b[1;37m}\u001b[0m\u001b[1;37m\n",
      "\u001b[1;37m]\u001b[0m\n"
     ]
    }
   ],
   "source": [
    "!jq '[ .[] | select(.Defense > 100) ] | sort_by(.Defense) | reverse | .[0:5]' pokemon.json"
   ]
  },
  {
   "cell_type": "markdown",
   "id": "6407d4b5-f579-40d0-b579-965941c82921",
   "metadata": {},
   "source": [
    "### Advance uses"
   ]
  },
  {
   "cell_type": "markdown",
   "id": "262d68a3-8efd-44d7-b0f5-3eee30aae4f3",
   "metadata": {},
   "source": [
    "##### 13) Use `reduce` to calculate how many pokemons are legendary?"
   ]
  },
  {
   "cell_type": "code",
   "execution_count": null,
   "id": "ec0c9e61-a696-4c40-b3f4-aa4b420e0300",
   "metadata": {},
   "outputs": [],
   "source": []
  },
  {
   "cell_type": "markdown",
   "id": "490c59c7-952a-4a04-a5ca-4e6d4ad98d8f",
   "metadata": {},
   "source": [
    "Solution:"
   ]
  },
  {
   "cell_type": "code",
   "execution_count": 76,
   "id": "c2173cae-7036-4d14-a228-402630645a09",
   "metadata": {},
   "outputs": [
    {
     "name": "stdout",
     "output_type": "stream",
     "text": [
      "\u001b[0;37m46\u001b[0m\n"
     ]
    }
   ],
   "source": [
    "!jq 'reduce .[] as $item (0; . + if $item.Legendary then 1 else 0 end)' pokemon.json"
   ]
  }
 ],
 "metadata": {
  "kernelspec": {
   "display_name": "Python 3 (ipykernel)",
   "language": "python",
   "name": "python3"
  },
  "language_info": {
   "codemirror_mode": {
    "name": "ipython",
    "version": 3
   },
   "file_extension": ".py",
   "mimetype": "text/x-python",
   "name": "python",
   "nbconvert_exporter": "python",
   "pygments_lexer": "ipython3",
   "version": "3.11.4"
  }
 },
 "nbformat": 4,
 "nbformat_minor": 5
}
